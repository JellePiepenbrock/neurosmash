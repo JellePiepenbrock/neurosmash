{
  "nbformat": 4,
  "nbformat_minor": 0,
  "metadata": {
    "colab": {
      "name": "VAE.ipynb",
      "provenance": [],
      "collapsed_sections": [
        "mBu3MfoI3uqu",
        "hgBTzCLNnfGm",
        "M0qklfnJ2uf6"
      ],
      "machine_shape": "hm",
      "include_colab_link": true
    },
    "kernelspec": {
      "name": "python3",
      "display_name": "Python 3"
    },
    "accelerator": "GPU"
  },
  "cells": [
    {
      "cell_type": "markdown",
      "metadata": {
        "id": "view-in-github",
        "colab_type": "text"
      },
      "source": [
        "<a href=\"https://colab.research.google.com/github/JellePiepenbrock/neurosmash/blob/master/VAE.ipynb\" target=\"_parent\"><img src=\"https://colab.research.google.com/assets/colab-badge.svg\" alt=\"Open In Colab\"/></a>"
      ]
    },
    {
      "cell_type": "code",
      "metadata": {
        "id": "_91uizYrFu6h",
        "colab_type": "code",
        "colab": {}
      },
      "source": [
        "from google.colab import drive\n",
        "from IPython.display import clear_output\n",
        "import os, sys\n",
        "\n",
        "drive.mount('/content/gdrive/')\n",
        "sys.path.append('/content/gdrive/My Drive/projects/entity_tagging/')\n",
        "\n",
        "base_url = '/content//gdrive/My Drive/projects/NIPS/'\n",
        "\n",
        "clear_output()"
      ],
      "execution_count": 0,
      "outputs": []
    },
    {
      "cell_type": "markdown",
      "metadata": {
        "id": "Rk6A_Pnt36c9",
        "colab_type": "text"
      },
      "source": [
        "## Beta VAE"
      ]
    },
    {
      "cell_type": "code",
      "metadata": {
        "id": "K1bTDW4g35_t",
        "colab_type": "code",
        "colab": {}
      },
      "source": [
        "\"\"\"model.py\"\"\"\n",
        "\n",
        "import torch\n",
        "import torch.nn as nn\n",
        "#import torch.nn.functional as F\n",
        "import torch.nn.init as init\n",
        "from torch.autograd import Variable\n",
        "\n",
        "\n",
        "def reparametrize(mu, logvar):\n",
        "    std = logvar.div(2).exp()\n",
        "    eps = Variable(std.data.new(std.size()).normal_())\n",
        "    return mu + std*eps\n",
        "\n",
        "\n",
        "class View(nn.Module):\n",
        "    def __init__(self, size):\n",
        "        super(View, self).__init__()\n",
        "        self.size = size\n",
        "\n",
        "    def forward(self, tensor):\n",
        "        return tensor.view(self.size)\n",
        "\n",
        "\n",
        "class BetaVAE_H(nn.Module):\n",
        "    \"\"\"Model proposed in original beta-VAE paper(Higgins et al, ICLR, 2017).\"\"\"\n",
        "\n",
        "    def __init__(self, z_dim=10, nc=3):\n",
        "        super(BetaVAE_H, self).__init__()\n",
        "        self.z_dim = z_dim\n",
        "        self.nc = nc\n",
        "        self.encoder = nn.Sequential(\n",
        "            nn.Conv2d(nc, 32, 4, 2, 1),          # B,  32, 32, 32\n",
        "            nn.ReLU(True),\n",
        "            nn.Conv2d(32, 32, 4, 2, 1),          # B,  32, 16, 16\n",
        "            nn.ReLU(True),\n",
        "            nn.Conv2d(32, 64, 4, 2, 1),          # B,  64,  8,  8\n",
        "            nn.ReLU(True),\n",
        "            nn.Conv2d(64, 64, 4, 2, 1),          # B,  64,  4,  4\n",
        "            nn.ReLU(True),\n",
        "            nn.Conv2d(64, 256, 4, 1),            # B, 256,  1,  1\n",
        "            nn.ReLU(True),\n",
        "            View((-1, 256*1*1)),                 # B, 256\n",
        "            nn.Linear(256, z_dim*2),             # B, z_dim*2\n",
        "        )\n",
        "\n",
        "        model_parameters = filter(lambda p: p.requires_grad, self.encoder.parameters())\n",
        "        params = sum([np.prod(p.size()) for p in model_parameters])\n",
        "        print('Trainable parameters encoder: ', params)\n",
        "        \n",
        "        self.decoder = nn.Sequential(\n",
        "            nn.Linear(z_dim, 64),               # B, 256\n",
        "            View((-1, 64, 1, 1)),               # B, 256,  1,  1\n",
        "            nn.ReLU(True),\n",
        "            nn.ConvTranspose2d(64, 32, 4),      # B,  64,  4,  4\n",
        "            nn.ReLU(True),\n",
        "            nn.ConvTranspose2d(32, 16, 4, 2, 1), # B,  64,  8,  8\n",
        "            nn.ReLU(True),\n",
        "            nn.ConvTranspose2d(16, 8, 4, 2, 1), # B,  32, 16, 16\n",
        "            nn.ReLU(True),\n",
        "            nn.ConvTranspose2d(8, 8, 4, 2, 1), # B,  32, 32, 32\n",
        "            nn.ReLU(True),\n",
        "            nn.ConvTranspose2d(8, nc, 4, 2, 1),  # B, nc, 64, 64\n",
        "        )\n",
        "\n",
        "        model_parameters = filter(lambda p: p.requires_grad, self.decoder.parameters())\n",
        "        params = sum([np.prod(p.size()) for p in model_parameters])\n",
        "        print('Trainable parameters encoder: ', params)\n",
        "\n",
        "        self.weight_init()\n",
        "\n",
        "    def weight_init(self):\n",
        "        for block in self._modules:\n",
        "            for m in self._modules[block]:\n",
        "                kaiming_init(m)\n",
        "\n",
        "    def forward(self, x):\n",
        "        distributions = self._encode(x)\n",
        "        mu = distributions[:, :self.z_dim]\n",
        "        logvar = distributions[:, self.z_dim:]\n",
        "        z = reparametrize(mu, logvar)\n",
        "        x_recon = self._decode(z)\n",
        "\n",
        "        return x_recon, mu, logvar\n",
        "\n",
        "    def _encode(self, x):\n",
        "        return self.encoder(x)\n",
        "\n",
        "    def _decode(self, z):\n",
        "        return self.decoder(z)\n",
        "\n",
        "\n",
        "def kaiming_init(m):\n",
        "    if isinstance(m, (nn.Linear, nn.Conv2d)):\n",
        "        init.kaiming_normal(m.weight)\n",
        "        if m.bias is not None:\n",
        "            m.bias.data.fill_(0)\n",
        "    elif isinstance(m, (nn.BatchNorm1d, nn.BatchNorm2d)):\n",
        "        m.weight.data.fill_(1)\n",
        "        if m.bias is not None:\n",
        "            m.bias.data.fill_(0)\n",
        "\n",
        "\n",
        "def normal_init(m, mean, std):\n",
        "    if isinstance(m, (nn.Linear, nn.Conv2d)):\n",
        "        m.weight.data.normal_(mean, std)\n",
        "        if m.bias.data is not None:\n",
        "            m.bias.data.zero_()\n",
        "    elif isinstance(m, (nn.BatchNorm2d, nn.BatchNorm1d)):\n",
        "        m.weight.data.fill_(1)\n",
        "        if m.bias.data is not None:\n",
        "            m.bias.data.zero_()"
      ],
      "execution_count": 0,
      "outputs": []
    },
    {
      "cell_type": "code",
      "metadata": {
        "id": "KhOb06em4TuH",
        "colab_type": "code",
        "outputId": "28870615-52aa-4c7e-e77c-34dd4af5105b",
        "colab": {
          "base_uri": "https://localhost:8080/",
          "height": 1000
        }
      },
      "source": [
        "import seaborn as sns\n",
        "import matplotlib.pyplot as plt\n",
        "from torch.optim import Adam\n",
        "from PIL import Image\n",
        "import torch.nn.functional as F\n",
        "import numpy as np\n",
        "import torch\n",
        "from torch.autograd import Variable\n",
        "from torch.distributions import Categorical\n",
        "from random import randint\n",
        "\n",
        "import matplotlib.pyplot as plt\n",
        "import matplotlib.image as mpimg\n",
        "from skimage import io, transform\n",
        "import cv2\n",
        "\n",
        "%matplotlib inline\n",
        "\n",
        "from torchvision.utils import save_image\n",
        "device = torch.device('cuda')\n",
        "\n",
        "batch_size = 64\n",
        "\n",
        "objective = 'H'\n",
        "beta = 2\n",
        "lr =  1e-4\n",
        "z_dim =  32\n",
        "max_iter =  1.5e6\n",
        "decoder_dist = 'gaussian'\n",
        "\n",
        "vae = BetaVAE_H(nc=3, z_dim=z_dim)\n",
        "vae = vae.to(device)\n",
        "optimizer = torch.optim.Adam(vae.parameters(), lr=lr, betas=(0.9, 0.999))\n",
        "print('Loaded model.')\n",
        "\n",
        "# https://github.com/1Konny/Beta-VAE/blob/master/solver.py \n",
        "\n",
        "def mse_loss(input, target):\n",
        "    return torch.sum((input - target) ** 2)\n",
        "\n",
        "def weighted_mse_loss(input, target, weight):\n",
        "    return torch.sum(weight * (input - target) ** 2)\n",
        "\n",
        "def reconstruction_loss(x, x_recon, weights, distribution):\n",
        "    batch_size = x.size(0)\n",
        "    assert batch_size != 0\n",
        "\n",
        "    if distribution == 'bernoulli':\n",
        "        recon_loss = F.binary_cross_entropy_with_logits(x_recon, x, size_average=False).div(batch_size)\n",
        "    elif distribution == 'gaussian':\n",
        "        # x_recon = F.sigmoid(x_recon)\n",
        "        recon_loss = weighted_mse_loss(x_recon, x, weight=weights).sum() #F.mse_loss(x_recon, x, weights=weights, reduction='sum').div(batch_size)#, size_average=False).div(batch_size)\n",
        "    else:\n",
        "        recon_loss = None\n",
        "\n",
        "    return recon_loss\n",
        "\n",
        "\n",
        "def kl_divergence(mu, logvar):\n",
        "    batch_size = mu.size(0)\n",
        "    assert batch_size != 0\n",
        "    if mu.data.ndimension() == 4:\n",
        "        mu = mu.view(mu.size(0), mu.size(1))\n",
        "    if logvar.data.ndimension() == 4:\n",
        "        logvar = logvar.view(logvar.size(0), logvar.size(1))\n",
        "\n",
        "    klds = -0.5*(1 + logvar - mu.pow(2) - logvar.exp())\n",
        "    total_kld = klds.sum(1).mean(0, True)\n",
        "    dimension_wise_kld = klds.mean(0)\n",
        "    mean_kld = klds.mean(1).mean(0, True)\n",
        "\n",
        "    return total_kld, dimension_wise_kld, mean_kld\n",
        "\n",
        "\n",
        "def compare(x):\n",
        "    recon_x, _, _ = vae(x)\n",
        "    return torch.cat([x, recon_x])\n",
        "\n",
        "def max_rgb_filter(image):\n",
        "\t# split the image into its BGR components\n",
        "\t(R, G, B) = cv2.split(image)\n",
        " \n",
        "\t# find the maximum pixel intensity values for each\n",
        "\t# (x, y)-coordinate,, then set all pixel values less\n",
        "\t# than M to zero\n",
        "\tM = np.maximum(np.maximum(R, G), B)\n",
        "\tR[R < M] = 0\n",
        "\tG[G < M] = 0\n",
        "\tB[B < M] = 0\n",
        " \n",
        "\t# merge the channels back together and return the image\n",
        "\treturn cv2.merge([R, G, B])\n",
        "def main(episodes):\n",
        "    dataset = None\n",
        "    for i in range(1):\n",
        "        if dataset is None:\n",
        "            dataset = torch.load('{}/data/training_data_{}.pt'.format(base_url, i)) / 255\n",
        "        else:\n",
        "            dataset = torch.cat((dataset, torch.load('{}/data/training_data_{}.pt'.format(base_url, i)) / 255))\n",
        "    \n",
        "    test_dataset = torch.load('{}/data/training_data_{}.pt'.format(base_url, i+1)) / 255\n",
        "    dataset = np.array([np.transpose(x.data.numpy(), (1,2,0)) for x in dataset])  \n",
        "\n",
        "    if mode == 'ext':\n",
        "        dataset = [max_rgb_filter(np.uint8(x*255)) for x in dataset]\n",
        "        dataset = np.transpose(dataset, (0, 3, 1, 2))\n",
        "        dataset[:,0,:,:] *= 0\n",
        "    elif mode == 'canny':\n",
        "        filters = [cv2.Canny(np.uint8(x_*255*255), 100, 200) for x_ in dataset]\n",
        "        dataset = np.array([cv2.bitwise_and(x_, x_, mask=f) for x_, f in zip(dataset, filters)])\n",
        "        dataset = np.transpose(dataset, (0, 3, 1, 2))\n",
        "    elif mode == 'filter':\n",
        "        filters = np.repeat(np.array([np.array(cv2.Canny(np.uint8(x_*255*255), 100, 200)) for x_ in dataset]).reshape(-1, 1, 64, 64), 3, axis=1)\n",
        "        dataset = np.transpose(dataset, (0, 3, 1, 2))\n",
        "        dataset = np.array([np.array([x, f]) for x,f in zip(dataset, filters)])\n",
        "\n",
        "    dataset = torch.from_numpy(dataset).float() #/ 255\n",
        "\n",
        "    # dataset = dataset[:100]\n",
        "    # # Divide by 255\n",
        "    dataloader = torch.utils.data.DataLoader(dataset, batch_size=batch_size, shuffle=True)\n",
        "    test_dataloader = torch.utils.data.DataLoader(test_dataset, batch_size=batch_size, shuffle=False)\n",
        "\n",
        "    epochs = 125\n",
        "    print(dataset.shape, test_dataset.shape)\n",
        "    for epoch in range(epochs):\n",
        "        losses = [] \n",
        "        for i, batch in enumerate(dataloader):\n",
        "            optimizer.zero_grad()\n",
        "\n",
        "            f = (batch[:,1,:,:,:].squeeze()).to(device)\n",
        "            f[f == 0] = 0.05\n",
        "            f[f == 255] = 10\n",
        "\n",
        "            b = batch[:,0,:,:,:].squeeze().to(device)\n",
        "\n",
        "            x_recon, mu, logvar = vae(b)\n",
        "            recon_loss = reconstruction_loss(b, x_recon, f, decoder_dist)\n",
        "            total_kld, dim_wise_kld, mean_kld = kl_divergence(mu, logvar)\n",
        "\n",
        "            loss = recon_loss + beta*total_kld\n",
        "            # elif objective == 'B':\n",
        "            #     C = torch.clamp(self.C_max/self.C_stop_iter*self.global_iter, 0, self.C_max.data[0])\n",
        "            #     beta_vae_loss = recon_loss + self.gamma*(total_kld-C).abs()\n",
        "            \n",
        "            optimizer.zero_grad()\n",
        "            loss.backward()\n",
        "            optimizer.step()\n",
        "        if epoch == 100:\n",
        "            print('reducing lr')\n",
        "            for param_group in optimizer.param_groups:\n",
        "                param_group['lr'] = 1e-4\n",
        "        print('Epoch {}, loss {}'.format(epoch+1, loss.item() / batch_size))\n",
        "        if epoch % 5 == 0:\n",
        "            fixed_x = b[randint(0, len(b)-1)].unsqueeze(0)\n",
        "            compare_x = compare(fixed_x.to(device))\n",
        "            \n",
        "            # print(torch.stack(, compare_x).shape)\n",
        "            save_image(compare_x.data.cpu(), '{}/neurosmash/images/sample_image_epoch_{}.png'.format(base_url, epoch))\n",
        "\n",
        "            # Show final result. \n",
        "            img = mpimg.imread('{}/neurosmash/images/sample_image_epoch_{}.png'.format(base_url, epoch))\n",
        "            imgplot = plt.imshow(img.squeeze())\n",
        "            plt.show()\n",
        "    \n",
        "    print('Predicting test set:')\n",
        "    for i, batch in enumerate(test_dataloader):\n",
        "        if i > 10:\n",
        "            break\n",
        "        b = b.to(device)\n",
        "        recon_images, mu, logvar = vae(b)\n",
        "\n",
        "        fixed_x = b[randint(0, len(b)-1)].unsqueeze(0)\n",
        "        compare_x = compare(fixed_x.to(device))\n",
        "        \n",
        "        save_image(compare_x.data.cpu(), '{}/neurosmash/images/sample_image_test_epoch_{}.png'.format(base_url, epoch))\n",
        "\n",
        "        # Show final result. \n",
        "        img = mpimg.imread('{}/neurosmash/images/sample_image_test_epoch_{}.png'.format(base_url, epoch))\n",
        "        imgplot = plt.imshow(img.squeeze())\n",
        "        plt.show()\n",
        "\n",
        "    # Store model. \n",
        "    torch.save(vae.state_dict(), 'b_vae.torch')\n",
        "main(50)"
      ],
      "execution_count": 14,
      "outputs": [
        {
          "output_type": "stream",
          "text": [
            "Trainable parameters encoder:  395264\n",
            "Trainable parameters encoder:  46595\n",
            "Loaded model.\n"
          ],
          "name": "stdout"
        },
        {
          "output_type": "stream",
          "text": [
            "/usr/local/lib/python3.6/dist-packages/ipykernel_launcher.py:95: UserWarning: nn.init.kaiming_normal is now deprecated in favor of nn.init.kaiming_normal_.\n"
          ],
          "name": "stderr"
        },
        {
          "output_type": "stream",
          "text": [
            "torch.Size([14668, 2, 3, 64, 64]) torch.Size([14894, 3, 64, 64])\n",
            "Epoch 1, loss 3.2277350425720215\n"
          ],
          "name": "stdout"
        },
        {
          "output_type": "display_data",
          "data": {
            "image/png": "[encoded data removed]",
            "text/plain": [
              "<Figure size 432x288 with 1 Axes>"
            ]
          },
          "metadata": {
            "tags": []
          }
        },
        {
          "output_type": "stream",
          "text": [
            "Epoch 2, loss 1.3971277475357056\n",
            "Epoch 3, loss 1.0384852886199951\n",
            "Epoch 4, loss 0.8028517365455627\n",
            "Epoch 5, loss 0.7536361813545227\n",
            "Epoch 6, loss 0.6225621700286865\n"
          ],
          "name": "stdout"
        },
        {
          "output_type": "display_data",
          "data": {
            "image/png": "[encoded data removed]",
            "text/plain": [
              "<Figure size 432x288 with 1 Axes>"
            ]
          },
          "metadata": {
            "tags": []
          }
        },
        {
          "output_type": "stream",
          "text": [
            "Epoch 7, loss 0.6777111291885376\n",
            "Epoch 8, loss 0.6707649827003479\n",
            "Epoch 9, loss 0.5733792185783386\n",
            "Epoch 10, loss 0.4377155303955078\n",
            "Epoch 11, loss 0.42627036571502686\n"
          ],
          "name": "stdout"
        },
        {
          "output_type": "display_data",
          "data": {
            "image/png": "[encoded data removed]",
            "text/plain": [
              "<Figure size 432x288 with 1 Axes>"
            ]
          },
          "metadata": {
            "tags": []
          }
        },
        {
          "output_type": "stream",
          "text": [
            "Epoch 12, loss 0.4297649562358856\n",
            "Epoch 13, loss 0.39993733167648315\n",
            "Epoch 14, loss 0.46536558866500854\n",
            "Epoch 15, loss 0.42677778005599976\n",
            "Epoch 16, loss 0.3669317364692688\n"
          ],
          "name": "stdout"
        },
        {
          "output_type": "display_data",
          "data": {
            "image/png": "[encoded data removed]",
            "text/plain": [
              "<Figure size 432x288 with 1 Axes>"
            ]
          },
          "metadata": {
            "tags": []
          }
        },
        {
          "output_type": "stream",
          "text": [
            "Epoch 17, loss 0.34990012645721436\n",
            "Epoch 18, loss 0.36904630064964294\n",
            "Epoch 19, loss 0.3459274470806122\n",
            "Epoch 20, loss 0.2953634560108185\n",
            "Epoch 21, loss 0.25213900208473206\n"
          ],
          "name": "stdout"
        },
        {
          "output_type": "display_data",
          "data": {
            "image/png": "[encoded data removed]",
            "text/plain": [
              "<Figure size 432x288 with 1 Axes>"
            ]
          },
          "metadata": {
            "tags": []
          }
        },
        {
          "output_type": "stream",
          "text": [
            "Epoch 22, loss 0.23073309659957886\n",
            "Epoch 23, loss 0.25700560212135315\n",
            "Epoch 24, loss 0.2570097744464874\n",
            "Epoch 25, loss 0.2423814982175827\n",
            "Epoch 26, loss 0.23016221821308136\n"
          ],
          "name": "stdout"
        },
        {
          "output_type": "display_data",
          "data": {
            "image/png": "[encoded data removed]",
            "text/plain": [
              "<Figure size 432x288 with 1 Axes>"
            ]
          },
          "metadata": {
            "tags": []
          }
        },
        {
          "output_type": "stream",
          "text": [
            "Epoch 27, loss 0.25088179111480713\n",
            "Epoch 28, loss 0.21334604918956757\n",
            "Epoch 29, loss 0.2178840935230255\n",
            "Epoch 30, loss 0.1948496550321579\n",
            "Epoch 31, loss 0.23444142937660217\n"
          ],
          "name": "stdout"
        },
        {
          "output_type": "display_data",
          "data": {
            "image/png": "[encoded data removed]",
            "text/plain": [
              "<Figure size 432x288 with 1 Axes>"
            ]
          },
          "metadata": {
            "tags": []
          }
        },
        {
          "output_type": "stream",
          "text": [
            "Epoch 32, loss 0.19345009326934814\n",
            "Epoch 33, loss 0.20008233189582825\n",
            "Epoch 34, loss 0.19249124825000763\n",
            "Epoch 35, loss 0.1832152158021927\n",
            "Epoch 36, loss 0.19995787739753723\n"
          ],
          "name": "stdout"
        },
        {
          "output_type": "display_data",
          "data": {
            "image/png": "[encoded data removed]",
            "text/plain": [
              "<Figure size 432x288 with 1 Axes>"
            ]
          },
          "metadata": {
            "tags": []
          }
        },
        {
          "output_type": "stream",
          "text": [
            "Epoch 37, loss 0.20296911895275116\n",
            "Epoch 38, loss 0.20184776186943054\n",
            "Epoch 39, loss 0.1739642173051834\n",
            "Epoch 40, loss 0.21455250680446625\n",
            "Epoch 41, loss 0.17988334596157074\n"
          ],
          "name": "stdout"
        },
        {
          "output_type": "display_data",
          "data": {
            "image/png": "[encoded data removed]",
            "text/plain": [
              "<Figure size 432x288 with 1 Axes>"
            ]
          },
          "metadata": {
            "tags": []
          }
        },
        {
          "output_type": "stream",
          "text": [
            "Epoch 42, loss 0.20288866758346558\n",
            "Epoch 43, loss 0.16099385917186737\n",
            "Epoch 44, loss 0.18321983516216278\n",
            "Epoch 45, loss 0.19928039610385895\n",
            "Epoch 46, loss 0.2121114730834961\n"
          ],
          "name": "stdout"
        },
        {
          "output_type": "display_data",
          "data": {
            "image/png": "[encoded data removed]",
            "text/plain": [
              "<Figure size 432x288 with 1 Axes>"
            ]
          },
          "metadata": {
            "tags": []
          }
        },
        {
          "output_type": "stream",
          "text": [
            "Epoch 47, loss 0.19537828862667084\n",
            "Epoch 48, loss 0.19279855489730835\n",
            "Epoch 49, loss 0.16586008667945862\n",
            "Epoch 50, loss 0.15787553787231445\n",
            "Epoch 51, loss 0.15788546204566956\n"
          ],
          "name": "stdout"
        },
        {
          "output_type": "display_data",
          "data": {
            "image/png": "[encoded data removed]",
            "text/plain": [
              "<Figure size 432x288 with 1 Axes>"
            ]
          },
          "metadata": {
            "tags": []
          }
        },
        {
          "output_type": "stream",
          "text": [
            "Epoch 52, loss 0.17108896374702454\n",
            "Epoch 53, loss 0.18020543456077576\n",
            "Epoch 54, loss 0.14565236866474152\n",
            "Epoch 55, loss 0.22855599224567413\n",
            "Epoch 56, loss 0.18149453401565552\n"
          ],
          "name": "stdout"
        },
        {
          "output_type": "display_data",
          "data": {
            "image/png": "[encoded data removed]",
            "text/plain": [
              "<Figure size 432x288 with 1 Axes>"
            ]
          },
          "metadata": {
            "tags": []
          }
        },
        {
          "output_type": "stream",
          "text": [
            "Epoch 57, loss 0.17727985978126526\n",
            "Epoch 58, loss 0.1788894385099411\n",
            "Epoch 59, loss 0.1922236979007721\n",
            "Epoch 60, loss 0.1778070330619812\n",
            "Epoch 61, loss 0.16230621933937073\n"
          ],
          "name": "stdout"
        },
        {
          "output_type": "display_data",
          "data": {
            "image/png": "[encoded data removed]",
            "text/plain": [
              "<Figure size 432x288 with 1 Axes>"
            ]
          },
          "metadata": {
            "tags": []
          }
        },
        {
          "output_type": "stream",
          "text": [
            "Epoch 62, loss 0.18725237250328064\n",
            "Epoch 63, loss 0.17329096794128418\n",
            "Epoch 64, loss 0.17070864140987396\n",
            "Epoch 65, loss 0.19174911081790924\n",
            "Epoch 66, loss 0.20267535746097565\n"
          ],
          "name": "stdout"
        },
        {
          "output_type": "display_data",
          "data": {
            "image/png": "[encoded data removed]",
            "text/plain": [
              "<Figure size 432x288 with 1 Axes>"
            ]
          },
          "metadata": {
            "tags": []
          }
        },
        {
          "output_type": "stream",
          "text": [
            "Epoch 67, loss 0.1746523380279541\n",
            "Epoch 68, loss 0.2042400985956192\n",
            "Epoch 69, loss 0.1609891951084137\n"
          ],
          "name": "stdout"
        },
        {
          "output_type": "error",
          "ename": "KeyboardInterrupt",
          "evalue": "ignored",
          "traceback": [
            "\u001b[0;31m---------------------------------------------------------------------------\u001b[0m",
            "\u001b[0;31mKeyboardInterrupt\u001b[0m                         Traceback (most recent call last)",
            "\u001b[0;32m<ipython-input-14-eeedec536924>\u001b[0m in \u001b[0;36m<module>\u001b[0;34m()\u001b[0m\n\u001b[1;32m    183\u001b[0m     \u001b[0;31m# Store model.\u001b[0m\u001b[0;34m\u001b[0m\u001b[0;34m\u001b[0m\u001b[0;34m\u001b[0m\u001b[0m\n\u001b[1;32m    184\u001b[0m     \u001b[0mtorch\u001b[0m\u001b[0;34m.\u001b[0m\u001b[0msave\u001b[0m\u001b[0;34m(\u001b[0m\u001b[0mvae\u001b[0m\u001b[0;34m.\u001b[0m\u001b[0mstate_dict\u001b[0m\u001b[0;34m(\u001b[0m\u001b[0;34m)\u001b[0m\u001b[0;34m,\u001b[0m \u001b[0;34m'b_vae.torch'\u001b[0m\u001b[0;34m)\u001b[0m\u001b[0;34m\u001b[0m\u001b[0;34m\u001b[0m\u001b[0m\n\u001b[0;32m--> 185\u001b[0;31m \u001b[0mmain\u001b[0m\u001b[0;34m(\u001b[0m\u001b[0;36m50\u001b[0m\u001b[0;34m)\u001b[0m\u001b[0;34m\u001b[0m\u001b[0;34m\u001b[0m\u001b[0m\n\u001b[0m",
            "\u001b[0;32m<ipython-input-14-eeedec536924>\u001b[0m in \u001b[0;36mmain\u001b[0;34m(episodes)\u001b[0m\n\u001b[1;32m    145\u001b[0m \u001b[0;34m\u001b[0m\u001b[0m\n\u001b[1;32m    146\u001b[0m             \u001b[0moptimizer\u001b[0m\u001b[0;34m.\u001b[0m\u001b[0mzero_grad\u001b[0m\u001b[0;34m(\u001b[0m\u001b[0;34m)\u001b[0m\u001b[0;34m\u001b[0m\u001b[0;34m\u001b[0m\u001b[0m\n\u001b[0;32m--> 147\u001b[0;31m             \u001b[0mloss\u001b[0m\u001b[0;34m.\u001b[0m\u001b[0mbackward\u001b[0m\u001b[0;34m(\u001b[0m\u001b[0;34m)\u001b[0m\u001b[0;34m\u001b[0m\u001b[0;34m\u001b[0m\u001b[0m\n\u001b[0m\u001b[1;32m    148\u001b[0m             \u001b[0moptimizer\u001b[0m\u001b[0;34m.\u001b[0m\u001b[0mstep\u001b[0m\u001b[0;34m(\u001b[0m\u001b[0;34m)\u001b[0m\u001b[0;34m\u001b[0m\u001b[0;34m\u001b[0m\u001b[0m\n\u001b[1;32m    149\u001b[0m         \u001b[0;32mif\u001b[0m \u001b[0mepoch\u001b[0m \u001b[0;34m==\u001b[0m \u001b[0;36m100\u001b[0m\u001b[0;34m:\u001b[0m\u001b[0;34m\u001b[0m\u001b[0;34m\u001b[0m\u001b[0m\n",
            "\u001b[0;32m/usr/local/lib/python3.6/dist-packages/torch/tensor.py\u001b[0m in \u001b[0;36mbackward\u001b[0;34m(self, gradient, retain_graph, create_graph)\u001b[0m\n\u001b[1;32m    164\u001b[0m                 \u001b[0mproducts\u001b[0m\u001b[0;34m.\u001b[0m \u001b[0mDefaults\u001b[0m \u001b[0mto\u001b[0m\u001b[0;31m \u001b[0m\u001b[0;31m`\u001b[0m\u001b[0;31m`\u001b[0m\u001b[0;32mFalse\u001b[0m\u001b[0;31m`\u001b[0m\u001b[0;31m`\u001b[0m\u001b[0;34m.\u001b[0m\u001b[0;34m\u001b[0m\u001b[0;34m\u001b[0m\u001b[0m\n\u001b[1;32m    165\u001b[0m         \"\"\"\n\u001b[0;32m--> 166\u001b[0;31m         \u001b[0mtorch\u001b[0m\u001b[0;34m.\u001b[0m\u001b[0mautograd\u001b[0m\u001b[0;34m.\u001b[0m\u001b[0mbackward\u001b[0m\u001b[0;34m(\u001b[0m\u001b[0mself\u001b[0m\u001b[0;34m,\u001b[0m \u001b[0mgradient\u001b[0m\u001b[0;34m,\u001b[0m \u001b[0mretain_graph\u001b[0m\u001b[0;34m,\u001b[0m \u001b[0mcreate_graph\u001b[0m\u001b[0;34m)\u001b[0m\u001b[0;34m\u001b[0m\u001b[0;34m\u001b[0m\u001b[0m\n\u001b[0m\u001b[1;32m    167\u001b[0m \u001b[0;34m\u001b[0m\u001b[0m\n\u001b[1;32m    168\u001b[0m     \u001b[0;32mdef\u001b[0m \u001b[0mregister_hook\u001b[0m\u001b[0;34m(\u001b[0m\u001b[0mself\u001b[0m\u001b[0;34m,\u001b[0m \u001b[0mhook\u001b[0m\u001b[0;34m)\u001b[0m\u001b[0;34m:\u001b[0m\u001b[0;34m\u001b[0m\u001b[0;34m\u001b[0m\u001b[0m\n",
            "\u001b[0;32m/usr/local/lib/python3.6/dist-packages/torch/autograd/__init__.py\u001b[0m in \u001b[0;36mbackward\u001b[0;34m(tensors, grad_tensors, retain_graph, create_graph, grad_variables)\u001b[0m\n\u001b[1;32m     97\u001b[0m     Variable._execution_engine.run_backward(\n\u001b[1;32m     98\u001b[0m         \u001b[0mtensors\u001b[0m\u001b[0;34m,\u001b[0m \u001b[0mgrad_tensors\u001b[0m\u001b[0;34m,\u001b[0m \u001b[0mretain_graph\u001b[0m\u001b[0;34m,\u001b[0m \u001b[0mcreate_graph\u001b[0m\u001b[0;34m,\u001b[0m\u001b[0;34m\u001b[0m\u001b[0;34m\u001b[0m\u001b[0m\n\u001b[0;32m---> 99\u001b[0;31m         allow_unreachable=True)  # allow_unreachable flag\n\u001b[0m\u001b[1;32m    100\u001b[0m \u001b[0;34m\u001b[0m\u001b[0m\n\u001b[1;32m    101\u001b[0m \u001b[0;34m\u001b[0m\u001b[0m\n",
            "\u001b[0;31mKeyboardInterrupt\u001b[0m: "
          ]
        }
      ]
    },
    {
      "cell_type": "markdown",
      "metadata": {
        "id": "mBu3MfoI3uqu",
        "colab_type": "text"
      },
      "source": [
        "## InfoVAE"
      ]
    },
    {
      "cell_type": "code",
      "metadata": {
        "id": "AIObI8uQql4s",
        "colab_type": "code",
        "colab": {}
      },
      "source": [
        "class Flatten(torch.nn.Module):\n",
        "    def forward(self, x):\n",
        "        return x.view(x.size(0), -1)\n",
        "    \n",
        "class Reshape(torch.nn.Module):\n",
        "    def __init__(self, outer_shape):\n",
        "        super(Reshape, self).__init__()\n",
        "        self.outer_shape = outer_shape\n",
        "    def forward(self, x):\n",
        "        return x.view(x.size(0), *self.outer_shape)\n",
        "\n",
        "# Encoder and decoder use the DC-GAN architecture\n",
        "class Encoder(torch.nn.Module):\n",
        "    def __init__(self, z_dim):\n",
        "        super(Encoder, self).__init__()\n",
        "        self.model = torch.nn.ModuleList([\n",
        "            torch.nn.Conv2d(3, 64, 4, 2, padding=1),\n",
        "            torch.nn.LeakyReLU(),\n",
        "            torch.nn.Conv2d(64, 128, 4, 2, padding=1),\n",
        "            torch.nn.LeakyReLU(),\n",
        "            Flatten(),\n",
        "            torch.nn.Linear(32768, 1024),\n",
        "            torch.nn.LeakyReLU(),\n",
        "            torch.nn.Linear(1024, z_dim)\n",
        "        ])\n",
        "        \n",
        "    def forward(self, x):\n",
        "        #print(\"Encoder\")\n",
        "        #print(x.size())\n",
        "        for layer in self.model:\n",
        "            x = layer(x)\n",
        "            #print(x.size())\n",
        "        return x\n",
        "    \n",
        "    \n",
        "class Decoder(torch.nn.Module):\n",
        "    def __init__(self, z_dim):\n",
        "        super(Decoder, self).__init__()\n",
        "        self.model = torch.nn.ModuleList([\n",
        "            torch.nn.Linear(z_dim, 1024),\n",
        "            torch.nn.ReLU(),\n",
        "            torch.nn.Linear(1024, 32768),\n",
        "            torch.nn.ReLU(),\n",
        "            Reshape((128,16,16,)),\n",
        "            torch.nn.ConvTranspose2d(128, 64, 4, 2, padding=1),\n",
        "            torch.nn.ReLU(),\n",
        "            torch.nn.ConvTranspose2d(64, 3, 4, 2, padding=1),\n",
        "            torch.nn.Sigmoid()\n",
        "        ])\n",
        "        \n",
        "    def forward(self, x):\n",
        "        #print(\"Decoder\")\n",
        "        #print(x.size())\n",
        "        for layer in self.model:\n",
        "            x = layer(x)\n",
        "            #print(x.size())\n",
        "        return x\n",
        "\n",
        "def compute_kernel(x, y):\n",
        "    x_size = x.size(0)\n",
        "    y_size = y.size(0)\n",
        "    dim = x.size(1)\n",
        "    x = x.unsqueeze(1) # (x_size, 1, dim)\n",
        "    y = y.unsqueeze(0) # (1, y_size, dim)\n",
        "    tiled_x = x.expand(x_size, y_size, dim)\n",
        "    tiled_y = y.expand(x_size, y_size, dim)\n",
        "    kernel_input = (tiled_x - tiled_y).pow(2).mean(2)/float(dim)\n",
        "    return torch.exp(-kernel_input) # (x_size, y_size)\n",
        "\n",
        "def compute_mmd(x, y):\n",
        "    x_kernel = compute_kernel(x, x)\n",
        "    y_kernel = compute_kernel(y, y)\n",
        "    xy_kernel = compute_kernel(x, y)\n",
        "    mmd = x_kernel.mean() + y_kernel.mean() - 2*xy_kernel.mean()\n",
        "    return mmd\n",
        "\n",
        "class Model(torch.nn.Module):\n",
        "    def __init__(self, z_dim):\n",
        "        super(Model, self).__init__()\n",
        "        self.encoder = Encoder(z_dim)\n",
        "        self.decoder = Decoder(z_dim)\n",
        "        \n",
        "    def forward(self, x):\n",
        "        z = self.encoder(x)\n",
        "        x_reconstructed = self.decoder(z)\n",
        "        return z, x_reconstructed"
      ],
      "execution_count": 0,
      "outputs": []
    },
    {
      "cell_type": "code",
      "metadata": {
        "id": "tkNatkcuVX0Z",
        "colab_type": "code",
        "outputId": "5f591288-f33e-4d2d-d3a1-5b2894d93214",
        "colab": {
          "base_uri": "https://localhost:8080/"
        }
      },
      "source": [
        "import torch\n",
        "import torch.nn as nn\n",
        "import torch.nn.functional as F\n",
        "from torch.autograd import Variable\n",
        "\n",
        "import math\n",
        "import matplotlib.pyplot as plt\n",
        "\n",
        "\n",
        "class Flatten(nn.Module):\n",
        "    def forward(self, input):\n",
        "        return input.view(input.size(0), -1)\n",
        "\n",
        "class UnFlatten(nn.Module):\n",
        "    def forward(self, input, size=1024):\n",
        "        return input.view(input.size(0), size, 1, 1)\n",
        "\n",
        "%matplotlib inline\n",
        "z_dim = 4\n",
        "vae = Model(z_dim).to(device)#VAE(image_channels=3).to(device)\n",
        "optimizer = torch.optim.Adam(vae.parameters(), lr=1e-3)\n",
        "print('Loaded model.')\n",
        "\n",
        "# https://github.com/napsternxg/pytorch-practice/blob/master/Pytorch%20-%20MMD%20VAE.ipynb\n",
        "def compare(x):\n",
        "    _, recon_x = vae(x)\n",
        "    return torch.cat([x, recon_x])\n",
        "\n",
        "\n",
        "def main(episodes):\n",
        "    dataset = torch.load('{}/data/training_data_0.pt'.format(base_url)) #/ 255\n",
        "\n",
        "    # Grayscale convertion.\n",
        "    # dataset = [to_pil_image(x_) for x_ in dataset]\n",
        "    # dataset = [to_grayscale(x_, 1) for x_ in dataset]\n",
        "    # dataset = torch.stack([to_tensor(x_) for x_ in dataset])\n",
        "\n",
        "    dataset = np.array([np.transpose(x.data.numpy(), (1,2,0)) for x in dataset])\n",
        "\n",
        "    filters = [cv2.Canny(np.uint8(x_*255), 100, 200) for x_ in dataset]\n",
        "    dataset = np.array([cv2.bitwise_and(x_, x_, mask=f) for x_, f in zip(dataset, filters)])\n",
        "    dataset = np.transpose(dataset, (0, 3, 1, 2))\n",
        "\n",
        "\n",
        "    # Divide by 255\n",
        "    dataset = torch.from_numpy(dataset) / 255\n",
        "    dataloader = torch.utils.data.DataLoader(dataset[:100], batch_size=batch_size, shuffle=True)\n",
        "    epochs = 10000\n",
        "    for epoch in range(epochs):\n",
        "        losses = [] \n",
        "        for i, b in enumerate(dataloader):\n",
        "            optimizer.zero_grad()\n",
        "            x = b.to(device)\n",
        "            z, x_reconstructed = vae(x) \n",
        "\n",
        "            true_samples = torch.randn(200, z_dim, requires_grad=False).to(device)\n",
        "            mmd = compute_mmd(true_samples, z)\n",
        "            nll = (x_reconstructed - x).pow(2).sum()\n",
        "            loss = nll + mmd*2\n",
        "            loss.backward()\n",
        "            optimizer.step()\n",
        "        if (epoch % 500 == 0) or (epoch == epochs-1):\n",
        "            # Store one image per epoch to showcase development of VAE.\n",
        "            print('Epoch {} loss {}'.format(epoch, loss.item()))\n",
        "            fixed_x = dataset[1].unsqueeze(0)\n",
        "            compare_x = compare(fixed_x.to(device))\n",
        "            save_image(compare_x.data.cpu(), '{}/neurosmash/images_infovae/sample_image_epoch_{}.png'.format(base_url, epoch+1))\n",
        "\n",
        "        print('Epoch {}, loss {}'.format(epoch+1, loss.item()))\n",
        "    # Store model. \n",
        "    torch.save(vae.state_dict(), '{}/vae.torch'.format(base_url))\n",
        "\n",
        "    # Show final result. \n",
        "    img = mpimg.imread('{}/neurosmash/images_infovae/sample_image_epoch_{}.png'.format(base_url, epochs))\n",
        "    imgplot = plt.imshow(img)\n",
        "    plt.show()\n",
        "\n",
        "main(50)"
      ],
      "execution_count": 0,
      "outputs": [
        {
          "output_type": "stream",
          "text": [
            "Loaded model.\n",
            "Epoch 0 loss 3058.545166015625\n",
            "Epoch 1, loss 3058.545166015625\n",
            "Epoch 2, loss 502.080810546875\n",
            "Epoch 3, loss 474.10992431640625\n",
            "Epoch 4, loss 447.37835693359375\n",
            "Epoch 5, loss 461.3016052246094\n",
            "Epoch 6, loss 474.5263977050781\n",
            "Epoch 7, loss 464.13616943359375\n",
            "Epoch 8, loss 469.162109375\n",
            "Epoch 9, loss 446.20269775390625\n",
            "Epoch 10, loss 448.7720031738281\n",
            "Epoch 11, loss 457.508056640625\n",
            "Epoch 12, loss 470.95623779296875\n",
            "Epoch 13, loss 462.3438720703125\n",
            "Epoch 14, loss 466.48516845703125\n",
            "Epoch 15, loss 458.5191650390625\n",
            "Epoch 16, loss 471.57080078125\n",
            "Epoch 17, loss 462.78289794921875\n",
            "Epoch 18, loss 446.8538513183594\n",
            "Epoch 19, loss 443.45538330078125\n",
            "Epoch 20, loss 446.4017028808594\n",
            "Epoch 21, loss 448.3352966308594\n",
            "Epoch 22, loss 476.2066345214844\n",
            "Epoch 23, loss 459.4753112792969\n",
            "Epoch 24, loss 473.6770935058594\n",
            "Epoch 25, loss 452.17608642578125\n",
            "Epoch 26, loss 464.95428466796875\n",
            "Epoch 27, loss 483.2177429199219\n",
            "Epoch 28, loss 459.4775085449219\n",
            "Epoch 29, loss 480.2716369628906\n",
            "Epoch 30, loss 466.01300048828125\n",
            "Epoch 31, loss 479.0690612792969\n",
            "Epoch 32, loss 479.9283142089844\n",
            "Epoch 33, loss 461.0097961425781\n",
            "Epoch 34, loss 468.8062438964844\n",
            "Epoch 35, loss 453.50750732421875\n",
            "Epoch 36, loss 474.2268371582031\n",
            "Epoch 37, loss 451.7469177246094\n",
            "Epoch 38, loss 462.8429870605469\n",
            "Epoch 39, loss 471.5218200683594\n",
            "Epoch 40, loss 446.0624084472656\n",
            "Epoch 41, loss 478.2051086425781\n",
            "Epoch 42, loss 466.8481140136719\n",
            "Epoch 43, loss 474.26617431640625\n",
            "Epoch 44, loss 461.9768371582031\n",
            "Epoch 45, loss 455.1614990234375\n",
            "Epoch 46, loss 465.94384765625\n",
            "Epoch 47, loss 448.622314453125\n",
            "Epoch 48, loss 441.4388427734375\n",
            "Epoch 49, loss 472.6354064941406\n",
            "Epoch 50, loss 462.6335754394531\n",
            "Epoch 51, loss 445.30072021484375\n",
            "Epoch 52, loss 468.9837951660156\n",
            "Epoch 53, loss 474.23779296875\n",
            "Epoch 54, loss 453.5055236816406\n",
            "Epoch 55, loss 451.5481872558594\n",
            "Epoch 56, loss 487.6968688964844\n",
            "Epoch 57, loss 456.2354736328125\n",
            "Epoch 58, loss 437.317138671875\n",
            "Epoch 59, loss 458.1872863769531\n",
            "Epoch 60, loss 442.4512634277344\n",
            "Epoch 61, loss 469.3166809082031\n",
            "Epoch 62, loss 454.2633056640625\n",
            "Epoch 63, loss 474.4844055175781\n",
            "Epoch 64, loss 453.7525634765625\n",
            "Epoch 65, loss 459.7909851074219\n",
            "Epoch 66, loss 438.92999267578125\n",
            "Epoch 67, loss 469.1565246582031\n",
            "Epoch 68, loss 470.9380798339844\n",
            "Epoch 69, loss 443.5978088378906\n",
            "Epoch 70, loss 447.6175231933594\n",
            "Epoch 71, loss 456.713623046875\n",
            "Epoch 72, loss 457.95404052734375\n",
            "Epoch 73, loss 450.6388244628906\n",
            "Epoch 74, loss 450.6252136230469\n",
            "Epoch 75, loss 464.6387939453125\n",
            "Epoch 76, loss 457.6111145019531\n",
            "Epoch 77, loss 457.6101989746094\n",
            "Epoch 78, loss 465.9041442871094\n",
            "Epoch 79, loss 471.2467956542969\n",
            "Epoch 80, loss 425.83251953125\n",
            "Epoch 81, loss 443.9990539550781\n",
            "Epoch 82, loss 469.4574890136719\n",
            "Epoch 83, loss 468.0857849121094\n",
            "Epoch 84, loss 463.24652099609375\n",
            "Epoch 85, loss 452.0983581542969\n",
            "Epoch 86, loss 448.36187744140625\n",
            "Epoch 87, loss 471.6324768066406\n",
            "Epoch 88, loss 456.17254638671875\n",
            "Epoch 89, loss 458.9334716796875\n",
            "Epoch 90, loss 468.6979675292969\n",
            "Epoch 91, loss 444.55389404296875\n",
            "Epoch 92, loss 442.3863830566406\n",
            "Epoch 93, loss 477.276611328125\n",
            "Epoch 94, loss 441.987060546875\n",
            "Epoch 95, loss 466.7664489746094\n",
            "Epoch 96, loss 455.9269714355469\n",
            "Epoch 97, loss 456.8123474121094\n",
            "Epoch 98, loss 450.0400390625\n",
            "Epoch 99, loss 469.402587890625\n",
            "Epoch 100, loss 459.6712341308594\n",
            "Epoch 101, loss 455.7227478027344\n",
            "Epoch 102, loss 463.738525390625\n",
            "Epoch 103, loss 449.4908142089844\n",
            "Epoch 104, loss 464.5720520019531\n",
            "Epoch 105, loss 466.9095458984375\n",
            "Epoch 106, loss 457.0541076660156\n",
            "Epoch 107, loss 458.6983337402344\n",
            "Epoch 108, loss 448.52374267578125\n",
            "Epoch 109, loss 452.81707763671875\n",
            "Epoch 110, loss 465.079833984375\n",
            "Epoch 111, loss 448.39312744140625\n",
            "Epoch 112, loss 462.64404296875\n",
            "Epoch 113, loss 448.48419189453125\n",
            "Epoch 114, loss 456.85345458984375\n",
            "Epoch 115, loss 456.7978515625\n",
            "Epoch 116, loss 461.2264404296875\n",
            "Epoch 117, loss 450.20758056640625\n",
            "Epoch 118, loss 451.2243957519531\n",
            "Epoch 119, loss 457.4992980957031\n",
            "Epoch 120, loss 452.18597412109375\n",
            "Epoch 121, loss 451.6871643066406\n",
            "Epoch 122, loss 443.95880126953125\n",
            "Epoch 123, loss 475.6108093261719\n",
            "Epoch 124, loss 459.5235595703125\n",
            "Epoch 125, loss 468.9020690917969\n",
            "Epoch 126, loss 454.8196105957031\n",
            "Epoch 127, loss 459.1784362792969\n",
            "Epoch 128, loss 481.5570068359375\n",
            "Epoch 129, loss 452.1837463378906\n",
            "Epoch 130, loss 487.1291198730469\n",
            "Epoch 131, loss 443.4109191894531\n",
            "Epoch 132, loss 447.1877136230469\n",
            "Epoch 133, loss 444.09503173828125\n",
            "Epoch 134, loss 492.3034973144531\n",
            "Epoch 135, loss 458.2606506347656\n",
            "Epoch 136, loss 484.8607177734375\n",
            "Epoch 137, loss 476.0168151855469\n",
            "Epoch 138, loss 487.83038330078125\n",
            "Epoch 139, loss 451.5013427734375\n",
            "Epoch 140, loss 485.94110107421875\n",
            "Epoch 141, loss 457.4449768066406\n",
            "Epoch 142, loss 467.8848571777344\n",
            "Epoch 143, loss 469.30242919921875\n",
            "Epoch 144, loss 461.7296142578125\n",
            "Epoch 145, loss 429.2949523925781\n",
            "Epoch 146, loss 454.7490234375\n",
            "Epoch 147, loss 464.3614807128906\n",
            "Epoch 148, loss 474.2074279785156\n",
            "Epoch 149, loss 457.0468444824219\n",
            "Epoch 150, loss 476.6650695800781\n",
            "Epoch 151, loss 480.3807373046875\n",
            "Epoch 152, loss 451.1751403808594\n",
            "Epoch 153, loss 458.227783203125\n",
            "Epoch 154, loss 464.4932556152344\n",
            "Epoch 155, loss 454.4995422363281\n",
            "Epoch 156, loss 471.5317077636719\n",
            "Epoch 157, loss 453.088623046875\n",
            "Epoch 158, loss 462.65191650390625\n",
            "Epoch 159, loss 449.9619445800781\n",
            "Epoch 160, loss 482.18548583984375\n",
            "Epoch 161, loss 460.203857421875\n",
            "Epoch 162, loss 454.1679992675781\n",
            "Epoch 163, loss 441.9838562011719\n",
            "Epoch 164, loss 447.0089111328125\n",
            "Epoch 165, loss 445.0178527832031\n",
            "Epoch 166, loss 458.3044738769531\n",
            "Epoch 167, loss 469.708740234375\n",
            "Epoch 168, loss 463.836669921875\n",
            "Epoch 169, loss 429.4292907714844\n",
            "Epoch 170, loss 475.6086730957031\n",
            "Epoch 171, loss 462.03875732421875\n",
            "Epoch 172, loss 457.221435546875\n",
            "Epoch 173, loss 448.0324401855469\n",
            "Epoch 174, loss 452.3641052246094\n",
            "Epoch 175, loss 462.3493957519531\n",
            "Epoch 176, loss 454.0076904296875\n",
            "Epoch 177, loss 442.8948059082031\n",
            "Epoch 178, loss 441.91802978515625\n",
            "Epoch 179, loss 430.4816589355469\n",
            "Epoch 180, loss 459.6703796386719\n",
            "Epoch 181, loss 465.92828369140625\n",
            "Epoch 182, loss 460.08746337890625\n",
            "Epoch 183, loss 455.24114990234375\n",
            "Epoch 184, loss 468.1659851074219\n",
            "Epoch 185, loss 467.474853515625\n",
            "Epoch 186, loss 451.07012939453125\n",
            "Epoch 187, loss 447.2364196777344\n",
            "Epoch 188, loss 470.649169921875\n",
            "Epoch 189, loss 452.7417907714844\n",
            "Epoch 190, loss 456.4792785644531\n",
            "Epoch 191, loss 454.61260986328125\n",
            "Epoch 192, loss 465.77435302734375\n",
            "Epoch 193, loss 457.4579772949219\n",
            "Epoch 194, loss 446.297607421875\n",
            "Epoch 195, loss 457.34765625\n",
            "Epoch 196, loss 442.5053405761719\n",
            "Epoch 197, loss 460.3215637207031\n",
            "Epoch 198, loss 443.561279296875\n",
            "Epoch 199, loss 489.7825927734375\n",
            "Epoch 200, loss 472.97039794921875\n",
            "Epoch 201, loss 437.3270568847656\n",
            "Epoch 202, loss 443.05682373046875\n",
            "Epoch 203, loss 447.86248779296875\n",
            "Epoch 204, loss 451.8030700683594\n",
            "Epoch 205, loss 445.9136047363281\n",
            "Epoch 206, loss 450.0882568359375\n",
            "Epoch 207, loss 465.9163513183594\n",
            "Epoch 208, loss 461.4453430175781\n",
            "Epoch 209, loss 461.4851379394531\n",
            "Epoch 210, loss 439.5284118652344\n",
            "Epoch 211, loss 478.8356628417969\n",
            "Epoch 212, loss 482.3033752441406\n",
            "Epoch 213, loss 454.9300842285156\n",
            "Epoch 214, loss 464.7215576171875\n",
            "Epoch 215, loss 456.1661071777344\n",
            "Epoch 216, loss 440.4987487792969\n",
            "Epoch 217, loss 444.33660888671875\n",
            "Epoch 218, loss 469.71966552734375\n",
            "Epoch 219, loss 444.87481689453125\n",
            "Epoch 220, loss 456.95892333984375\n",
            "Epoch 221, loss 475.9111633300781\n",
            "Epoch 222, loss 466.6199035644531\n",
            "Epoch 223, loss 459.17755126953125\n",
            "Epoch 224, loss 468.01397705078125\n",
            "Epoch 225, loss 471.3987731933594\n",
            "Epoch 226, loss 448.0885925292969\n",
            "Epoch 227, loss 424.30548095703125\n",
            "Epoch 228, loss 481.4237060546875\n",
            "Epoch 229, loss 454.198974609375\n",
            "Epoch 230, loss 449.568115234375\n",
            "Epoch 231, loss 449.9168701171875\n",
            "Epoch 232, loss 453.8972473144531\n",
            "Epoch 233, loss 448.4495849609375\n",
            "Epoch 234, loss 446.1752624511719\n",
            "Epoch 235, loss 454.957275390625\n",
            "Epoch 236, loss 457.7478942871094\n",
            "Epoch 237, loss 471.98931884765625\n",
            "Epoch 238, loss 434.62518310546875\n",
            "Epoch 239, loss 439.0401916503906\n",
            "Epoch 240, loss 487.5165100097656\n",
            "Epoch 241, loss 455.1927795410156\n",
            "Epoch 242, loss 460.46728515625\n",
            "Epoch 243, loss 478.79345703125\n",
            "Epoch 244, loss 462.3060302734375\n",
            "Epoch 245, loss 458.2264404296875\n",
            "Epoch 246, loss 442.43267822265625\n",
            "Epoch 247, loss 452.21258544921875\n",
            "Epoch 248, loss 463.1346130371094\n",
            "Epoch 249, loss 447.5316467285156\n",
            "Epoch 250, loss 472.64337158203125\n",
            "Epoch 251, loss 454.8005676269531\n",
            "Epoch 252, loss 469.86322021484375\n",
            "Epoch 253, loss 480.6716613769531\n",
            "Epoch 254, loss 467.9194030761719\n",
            "Epoch 255, loss 443.5364990234375\n",
            "Epoch 256, loss 460.7738037109375\n",
            "Epoch 257, loss 455.6346435546875\n",
            "Epoch 258, loss 444.18450927734375\n",
            "Epoch 259, loss 462.9700622558594\n",
            "Epoch 260, loss 447.7928466796875\n",
            "Epoch 261, loss 450.664306640625\n",
            "Epoch 262, loss 471.9456787109375\n",
            "Epoch 263, loss 471.9123229980469\n",
            "Epoch 264, loss 454.8614807128906\n",
            "Epoch 265, loss 467.8926696777344\n",
            "Epoch 266, loss 462.1775207519531\n",
            "Epoch 267, loss 477.7081604003906\n",
            "Epoch 268, loss 438.1482849121094\n",
            "Epoch 269, loss 457.4834899902344\n",
            "Epoch 270, loss 466.2182922363281\n",
            "Epoch 271, loss 440.9685363769531\n",
            "Epoch 272, loss 464.6285705566406\n",
            "Epoch 273, loss 449.79840087890625\n",
            "Epoch 274, loss 457.62237548828125\n",
            "Epoch 275, loss 462.7790222167969\n",
            "Epoch 276, loss 471.8355712890625\n",
            "Epoch 277, loss 455.2644348144531\n",
            "Epoch 278, loss 492.35858154296875\n",
            "Epoch 279, loss 465.5672302246094\n",
            "Epoch 280, loss 457.08758544921875\n",
            "Epoch 281, loss 475.62799072265625\n",
            "Epoch 282, loss 464.7507629394531\n",
            "Epoch 283, loss 465.1708984375\n",
            "Epoch 284, loss 459.129638671875\n",
            "Epoch 285, loss 457.9560852050781\n",
            "Epoch 286, loss 453.0224304199219\n",
            "Epoch 287, loss 459.5176696777344\n",
            "Epoch 288, loss 455.2734680175781\n",
            "Epoch 289, loss 461.2109069824219\n",
            "Epoch 290, loss 451.55322265625\n",
            "Epoch 291, loss 457.9255065917969\n",
            "Epoch 292, loss 480.2522277832031\n",
            "Epoch 293, loss 449.8121643066406\n",
            "Epoch 294, loss 462.41326904296875\n",
            "Epoch 295, loss 477.2991943359375\n",
            "Epoch 296, loss 467.1471862792969\n",
            "Epoch 297, loss 449.9664306640625\n",
            "Epoch 298, loss 450.0164794921875\n",
            "Epoch 299, loss 442.0925598144531\n",
            "Epoch 300, loss 460.89593505859375\n",
            "Epoch 301, loss 457.3122863769531\n",
            "Epoch 302, loss 466.9906311035156\n",
            "Epoch 303, loss 460.9337463378906\n",
            "Epoch 304, loss 485.08746337890625\n",
            "Epoch 305, loss 449.3983459472656\n",
            "Epoch 306, loss 451.64422607421875\n",
            "Epoch 307, loss 468.2799072265625\n",
            "Epoch 308, loss 475.40679931640625\n",
            "Epoch 309, loss 444.00860595703125\n",
            "Epoch 310, loss 436.39727783203125\n",
            "Epoch 311, loss 466.6513366699219\n",
            "Epoch 312, loss 470.48126220703125\n",
            "Epoch 313, loss 469.5635070800781\n",
            "Epoch 314, loss 474.25299072265625\n",
            "Epoch 315, loss 431.3812255859375\n",
            "Epoch 316, loss 478.47918701171875\n",
            "Epoch 317, loss 463.7263488769531\n",
            "Epoch 318, loss 443.7906494140625\n",
            "Epoch 319, loss 463.9439697265625\n",
            "Epoch 320, loss 486.7771911621094\n",
            "Epoch 321, loss 483.7840576171875\n",
            "Epoch 322, loss 478.137451171875\n",
            "Epoch 323, loss 473.1072998046875\n",
            "Epoch 324, loss 434.9485778808594\n",
            "Epoch 325, loss 450.510009765625\n",
            "Epoch 326, loss 456.3706359863281\n",
            "Epoch 327, loss 452.978271484375\n",
            "Epoch 328, loss 454.77081298828125\n",
            "Epoch 329, loss 480.32183837890625\n",
            "Epoch 330, loss 452.4585876464844\n",
            "Epoch 331, loss 444.6922302246094\n",
            "Epoch 332, loss 442.7474365234375\n",
            "Epoch 333, loss 450.9903564453125\n",
            "Epoch 334, loss 435.2216491699219\n",
            "Epoch 335, loss 460.81207275390625\n",
            "Epoch 336, loss 437.6979675292969\n",
            "Epoch 337, loss 482.02044677734375\n",
            "Epoch 338, loss 430.9308166503906\n",
            "Epoch 339, loss 464.59552001953125\n",
            "Epoch 340, loss 453.52716064453125\n",
            "Epoch 341, loss 453.5208435058594\n",
            "Epoch 342, loss 452.2359619140625\n",
            "Epoch 343, loss 462.4322814941406\n",
            "Epoch 344, loss 469.71435546875\n",
            "Epoch 345, loss 461.1537170410156\n",
            "Epoch 346, loss 459.67327880859375\n",
            "Epoch 347, loss 443.27252197265625\n",
            "Epoch 348, loss 460.0711364746094\n",
            "Epoch 349, loss 469.22430419921875\n",
            "Epoch 350, loss 444.5978698730469\n",
            "Epoch 351, loss 466.2860107421875\n",
            "Epoch 352, loss 462.1221618652344\n",
            "Epoch 353, loss 465.4687194824219\n",
            "Epoch 354, loss 463.3918151855469\n",
            "Epoch 355, loss 463.2433166503906\n",
            "Epoch 356, loss 464.9060363769531\n",
            "Epoch 357, loss 446.47723388671875\n",
            "Epoch 358, loss 453.00439453125\n",
            "Epoch 359, loss 456.2109069824219\n",
            "Epoch 360, loss 448.41302490234375\n",
            "Epoch 361, loss 473.34375\n",
            "Epoch 362, loss 449.9469299316406\n",
            "Epoch 363, loss 456.4761962890625\n",
            "Epoch 364, loss 447.7593688964844\n",
            "Epoch 365, loss 474.01116943359375\n",
            "Epoch 366, loss 475.3599853515625\n",
            "Epoch 367, loss 454.24188232421875\n",
            "Epoch 368, loss 443.36572265625\n",
            "Epoch 369, loss 466.1341247558594\n",
            "Epoch 370, loss 480.2606201171875\n",
            "Epoch 371, loss 460.35723876953125\n",
            "Epoch 372, loss 466.7704772949219\n",
            "Epoch 373, loss 454.0588684082031\n",
            "Epoch 374, loss 451.701416015625\n",
            "Epoch 375, loss 472.1157531738281\n",
            "Epoch 376, loss 465.4024963378906\n",
            "Epoch 377, loss 453.95623779296875\n",
            "Epoch 378, loss 442.4966125488281\n",
            "Epoch 379, loss 474.0852966308594\n",
            "Epoch 380, loss 443.8586120605469\n",
            "Epoch 381, loss 465.6313781738281\n",
            "Epoch 382, loss 443.9794616699219\n",
            "Epoch 383, loss 463.87774658203125\n",
            "Epoch 384, loss 437.31005859375\n",
            "Epoch 385, loss 446.48541259765625\n",
            "Epoch 386, loss 434.7844543457031\n",
            "Epoch 387, loss 436.3531188964844\n",
            "Epoch 388, loss 455.4526672363281\n",
            "Epoch 389, loss 466.8355712890625\n",
            "Epoch 390, loss 469.2564392089844\n",
            "Epoch 391, loss 442.7339172363281\n",
            "Epoch 392, loss 443.956298828125\n",
            "Epoch 393, loss 464.3614196777344\n",
            "Epoch 394, loss 446.5864562988281\n",
            "Epoch 395, loss 458.4320373535156\n",
            "Epoch 396, loss 472.9201965332031\n",
            "Epoch 397, loss 465.2351989746094\n",
            "Epoch 398, loss 457.4424743652344\n",
            "Epoch 399, loss 450.5369873046875\n",
            "Epoch 400, loss 467.9793395996094\n",
            "Epoch 401, loss 439.5074157714844\n",
            "Epoch 402, loss 451.4890441894531\n",
            "Epoch 403, loss 443.59130859375\n",
            "Epoch 404, loss 451.3974914550781\n",
            "Epoch 405, loss 431.5162353515625\n",
            "Epoch 406, loss 444.2306823730469\n",
            "Epoch 407, loss 471.53997802734375\n",
            "Epoch 408, loss 445.59326171875\n",
            "Epoch 409, loss 462.15411376953125\n",
            "Epoch 410, loss 449.89715576171875\n",
            "Epoch 411, loss 472.4269714355469\n",
            "Epoch 412, loss 459.51129150390625\n",
            "Epoch 413, loss 455.83282470703125\n",
            "Epoch 414, loss 459.4834289550781\n",
            "Epoch 415, loss 468.69720458984375\n",
            "Epoch 416, loss 477.30963134765625\n",
            "Epoch 417, loss 477.6331481933594\n",
            "Epoch 418, loss 440.30914306640625\n",
            "Epoch 419, loss 452.07244873046875\n",
            "Epoch 420, loss 465.5196533203125\n",
            "Epoch 421, loss 447.4834899902344\n",
            "Epoch 422, loss 461.36004638671875\n",
            "Epoch 423, loss 463.8421936035156\n",
            "Epoch 424, loss 453.2216796875\n",
            "Epoch 425, loss 473.35455322265625\n",
            "Epoch 426, loss 474.1163330078125\n",
            "Epoch 427, loss 457.3352355957031\n",
            "Epoch 428, loss 456.7703552246094\n",
            "Epoch 429, loss 444.8709716796875\n",
            "Epoch 430, loss 460.8582458496094\n",
            "Epoch 431, loss 453.3243103027344\n",
            "Epoch 432, loss 465.23046875\n",
            "Epoch 433, loss 454.4283447265625\n",
            "Epoch 434, loss 475.3205261230469\n",
            "Epoch 435, loss 459.6771545410156\n",
            "Epoch 436, loss 471.92523193359375\n",
            "Epoch 437, loss 470.2322998046875\n",
            "Epoch 438, loss 467.2076721191406\n",
            "Epoch 439, loss 452.64208984375\n",
            "Epoch 440, loss 454.22247314453125\n",
            "Epoch 441, loss 437.0938720703125\n",
            "Epoch 442, loss 443.2927551269531\n",
            "Epoch 443, loss 473.3473205566406\n",
            "Epoch 444, loss 459.5205078125\n",
            "Epoch 445, loss 459.1685791015625\n",
            "Epoch 446, loss 472.95916748046875\n",
            "Epoch 447, loss 440.9066162109375\n",
            "Epoch 448, loss 461.4169921875\n",
            "Epoch 449, loss 446.9561462402344\n",
            "Epoch 450, loss 453.5898742675781\n",
            "Epoch 451, loss 463.1193542480469\n",
            "Epoch 452, loss 464.994384765625\n",
            "Epoch 453, loss 456.4577941894531\n",
            "Epoch 454, loss 438.7201232910156\n",
            "Epoch 455, loss 475.2640686035156\n",
            "Epoch 456, loss 463.0824890136719\n",
            "Epoch 457, loss 468.2635803222656\n",
            "Epoch 458, loss 473.2002258300781\n",
            "Epoch 459, loss 466.7501220703125\n",
            "Epoch 460, loss 471.04864501953125\n",
            "Epoch 461, loss 471.44976806640625\n",
            "Epoch 462, loss 462.90826416015625\n",
            "Epoch 463, loss 460.6481018066406\n",
            "Epoch 464, loss 473.808349609375\n",
            "Epoch 465, loss 448.9227600097656\n",
            "Epoch 466, loss 465.1897277832031\n",
            "Epoch 467, loss 458.61517333984375\n",
            "Epoch 468, loss 448.4864501953125\n",
            "Epoch 469, loss 437.4552001953125\n",
            "Epoch 470, loss 451.26361083984375\n",
            "Epoch 471, loss 468.65875244140625\n",
            "Epoch 472, loss 460.8861083984375\n",
            "Epoch 473, loss 465.0289306640625\n",
            "Epoch 474, loss 455.20660400390625\n",
            "Epoch 475, loss 442.8653259277344\n",
            "Epoch 476, loss 477.598876953125\n",
            "Epoch 477, loss 465.7248229980469\n",
            "Epoch 478, loss 440.9936218261719\n",
            "Epoch 479, loss 471.2693786621094\n",
            "Epoch 480, loss 463.5355529785156\n",
            "Epoch 481, loss 464.1717834472656\n",
            "Epoch 482, loss 428.3128356933594\n",
            "Epoch 483, loss 455.3072509765625\n",
            "Epoch 484, loss 462.9215393066406\n",
            "Epoch 485, loss 444.0340270996094\n",
            "Epoch 486, loss 454.5561218261719\n",
            "Epoch 487, loss 450.9585266113281\n",
            "Epoch 488, loss 465.47119140625\n",
            "Epoch 489, loss 471.3475341796875\n",
            "Epoch 490, loss 483.62896728515625\n",
            "Epoch 491, loss 454.7554931640625\n",
            "Epoch 492, loss 438.315673828125\n",
            "Epoch 493, loss 446.2677001953125\n",
            "Epoch 494, loss 460.1279602050781\n",
            "Epoch 495, loss 438.7418212890625\n",
            "Epoch 496, loss 459.8310546875\n",
            "Epoch 497, loss 452.9110107421875\n",
            "Epoch 498, loss 462.1513977050781\n",
            "Epoch 499, loss 450.1980285644531\n",
            "Epoch 500, loss 453.69000244140625\n",
            "Epoch 500 loss 468.68218994140625\n",
            "Epoch 501, loss 468.68218994140625\n",
            "Epoch 502, loss 471.74676513671875\n",
            "Epoch 503, loss 465.4738464355469\n",
            "Epoch 504, loss 462.0119934082031\n",
            "Epoch 505, loss 433.9804992675781\n",
            "Epoch 506, loss 433.0464782714844\n",
            "Epoch 507, loss 454.8381042480469\n",
            "Epoch 508, loss 433.80157470703125\n",
            "Epoch 509, loss 465.5558166503906\n",
            "Epoch 510, loss 438.99114990234375\n",
            "Epoch 511, loss 458.7233581542969\n",
            "Epoch 512, loss 482.1435241699219\n",
            "Epoch 513, loss 440.6747741699219\n",
            "Epoch 514, loss 469.0395202636719\n",
            "Epoch 515, loss 453.952880859375\n",
            "Epoch 516, loss 454.3652648925781\n",
            "Epoch 517, loss 449.47576904296875\n",
            "Epoch 518, loss 460.2377624511719\n",
            "Epoch 519, loss 460.5635986328125\n",
            "Epoch 520, loss 452.5963439941406\n",
            "Epoch 521, loss 464.5438537597656\n",
            "Epoch 522, loss 463.9194030761719\n",
            "Epoch 523, loss 472.35260009765625\n",
            "Epoch 524, loss 466.0400390625\n",
            "Epoch 525, loss 464.364013671875\n",
            "Epoch 526, loss 448.84332275390625\n",
            "Epoch 527, loss 454.3522644042969\n",
            "Epoch 528, loss 464.14886474609375\n",
            "Epoch 529, loss 461.49859619140625\n",
            "Epoch 530, loss 455.8515625\n",
            "Epoch 531, loss 467.0701599121094\n",
            "Epoch 532, loss 427.6693420410156\n",
            "Epoch 533, loss 469.4924621582031\n",
            "Epoch 534, loss 449.53155517578125\n",
            "Epoch 535, loss 448.255126953125\n",
            "Epoch 536, loss 441.813720703125\n",
            "Epoch 537, loss 446.9175720214844\n",
            "Epoch 538, loss 458.4714050292969\n",
            "Epoch 539, loss 447.75103759765625\n",
            "Epoch 540, loss 477.0235595703125\n",
            "Epoch 541, loss 459.04791259765625\n",
            "Epoch 542, loss 449.1061706542969\n",
            "Epoch 543, loss 458.47064208984375\n",
            "Epoch 544, loss 462.1761474609375\n",
            "Epoch 545, loss 479.6517028808594\n",
            "Epoch 546, loss 464.7449035644531\n",
            "Epoch 547, loss 454.45977783203125\n",
            "Epoch 548, loss 455.20245361328125\n",
            "Epoch 549, loss 438.19439697265625\n",
            "Epoch 550, loss 455.6100158691406\n",
            "Epoch 551, loss 448.8373107910156\n",
            "Epoch 552, loss 471.56243896484375\n",
            "Epoch 553, loss 469.7430725097656\n",
            "Epoch 554, loss 466.75933837890625\n",
            "Epoch 555, loss 462.1365966796875\n",
            "Epoch 556, loss 477.2257080078125\n",
            "Epoch 557, loss 466.6083679199219\n",
            "Epoch 558, loss 451.453857421875\n",
            "Epoch 559, loss 446.6365661621094\n",
            "Epoch 560, loss 466.29248046875\n",
            "Epoch 561, loss 424.9110412597656\n",
            "Epoch 562, loss 447.92108154296875\n",
            "Epoch 563, loss 477.92803955078125\n",
            "Epoch 564, loss 463.4125061035156\n",
            "Epoch 565, loss 470.850830078125\n",
            "Epoch 566, loss 455.2708740234375\n",
            "Epoch 567, loss 442.6339416503906\n",
            "Epoch 568, loss 460.9376525878906\n",
            "Epoch 569, loss 431.7853698730469\n",
            "Epoch 570, loss 447.1697692871094\n",
            "Epoch 571, loss 472.8948059082031\n",
            "Epoch 572, loss 465.7832946777344\n",
            "Epoch 573, loss 452.9903259277344\n",
            "Epoch 574, loss 454.12939453125\n",
            "Epoch 575, loss 461.38922119140625\n",
            "Epoch 576, loss 474.1950378417969\n",
            "Epoch 577, loss 478.182861328125\n",
            "Epoch 578, loss 455.77801513671875\n",
            "Epoch 579, loss 443.81640625\n",
            "Epoch 580, loss 479.84808349609375\n",
            "Epoch 581, loss 465.90826416015625\n",
            "Epoch 582, loss 454.75634765625\n",
            "Epoch 583, loss 444.8408508300781\n",
            "Epoch 584, loss 454.5475769042969\n",
            "Epoch 585, loss 466.9199523925781\n",
            "Epoch 586, loss 470.0679016113281\n",
            "Epoch 587, loss 457.77099609375\n",
            "Epoch 588, loss 460.4737854003906\n",
            "Epoch 589, loss 444.3487548828125\n",
            "Epoch 590, loss 462.17218017578125\n",
            "Epoch 591, loss 473.658935546875\n",
            "Epoch 592, loss 450.76123046875\n",
            "Epoch 593, loss 469.0406494140625\n",
            "Epoch 594, loss 470.54083251953125\n",
            "Epoch 595, loss 469.41827392578125\n",
            "Epoch 596, loss 461.4368591308594\n",
            "Epoch 597, loss 469.8537292480469\n",
            "Epoch 598, loss 466.4891357421875\n",
            "Epoch 599, loss 462.6876220703125\n",
            "Epoch 600, loss 467.2374267578125\n",
            "Epoch 601, loss 447.5113220214844\n",
            "Epoch 602, loss 467.8081970214844\n",
            "Epoch 603, loss 444.198974609375\n",
            "Epoch 604, loss 455.32177734375\n",
            "Epoch 605, loss 467.3817138671875\n",
            "Epoch 606, loss 451.3799743652344\n",
            "Epoch 607, loss 458.2315979003906\n",
            "Epoch 608, loss 449.416015625\n",
            "Epoch 609, loss 456.0542297363281\n",
            "Epoch 610, loss 463.94970703125\n",
            "Epoch 611, loss 466.9716491699219\n",
            "Epoch 612, loss 451.35260009765625\n",
            "Epoch 613, loss 464.8105163574219\n",
            "Epoch 614, loss 464.2674865722656\n",
            "Epoch 615, loss 487.62347412109375\n",
            "Epoch 616, loss 471.8879699707031\n",
            "Epoch 617, loss 478.52471923828125\n",
            "Epoch 618, loss 449.51190185546875\n",
            "Epoch 619, loss 458.55792236328125\n",
            "Epoch 620, loss 476.3263854980469\n",
            "Epoch 621, loss 472.6451721191406\n",
            "Epoch 622, loss 469.9134521484375\n",
            "Epoch 623, loss 474.67755126953125\n",
            "Epoch 624, loss 497.6607360839844\n",
            "Epoch 625, loss 446.2687072753906\n",
            "Epoch 626, loss 445.9939880371094\n",
            "Epoch 627, loss 462.6084289550781\n",
            "Epoch 628, loss 458.6351013183594\n",
            "Epoch 629, loss 454.1702880859375\n",
            "Epoch 630, loss 472.3778076171875\n",
            "Epoch 631, loss 456.0390930175781\n",
            "Epoch 632, loss 465.65313720703125\n",
            "Epoch 633, loss 459.6152648925781\n",
            "Epoch 634, loss 469.6960144042969\n",
            "Epoch 635, loss 466.93475341796875\n",
            "Epoch 636, loss 461.03619384765625\n",
            "Epoch 637, loss 467.9521179199219\n",
            "Epoch 638, loss 457.3117370605469\n",
            "Epoch 639, loss 436.8459777832031\n",
            "Epoch 640, loss 440.7537841796875\n",
            "Epoch 641, loss 462.26141357421875\n",
            "Epoch 642, loss 457.2075500488281\n",
            "Epoch 643, loss 462.3214111328125\n",
            "Epoch 644, loss 466.2108459472656\n",
            "Epoch 645, loss 471.2554626464844\n",
            "Epoch 646, loss 464.2432861328125\n",
            "Epoch 647, loss 455.84869384765625\n",
            "Epoch 648, loss 467.4395751953125\n",
            "Epoch 649, loss 480.7788391113281\n",
            "Epoch 650, loss 464.4063415527344\n",
            "Epoch 651, loss 469.4236145019531\n",
            "Epoch 652, loss 468.8033447265625\n",
            "Epoch 653, loss 471.2633972167969\n",
            "Epoch 654, loss 450.21246337890625\n",
            "Epoch 655, loss 446.09173583984375\n",
            "Epoch 656, loss 435.276611328125\n",
            "Epoch 657, loss 463.2471618652344\n",
            "Epoch 658, loss 462.5812072753906\n",
            "Epoch 659, loss 458.1355895996094\n",
            "Epoch 660, loss 463.503173828125\n",
            "Epoch 661, loss 446.6514892578125\n",
            "Epoch 662, loss 459.795166015625\n",
            "Epoch 663, loss 462.0366516113281\n",
            "Epoch 664, loss 471.079833984375\n",
            "Epoch 665, loss 466.7815856933594\n",
            "Epoch 666, loss 473.4089050292969\n",
            "Epoch 667, loss 449.669677734375\n",
            "Epoch 668, loss 464.81005859375\n",
            "Epoch 669, loss 466.2328186035156\n",
            "Epoch 670, loss 471.6690979003906\n",
            "Epoch 671, loss 468.6063537597656\n",
            "Epoch 672, loss 473.12249755859375\n",
            "Epoch 673, loss 461.0176086425781\n",
            "Epoch 674, loss 449.510986328125\n",
            "Epoch 675, loss 462.3364562988281\n",
            "Epoch 676, loss 450.26751708984375\n",
            "Epoch 677, loss 460.4905090332031\n",
            "Epoch 678, loss 447.81689453125\n",
            "Epoch 679, loss 462.42999267578125\n",
            "Epoch 680, loss 466.68341064453125\n",
            "Epoch 681, loss 435.2650146484375\n",
            "Epoch 682, loss 440.3965148925781\n",
            "Epoch 683, loss 446.1496276855469\n",
            "Epoch 684, loss 456.6122131347656\n",
            "Epoch 685, loss 458.3160705566406\n",
            "Epoch 686, loss 472.7417907714844\n",
            "Epoch 687, loss 450.1300048828125\n",
            "Epoch 688, loss 459.001953125\n",
            "Epoch 689, loss 472.6823425292969\n",
            "Epoch 690, loss 456.2881164550781\n",
            "Epoch 691, loss 435.5296325683594\n",
            "Epoch 692, loss 428.3888854980469\n",
            "Epoch 693, loss 473.5377502441406\n",
            "Epoch 694, loss 458.4853820800781\n",
            "Epoch 695, loss 461.6419677734375\n",
            "Epoch 696, loss 475.56341552734375\n",
            "Epoch 697, loss 464.4326171875\n",
            "Epoch 698, loss 458.8659973144531\n",
            "Epoch 699, loss 432.3163146972656\n",
            "Epoch 700, loss 439.618408203125\n",
            "Epoch 701, loss 464.8321838378906\n",
            "Epoch 702, loss 452.738037109375\n",
            "Epoch 703, loss 464.1875305175781\n",
            "Epoch 704, loss 473.035400390625\n",
            "Epoch 705, loss 456.1328430175781\n",
            "Epoch 706, loss 467.7071533203125\n",
            "Epoch 707, loss 482.09814453125\n",
            "Epoch 708, loss 480.5277099609375\n",
            "Epoch 709, loss 457.9957275390625\n",
            "Epoch 710, loss 452.69635009765625\n",
            "Epoch 711, loss 471.20623779296875\n",
            "Epoch 712, loss 444.6072082519531\n",
            "Epoch 713, loss 441.9427185058594\n",
            "Epoch 714, loss 464.63592529296875\n",
            "Epoch 715, loss 479.85723876953125\n",
            "Epoch 716, loss 464.76953125\n",
            "Epoch 717, loss 465.67431640625\n",
            "Epoch 718, loss 461.6580505371094\n",
            "Epoch 719, loss 467.5396728515625\n",
            "Epoch 720, loss 452.1897277832031\n",
            "Epoch 721, loss 476.2193908691406\n",
            "Epoch 722, loss 455.0964050292969\n",
            "Epoch 723, loss 421.65948486328125\n",
            "Epoch 724, loss 471.5219421386719\n",
            "Epoch 725, loss 453.5367736816406\n",
            "Epoch 726, loss 432.3022766113281\n",
            "Epoch 727, loss 439.0389099121094\n",
            "Epoch 728, loss 432.8962707519531\n",
            "Epoch 729, loss 455.70355224609375\n",
            "Epoch 730, loss 462.97979736328125\n",
            "Epoch 731, loss 470.48846435546875\n",
            "Epoch 732, loss 441.674072265625\n",
            "Epoch 733, loss 458.19476318359375\n",
            "Epoch 734, loss 448.8653869628906\n",
            "Epoch 735, loss 493.9364013671875\n",
            "Epoch 736, loss 478.8460693359375\n",
            "Epoch 737, loss 459.2694396972656\n",
            "Epoch 738, loss 481.01947021484375\n",
            "Epoch 739, loss 437.37841796875\n",
            "Epoch 740, loss 467.43096923828125\n",
            "Epoch 741, loss 468.5506896972656\n",
            "Epoch 742, loss 432.3296203613281\n",
            "Epoch 743, loss 471.6009826660156\n",
            "Epoch 744, loss 470.2330322265625\n",
            "Epoch 745, loss 452.61260986328125\n",
            "Epoch 746, loss 460.00238037109375\n",
            "Epoch 747, loss 463.67974853515625\n",
            "Epoch 748, loss 449.5220947265625\n",
            "Epoch 749, loss 454.8921813964844\n",
            "Epoch 750, loss 449.5531005859375\n",
            "Epoch 751, loss 451.2099304199219\n",
            "Epoch 752, loss 449.1072998046875\n",
            "Epoch 753, loss 450.52691650390625\n",
            "Epoch 754, loss 449.3125\n",
            "Epoch 755, loss 440.38134765625\n",
            "Epoch 756, loss 452.0704040527344\n",
            "Epoch 757, loss 456.2469787597656\n",
            "Epoch 758, loss 448.28485107421875\n",
            "Epoch 759, loss 461.4159240722656\n",
            "Epoch 760, loss 480.0556945800781\n",
            "Epoch 761, loss 471.9695739746094\n",
            "Epoch 762, loss 451.87371826171875\n",
            "Epoch 763, loss 439.8668212890625\n",
            "Epoch 764, loss 464.7370300292969\n",
            "Epoch 765, loss 446.8304443359375\n",
            "Epoch 766, loss 464.9053649902344\n",
            "Epoch 767, loss 457.813720703125\n",
            "Epoch 768, loss 467.7467956542969\n",
            "Epoch 769, loss 471.96331787109375\n",
            "Epoch 770, loss 443.9704284667969\n",
            "Epoch 771, loss 459.9414978027344\n",
            "Epoch 772, loss 449.6026611328125\n",
            "Epoch 773, loss 461.6936340332031\n",
            "Epoch 774, loss 472.6473693847656\n",
            "Epoch 775, loss 481.21771240234375\n",
            "Epoch 776, loss 445.4746398925781\n",
            "Epoch 777, loss 475.14300537109375\n",
            "Epoch 778, loss 466.23675537109375\n",
            "Epoch 779, loss 449.1580505371094\n",
            "Epoch 780, loss 463.4007568359375\n",
            "Epoch 781, loss 441.4087829589844\n",
            "Epoch 782, loss 467.2309875488281\n",
            "Epoch 783, loss 447.48046875\n",
            "Epoch 784, loss 449.2047424316406\n",
            "Epoch 785, loss 441.8907775878906\n",
            "Epoch 786, loss 473.386474609375\n",
            "Epoch 787, loss 463.3061828613281\n",
            "Epoch 788, loss 458.3622741699219\n",
            "Epoch 789, loss 462.8582763671875\n",
            "Epoch 790, loss 465.85870361328125\n",
            "Epoch 791, loss 447.45880126953125\n",
            "Epoch 792, loss 476.62615966796875\n",
            "Epoch 793, loss 451.4681701660156\n",
            "Epoch 794, loss 465.86785888671875\n",
            "Epoch 795, loss 468.7964782714844\n",
            "Epoch 796, loss 464.392578125\n",
            "Epoch 797, loss 441.9476623535156\n",
            "Epoch 798, loss 453.83013916015625\n",
            "Epoch 799, loss 465.393310546875\n",
            "Epoch 800, loss 467.02734375\n",
            "Epoch 801, loss 444.0661926269531\n",
            "Epoch 802, loss 468.61199951171875\n",
            "Epoch 803, loss 450.0859069824219\n",
            "Epoch 804, loss 445.0751037597656\n",
            "Epoch 805, loss 450.1464538574219\n",
            "Epoch 806, loss 441.65252685546875\n",
            "Epoch 807, loss 455.4215087890625\n",
            "Epoch 808, loss 471.4735107421875\n",
            "Epoch 809, loss 467.9436340332031\n",
            "Epoch 810, loss 474.92919921875\n",
            "Epoch 811, loss 486.9899597167969\n",
            "Epoch 812, loss 448.87481689453125\n",
            "Epoch 813, loss 453.9870300292969\n",
            "Epoch 814, loss 453.5729675292969\n",
            "Epoch 815, loss 460.1388244628906\n",
            "Epoch 816, loss 472.5564880371094\n",
            "Epoch 817, loss 456.02838134765625\n",
            "Epoch 818, loss 467.74456787109375\n",
            "Epoch 819, loss 437.5035705566406\n",
            "Epoch 820, loss 475.4919738769531\n",
            "Epoch 821, loss 450.2354431152344\n",
            "Epoch 822, loss 457.9480895996094\n",
            "Epoch 823, loss 467.912353515625\n",
            "Epoch 824, loss 454.2487487792969\n",
            "Epoch 825, loss 474.48846435546875\n",
            "Epoch 826, loss 440.4588928222656\n",
            "Epoch 827, loss 438.0951843261719\n",
            "Epoch 828, loss 444.8620300292969\n",
            "Epoch 829, loss 443.9353332519531\n",
            "Epoch 830, loss 462.07659912109375\n",
            "Epoch 831, loss 474.8538513183594\n",
            "Epoch 832, loss 465.9468688964844\n",
            "Epoch 833, loss 449.0166931152344\n",
            "Epoch 834, loss 457.88543701171875\n",
            "Epoch 835, loss 473.8273620605469\n",
            "Epoch 836, loss 457.6545715332031\n",
            "Epoch 837, loss 457.3189392089844\n",
            "Epoch 838, loss 455.3226623535156\n",
            "Epoch 839, loss 457.49676513671875\n",
            "Epoch 840, loss 474.05780029296875\n",
            "Epoch 841, loss 451.00323486328125\n",
            "Epoch 842, loss 450.2236022949219\n",
            "Epoch 843, loss 463.5589904785156\n",
            "Epoch 844, loss 459.4800109863281\n",
            "Epoch 845, loss 453.85650634765625\n",
            "Epoch 846, loss 447.9080505371094\n",
            "Epoch 847, loss 465.3499450683594\n",
            "Epoch 848, loss 459.995361328125\n",
            "Epoch 849, loss 443.8974304199219\n",
            "Epoch 850, loss 451.8705749511719\n",
            "Epoch 851, loss 451.61920166015625\n",
            "Epoch 852, loss 471.9783935546875\n",
            "Epoch 853, loss 471.0482482910156\n",
            "Epoch 854, loss 424.2846984863281\n",
            "Epoch 855, loss 458.9002990722656\n",
            "Epoch 856, loss 480.70001220703125\n",
            "Epoch 857, loss 465.8486328125\n",
            "Epoch 858, loss 481.7273864746094\n",
            "Epoch 859, loss 455.6509094238281\n",
            "Epoch 860, loss 461.0689697265625\n",
            "Epoch 861, loss 445.6064453125\n",
            "Epoch 862, loss 490.0087890625\n",
            "Epoch 863, loss 469.8829650878906\n",
            "Epoch 864, loss 466.49884033203125\n",
            "Epoch 865, loss 459.2710266113281\n",
            "Epoch 866, loss 437.0013427734375\n",
            "Epoch 867, loss 445.6539001464844\n",
            "Epoch 868, loss 457.3676452636719\n",
            "Epoch 869, loss 474.94842529296875\n",
            "Epoch 870, loss 449.4582214355469\n",
            "Epoch 871, loss 481.0097961425781\n",
            "Epoch 872, loss 441.8977966308594\n",
            "Epoch 873, loss 466.84454345703125\n",
            "Epoch 874, loss 464.65380859375\n",
            "Epoch 875, loss 469.8614807128906\n",
            "Epoch 876, loss 457.37371826171875\n",
            "Epoch 877, loss 458.8542175292969\n",
            "Epoch 878, loss 445.10333251953125\n",
            "Epoch 879, loss 475.3137512207031\n",
            "Epoch 880, loss 462.659423828125\n",
            "Epoch 881, loss 473.99090576171875\n",
            "Epoch 882, loss 480.0452880859375\n",
            "Epoch 883, loss 457.4845886230469\n",
            "Epoch 884, loss 447.80804443359375\n",
            "Epoch 885, loss 472.62847900390625\n",
            "Epoch 886, loss 455.67333984375\n",
            "Epoch 887, loss 446.3375549316406\n",
            "Epoch 888, loss 443.0752868652344\n",
            "Epoch 889, loss 454.2985534667969\n",
            "Epoch 890, loss 481.60430908203125\n",
            "Epoch 891, loss 476.3644714355469\n",
            "Epoch 892, loss 465.8711242675781\n",
            "Epoch 893, loss 446.06787109375\n",
            "Epoch 894, loss 441.0276184082031\n",
            "Epoch 895, loss 467.9013366699219\n"
          ],
          "name": "stdout"
        },
        {
          "output_type": "error",
          "ename": "KeyboardInterrupt",
          "evalue": "ignored",
          "traceback": [
            "\u001b[0;31m---------------------------------------------------------------------------\u001b[0m",
            "\u001b[0;31mKeyboardInterrupt\u001b[0m                         Traceback (most recent call last)",
            "\u001b[0;32m<ipython-input-25-f68f200d4ead>\u001b[0m in \u001b[0;36m<module>\u001b[0;34m()\u001b[0m\n\u001b[1;32m     76\u001b[0m     \u001b[0mplt\u001b[0m\u001b[0;34m.\u001b[0m\u001b[0mshow\u001b[0m\u001b[0;34m(\u001b[0m\u001b[0;34m)\u001b[0m\u001b[0;34m\u001b[0m\u001b[0;34m\u001b[0m\u001b[0m\n\u001b[1;32m     77\u001b[0m \u001b[0;34m\u001b[0m\u001b[0m\n\u001b[0;32m---> 78\u001b[0;31m \u001b[0mmain\u001b[0m\u001b[0;34m(\u001b[0m\u001b[0;36m50\u001b[0m\u001b[0;34m)\u001b[0m\u001b[0;34m\u001b[0m\u001b[0;34m\u001b[0m\u001b[0m\n\u001b[0m",
            "\u001b[0;32m<ipython-input-25-f68f200d4ead>\u001b[0m in \u001b[0;36mmain\u001b[0;34m(episodes)\u001b[0m\n\u001b[1;32m     54\u001b[0m             \u001b[0mz\u001b[0m\u001b[0;34m,\u001b[0m \u001b[0mx_reconstructed\u001b[0m \u001b[0;34m=\u001b[0m \u001b[0mvae\u001b[0m\u001b[0;34m(\u001b[0m\u001b[0mx\u001b[0m\u001b[0;34m)\u001b[0m\u001b[0;34m\u001b[0m\u001b[0;34m\u001b[0m\u001b[0m\n\u001b[1;32m     55\u001b[0m \u001b[0;34m\u001b[0m\u001b[0m\n\u001b[0;32m---> 56\u001b[0;31m             \u001b[0mtrue_samples\u001b[0m \u001b[0;34m=\u001b[0m \u001b[0mtorch\u001b[0m\u001b[0;34m.\u001b[0m\u001b[0mrandn\u001b[0m\u001b[0;34m(\u001b[0m\u001b[0;36m200\u001b[0m\u001b[0;34m,\u001b[0m \u001b[0mz_dim\u001b[0m\u001b[0;34m,\u001b[0m \u001b[0mrequires_grad\u001b[0m\u001b[0;34m=\u001b[0m\u001b[0;32mFalse\u001b[0m\u001b[0;34m)\u001b[0m\u001b[0;34m.\u001b[0m\u001b[0mto\u001b[0m\u001b[0;34m(\u001b[0m\u001b[0mdevice\u001b[0m\u001b[0;34m)\u001b[0m\u001b[0;34m\u001b[0m\u001b[0;34m\u001b[0m\u001b[0m\n\u001b[0m\u001b[1;32m     57\u001b[0m             \u001b[0mmmd\u001b[0m \u001b[0;34m=\u001b[0m \u001b[0mcompute_mmd\u001b[0m\u001b[0;34m(\u001b[0m\u001b[0mtrue_samples\u001b[0m\u001b[0;34m,\u001b[0m \u001b[0mz\u001b[0m\u001b[0;34m)\u001b[0m\u001b[0;34m\u001b[0m\u001b[0;34m\u001b[0m\u001b[0m\n\u001b[1;32m     58\u001b[0m             \u001b[0mnll\u001b[0m \u001b[0;34m=\u001b[0m \u001b[0;34m(\u001b[0m\u001b[0mx_reconstructed\u001b[0m \u001b[0;34m-\u001b[0m \u001b[0mx\u001b[0m\u001b[0;34m)\u001b[0m\u001b[0;34m.\u001b[0m\u001b[0mpow\u001b[0m\u001b[0;34m(\u001b[0m\u001b[0;36m2\u001b[0m\u001b[0;34m)\u001b[0m\u001b[0;34m.\u001b[0m\u001b[0msum\u001b[0m\u001b[0;34m(\u001b[0m\u001b[0;34m)\u001b[0m\u001b[0;34m\u001b[0m\u001b[0;34m\u001b[0m\u001b[0m\n",
            "\u001b[0;31mKeyboardInterrupt\u001b[0m: "
          ]
        }
      ]
    },
    {
      "cell_type": "markdown",
      "metadata": {
        "id": "Mz63VjN8I1Wa",
        "colab_type": "text"
      },
      "source": [
        "## VAE"
      ]
    },
    {
      "cell_type": "code",
      "metadata": {
        "id": "2cHoILvYF8An",
        "colab_type": "code",
        "colab": {}
      },
      "source": [
        "import torch\n",
        "import torch.nn as nn\n",
        "import torch.nn.functional as F\n",
        "from torch.autograd import Variable\n",
        "\n",
        "class Flatten(nn.Module):\n",
        "    def forward(self, input):\n",
        "        return input.view(input.size(0), -1)\n",
        "\n",
        "class UnFlatten(nn.Module):\n",
        "    def forward(self, input, size=32):\n",
        "        return input.view(input.size(0), size, 1, 1)\n",
        "\n",
        "class VAE(nn.Module):\n",
        "    # def __init__(self, image_channels=3, h_dim=1024, z_dim=64):\n",
        "    #     super(VAE, self).__init__()\n",
        "    #     self.encoder = nn.Sequential(\n",
        "    #         nn.Conv2d(image_channels, 4, kernel_size=4, stride=2),\n",
        "    #         nn.ReLU(),\n",
        "    #         nn.Conv2d(4, 4, kernel_size=4, stride=2),\n",
        "    #         nn.ReLU(),\n",
        "    #         nn.Conv2d(4, 4, kernel_size=4, stride=2),\n",
        "    #         nn.ReLU(),\n",
        "    #         nn.Conv2d(4, 4, kernel_size=4, stride=2),\n",
        "    #         nn.ReLU(),\n",
        "    #         Flatten()\n",
        "    #     )\n",
        "    #     self.fc1 = nn.Linear(h_dim, z_dim)\n",
        "    #     self.fc2 = nn.Linear(h_dim, z_dim)\n",
        "    #     self.fc3 = nn.Linear(z_dim, h_dim)\n",
        "        \n",
        "    #     self.decoder = nn.Sequential(\n",
        "    #         UnFlatten(),\n",
        "    #         nn.ConvTranspose2d(h_dim, 4, kernel_size=8, stride=2),\n",
        "    #         nn.ReLU(),\n",
        "    #         nn.ConvTranspose2d(4, 4, kernel_size=7, stride=2),\n",
        "    #         nn.ReLU(),\n",
        "    #         nn.ConvTranspose2d(4, 4, kernel_size=5, stride=2),\n",
        "    #         nn.ReLU(),\n",
        "    #         nn.ConvTranspose2d(4, 4, kernel_size=6, stride=2),\n",
        "    #         nn.ReLU(),\n",
        "    #         nn.ConvTranspose2d(4, 4, kernel_size=5, stride=2),\n",
        "    #         nn.ReLU(),\n",
        "    #         nn.ConvTranspose2d(4, 4, kernel_size=3, stride=2),\n",
        "    #         nn.ReLU(),\n",
        "    #         nn.ConvTranspose2d(4, image_channels, kernel_size=4, stride=2),\n",
        "    #         nn.Sigmoid(),\n",
        "    #     )\n",
        "    def __init__(self, image_channels=3, h_dim=512, z_dim=32):\n",
        "        super(VAE, self).__init__()\n",
        "        self.encoder = nn.Sequential(\n",
        "            nn.Conv2d(image_channels, 32, kernel_size=4, stride=2),\n",
        "            nn.ReLU(),\n",
        "            nn.Conv2d(32, 64, kernel_size=4, stride=2),\n",
        "            nn.ReLU(),\n",
        "            nn.Conv2d(64, 64, kernel_size=4, stride=2),\n",
        "            nn.ReLU(),\n",
        "            nn.Conv2d(64, 128, kernel_size=4, stride=2),\n",
        "            nn.ReLU(),\n",
        "            Flatten()\n",
        "        )\n",
        "        \n",
        "        model_parameters = filter(lambda p: p.requires_grad, self.encoder.parameters())\n",
        "        params = sum([np.prod(p.size()) for p in model_parameters])\n",
        "        print('Trainable parameters encoder: ', params)\n",
        "        \n",
        "        self.fc1 = nn.Linear(h_dim, z_dim)\n",
        "        self.fc2 = nn.Linear(h_dim, z_dim)\n",
        "        self.fc3 = nn.Linear(z_dim, 32)\n",
        "        \n",
        "        self.decoder = nn.Sequential(\n",
        "            UnFlatten(),\n",
        "            nn.ConvTranspose2d(32, 32, kernel_size=5, stride=2),\n",
        "            nn.ReLU(),\n",
        "            nn.ConvTranspose2d(32, 16, kernel_size=5, stride=2),\n",
        "            nn.ReLU(),\n",
        "            nn.ConvTranspose2d(16, 8, kernel_size=6, stride=2),\n",
        "            nn.ReLU(),\n",
        "            nn.ConvTranspose2d(8, image_channels, kernel_size=6, stride=2),\n",
        "            nn.Sigmoid(),\n",
        "        )\n",
        "\n",
        "        model_parameters = filter(lambda p: p.requires_grad, self.decoder.parameters())\n",
        "        params = sum([np.prod(p.size()) for p in model_parameters])\n",
        "        print('Trainable parameters decoder: ', params)\n",
        "        \n",
        "    def reparameterize(self, mu, logvar):\n",
        "        std = logvar.mul(0.5).exp_()\n",
        "        # return torch.normal(mu, std)\n",
        "        esp = torch.randn(*mu.size()).to(device)\n",
        "        z = mu + std * esp\n",
        "        return z\n",
        "    \n",
        "    def bottleneck(self, h):\n",
        "        mu, logvar = self.fc1(h), self.fc2(h)\n",
        "        z = self.reparameterize(mu, logvar)\n",
        "        return z, mu, logvar\n",
        "\n",
        "    def encode(self, x):\n",
        "        h = self.encoder(x)\n",
        "        z, mu, logvar = self.bottleneck(h)\n",
        "        return z, mu, logvar\n",
        "\n",
        "    def decode(self, z):\n",
        "        z = self.fc3(z)\n",
        "        z = self.decoder(z)\n",
        "        return z\n",
        "\n",
        "    def forward(self, x):\n",
        "        z, mu, logvar = self.encode(x)\n",
        "        z = self.decode(z)\n",
        "        return z, mu, logvar"
      ],
      "execution_count": 0,
      "outputs": []
    },
    {
      "cell_type": "code",
      "metadata": {
        "id": "QtzeTRt4FycZ",
        "colab_type": "code",
        "outputId": "2abb9548-4c75-4a7a-9405-509d94474968",
        "colab": {
          "base_uri": "https://localhost:8080/",
          "height": 615
        }
      },
      "source": [
        "import seaborn as sns\n",
        "import matplotlib.pyplot as plt\n",
        "from torch.optim import Adam\n",
        "from PIL import Image\n",
        "import torch.nn.functional as F\n",
        "import numpy as np\n",
        "import torch\n",
        "from torch.autograd import Variable\n",
        "from torch.distributions import Categorical\n",
        "from random import randint\n",
        "\n",
        "import matplotlib.pyplot as plt\n",
        "import matplotlib.image as mpimg\n",
        "import cv2\n",
        "import numpy as np\n",
        "from matplotlib import pyplot as plt\n",
        "\n",
        "%matplotlib inline\n",
        "\n",
        "from torchvision.utils import save_image\n",
        "from torchvision.transforms.functional import to_pil_image, to_grayscale, to_tensor\n",
        "device = torch.device('cuda')\n",
        "\n",
        "batch_size = 32\n",
        "\n",
        "vae = VAE(image_channels=3).to(device)\n",
        "optimizer = torch.optim.Adam(vae.parameters(), lr=1e-3)\n",
        "print('Loaded model.')\n",
        "\n",
        "mode = 'filter'\n",
        "\n",
        "# https://github.com/sksq96/pytorch-vae/blob/master/vae-cnn.ipynb <-- source for code. \n",
        "def loss_fn(recon_x, x, vae_weights, mu, logvar):\n",
        "    # Generate weights\n",
        "\n",
        "    # Weighted BCE\n",
        "    # vae_weights = torch.ones(1, 3, 64, 64).to(device)\n",
        "    # vae_weights[:,0,:,:] *= 0.001\n",
        "    # vae_weights *= 0.99\n",
        "    # vae_weights = vae_weights.repeat(recon_x.shape[0], 1, 1, 1)\n",
        "    \n",
        "    BCE = F.binary_cross_entropy(recon_x, x, weight=vae_weights, reduction='sum')\n",
        "    \n",
        "    # see Appendix B from VAE paper:\n",
        "    # Kingma and Welling. Auto-Encoding Variational Bayes. ICLR, 2014\n",
        "    # 0.5 * sum(1 + log(sigma^2) - mu^2 - sigma^2)\n",
        "    KLD = -0.5 * torch.mean(1 + logvar - mu.pow(2) - logvar.exp())\n",
        "\n",
        "    return BCE + KLD, BCE, KLD\n",
        "\n",
        "def compare(x):\n",
        "    recon_x, _, _ = vae(x)\n",
        "    return torch.cat([x, recon_x])\n",
        "\n",
        "def max_rgb_filter(image):\n",
        "\t(R, G, B) = cv2.split(image)\n",
        " \n",
        "\t# find the maximum pixel intensity values for each\n",
        "\t# (x, y)-coordinate,, then set all pixel values less\n",
        "\t# than M to zero\n",
        "\tM = np.maximum(np.maximum(R, G), B)\n",
        "\tR[R < M] = 0\n",
        "\tG[G < M] = 0\n",
        "\tB[B < M] = 0\n",
        " \n",
        "\t# merge the channels back together and return the image\n",
        "\treturn cv2.merge([R, G, B])\n",
        " \n",
        "def main(episodes):\n",
        "    '''\n",
        "    TODO:\n",
        "    Assign weights based on distribution pixels.\n",
        "\n",
        "    ADD Filters as weights, but set the zeros to 0.001 and ones to 0.99.\n",
        "\n",
        "    Can also just use normal images, but with the CANNY edge detection as weights.\n",
        "    \n",
        "    '''\n",
        "    dataset = None\n",
        "    for i in range(1):\n",
        "        if dataset is None:\n",
        "            dataset = torch.load('{}/data/training_data_{}.pt'.format(base_url, i)) / 255\n",
        "        else:\n",
        "            dataset = torch.cat((dataset, torch.load('{}/data/training_data_{}.pt'.format(base_url, i)) / 255))\n",
        "    \n",
        "    test_dataset = torch.load('{}/data/training_data_{}.pt'.format(base_url, i+1)) / 255\n",
        "    dataset = np.array([np.transpose(x.data.numpy(), (1,2,0)) for x in dataset])  \n",
        "\n",
        "    if mode == 'ext':\n",
        "        dataset = [max_rgb_filter(np.uint8(x*255)) for x in dataset]\n",
        "        dataset = np.transpose(dataset, (0, 3, 1, 2))\n",
        "        dataset[:,0,:,:] *= 0\n",
        "    elif mode == 'canny':\n",
        "        filters = [cv2.Canny(np.uint8(x_*255*255), 100, 200) for x_ in dataset]\n",
        "        dataset = np.array([cv2.bitwise_and(x_, x_, mask=f) for x_, f in zip(dataset, filters)])\n",
        "        dataset = np.transpose(dataset, (0, 3, 1, 2))\n",
        "    elif mode == 'filter':\n",
        "        filters = np.repeat(np.array([np.array(cv2.Canny(np.uint8(x_*255*255), 100, 200)) for x_ in dataset]).reshape(-1, 1, 64, 64), 3, axis=1)\n",
        "        dataset = np.transpose(dataset, (0, 3, 1, 2))\n",
        "        dataset = np.array([np.array([x, f]) for x,f in zip(dataset, filters)])\n",
        "\n",
        "    dataset = torch.from_numpy(dataset).float() #/ 255\n",
        "\n",
        "    # dataset = dataset[:100]\n",
        "    # # Divide by 255\n",
        "    dataloader = torch.utils.data.DataLoader(dataset, batch_size=batch_size, shuffle=True)\n",
        "    test_dataloader = torch.utils.data.DataLoader(test_dataset, batch_size=batch_size, shuffle=False)\n",
        "\n",
        "    epochs = 200\n",
        "    print(dataset.shape, test_dataset.shape)\n",
        "    for epoch in range(epochs):\n",
        "        losses = [] \n",
        "        for i, batch in enumerate(dataloader):\n",
        "            optimizer.zero_grad()\n",
        "\n",
        "            f = (batch[:,1,:,:,:].squeeze()).to(device)\n",
        "            f[f == 0] = 0.05\n",
        "            f[f == 255] = 0.95\n",
        "\n",
        "            # torch.set_printoptions(profile=\"full\")\n",
        "            # print(f[0])\n",
        "            # print('---')\n",
        "            # torch.set_printoptions(profile=\"default\")\n",
        "            # break\n",
        "\n",
        "            b = batch[:,0,:,:,:].squeeze().to(device)\n",
        "            recon_images, mu, logvar = vae(b)\n",
        "            \n",
        "            loss, bce, kld = loss_fn(recon_images, b, f, mu, logvar)\n",
        "            loss.backward()\n",
        "            optimizer.step()\n",
        "\n",
        "        if epoch == 100:\n",
        "            print('reducing lr')\n",
        "            for param_group in optimizer.param_groups:\n",
        "                param_group['lr'] = 1e-4\n",
        "        print('Epoch {}, loss {}'.format(epoch+1, loss.item() / batch_size))\n",
        "        if epoch % 5 == 0:\n",
        "            fixed_x = b[randint(0, len(b)-1)].unsqueeze(0)\n",
        "            compare_x = compare(fixed_x.to(device))\n",
        "            \n",
        "            # print(torch.stack(, compare_x).shape)\n",
        "            save_image(compare_x.data.cpu(), '{}/neurosmash/images/sample_image_epoch_{}.png'.format(base_url, epoch))\n",
        "\n",
        "            # Show final result. \n",
        "            img = mpimg.imread('{}/neurosmash/images/sample_image_epoch_{}.png'.format(base_url, epoch))\n",
        "            imgplot = plt.imshow(img.squeeze())\n",
        "            plt.show()\n",
        "    \n",
        "    print('Predicting test set:')\n",
        "    for i, batch in enumerate(test_dataloader):\n",
        "        if i > 10:\n",
        "            break\n",
        "        b = b.to(device)\n",
        "        recon_images, mu, logvar = vae(b)\n",
        "\n",
        "        fixed_x = b[randint(0, len(b)-1)].unsqueeze(0)\n",
        "        compare_x = compare(fixed_x.to(device))\n",
        "        \n",
        "        save_image(compare_x.data.cpu(), '{}/neurosmash/images/sample_image_test_epoch_{}.png'.format(base_url, epoch))\n",
        "\n",
        "        # Show final result.\n",
        "        img = mpimg.imread('{}/neurosmash/images/sample_image_test_epoch_{}.png'.format(base_url, epoch))\n",
        "        imgplot = plt.imshow(img.squeeze())\n",
        "        plt.show()\n",
        "\n",
        "    # Store model.\n",
        "    torch.save(vae.state_dict(), 'vae.torch')\n",
        "\n",
        "main(50)"
      ],
      "execution_count": 0,
      "outputs": [
        {
          "output_type": "stream",
          "text": [
            "Trainable parameters encoder:  231200\n",
            "Trainable parameters decoder:  43931\n",
            "Loaded model.\n",
            "torch.Size([14668, 2, 3, 64, 64]) torch.Size([14894, 3, 64, 64])\n",
            "Epoch 1, loss 299.4956970214844\n"
          ],
          "name": "stdout"
        },
        {
          "output_type": "display_data",
          "data": {
            "image/png": "[encoded data removed]",
            "text/plain": [
              "<Figure size 432x288 with 1 Axes>"
            ]
          },
          "metadata": {
            "tags": []
          }
        },
        {
          "output_type": "stream",
          "text": [
            "Epoch 2, loss 298.2204284667969\n",
            "Epoch 3, loss 297.87249755859375\n",
            "Epoch 4, loss 300.10382080078125\n",
            "Epoch 5, loss 297.55029296875\n",
            "Epoch 6, loss 297.2063293457031\n"
          ],
          "name": "stdout"
        },
        {
          "output_type": "display_data",
          "data": {
            "image/png": "[encoded data removed]",
            "text/plain": [
              "<Figure size 432x288 with 1 Axes>"
            ]
          },
          "metadata": {
            "tags": []
          }
        },
        {
          "output_type": "stream",
          "text": [
            "Epoch 7, loss 296.94232177734375\n"
          ],
          "name": "stdout"
        }
      ]
    },
    {
      "cell_type": "markdown",
      "metadata": {
        "id": "hgBTzCLNnfGm",
        "colab_type": "text"
      },
      "source": [
        "## VAE-GAN <-- wtf is even happening here.."
      ]
    },
    {
      "cell_type": "code",
      "metadata": {
        "id": "5Udmef3Ongqy",
        "colab_type": "code",
        "colab": {}
      },
      "source": [
        "import torch\n",
        "import torch.nn.functional as F\n",
        "import torch.nn as nn\n",
        "from torch.autograd import Variable\n",
        "import numpy\n",
        "from torchvision.utils import save_image\n",
        "import seaborn as sns\n",
        "import matplotlib.pyplot as plt\n",
        "from torch.optim import Adam\n",
        "from PIL import Image\n",
        "import torch.nn.functional as F\n",
        "import numpy as np\n",
        "import torch\n",
        "from torch.autograd import Variable\n",
        "from torch.distributions import Categorical\n",
        "from random import randint\n",
        "\n",
        "import matplotlib.pyplot as plt\n",
        "import matplotlib.image as mpimg\n",
        "from skimage import io, transform\n",
        "\n",
        "\n",
        "# encoder block (used in encoder and discriminator)\n",
        "class EncoderBlock(nn.Module):\n",
        "    def __init__(self, channel_in, channel_out):\n",
        "        super(EncoderBlock, self).__init__()\n",
        "        # convolution to halve the dimensions\n",
        "        self.conv = nn.Conv2d(in_channels=channel_in, out_channels=channel_out, kernel_size=5, padding=2, stride=2,\n",
        "                              bias=False)\n",
        "        self.bn = nn.BatchNorm2d(num_features=channel_out, momentum=0.9)\n",
        "\n",
        "    def forward(self, ten, out=False,t = False):\n",
        "        # here we want to be able to take an intermediate output for reconstruction error\n",
        "        if out:\n",
        "            ten = self.conv(ten)\n",
        "            ten_out = ten\n",
        "            ten = self.bn(ten)\n",
        "            ten = F.relu(ten, False)\n",
        "            return ten, ten_out\n",
        "        else:\n",
        "            ten = self.conv(ten)\n",
        "            ten = self.bn(ten)\n",
        "            ten = F.relu(ten, True)\n",
        "            return ten\n",
        "\n",
        "\n",
        "# decoder block (used in the decoder)\n",
        "class DecoderBlock(nn.Module):\n",
        "    def __init__(self, channel_in, channel_out):\n",
        "        super(DecoderBlock, self).__init__()\n",
        "        # transpose convolution to double the dimensions\n",
        "        self.conv = nn.ConvTranspose2d(channel_in, channel_out, kernel_size=5, padding=2, stride=2, output_padding=1,\n",
        "                                       bias=False)\n",
        "        self.bn = nn.BatchNorm2d(channel_out, momentum=0.9)\n",
        "\n",
        "    def forward(self, ten):\n",
        "        ten = self.conv(ten)\n",
        "        ten = self.bn(ten)\n",
        "        ten = F.relu(ten, True)\n",
        "        return ten\n",
        "\n",
        "\n",
        "class Encoder(nn.Module):\n",
        "    def __init__(self, channel_in=3, z_size=128):\n",
        "        super(Encoder, self).__init__()\n",
        "        self.size = channel_in\n",
        "        layers_list = []\n",
        "        # the first time 3->64, for every other double the channel size\n",
        "        for i in range(3):\n",
        "            if i == 0:\n",
        "                layers_list.append(EncoderBlock(channel_in=self.size, channel_out=64))\n",
        "                self.size = 64\n",
        "            else:\n",
        "                layers_list.append(EncoderBlock(channel_in=self.size, channel_out=self.size * 2))\n",
        "                self.size *= 2\n",
        "\n",
        "        # final shape Bx256x8x8\n",
        "        self.conv = nn.Sequential(*layers_list)\n",
        "        self.fc = nn.Sequential(nn.Linear(in_features=8 * 8 * self.size, out_features=1024, bias=False),\n",
        "                                nn.BatchNorm1d(num_features=1024,momentum=0.9),\n",
        "                                nn.ReLU(True))\n",
        "        # two linear to get the mu vector and the diagonal of the log_variance\n",
        "        self.l_mu = nn.Linear(in_features=1024, out_features=z_size)\n",
        "        self.l_var = nn.Linear(in_features=1024, out_features=z_size)\n",
        "\n",
        "    def forward(self, ten):\n",
        "        ten = self.conv(ten)\n",
        "        ten = ten.view(len(ten), -1)\n",
        "        ten = self.fc(ten)\n",
        "        mu = self.l_mu(ten)\n",
        "        logvar = self.l_var(ten)\n",
        "        return mu, logvar\n",
        "\n",
        "    def __call__(self, *args, **kwargs):\n",
        "        return super(Encoder, self).__call__(*args, **kwargs)\n",
        "\n",
        "\n",
        "class Decoder(nn.Module):\n",
        "    def __init__(self, z_size, size):\n",
        "        super(Decoder, self).__init__()\n",
        "        # start from B*z_size\n",
        "        self.fc = nn.Sequential(nn.Linear(in_features=z_size, out_features=8 * 8 * size, bias=False),\n",
        "                                nn.BatchNorm1d(num_features=8 * 8 * size,momentum=0.9),\n",
        "                                nn.ReLU(True))\n",
        "        self.size = size\n",
        "        layers_list = []\n",
        "        layers_list.append(DecoderBlock(channel_in=self.size, channel_out=self.size))\n",
        "        layers_list.append(DecoderBlock(channel_in=self.size, channel_out=self.size//2))\n",
        "        self.size = self.size//2\n",
        "        layers_list.append(DecoderBlock(channel_in=self.size, channel_out=self.size//4))\n",
        "        self.size = self.size//4\n",
        "        # final conv to get 3 channels and tanh layer\n",
        "        layers_list.append(nn.Sequential(\n",
        "            nn.Conv2d(in_channels=self.size, out_channels=3, kernel_size=5, stride=1, padding=2),\n",
        "            nn.Tanh()\n",
        "        ))\n",
        "\n",
        "        self.conv = nn.Sequential(*layers_list)\n",
        "\n",
        "    def forward(self, ten):\n",
        "\n",
        "        ten = self.fc(ten)\n",
        "        ten = ten.view(len(ten), -1, 8, 8)\n",
        "        ten = self.conv(ten)\n",
        "        return ten\n",
        "\n",
        "    def __call__(self, *args, **kwargs):\n",
        "        return super(Decoder, self).__call__(*args, **kwargs)\n",
        "\n",
        "\n",
        "class Discriminator(nn.Module):\n",
        "    def __init__(self, channel_in=3,recon_level=3):\n",
        "        super(Discriminator, self).__init__()\n",
        "        self.size = channel_in\n",
        "        self.recon_levl = recon_level\n",
        "        # module list because we need need to extract an intermediate output\n",
        "        self.conv = nn.ModuleList()\n",
        "        self.conv.append(nn.Sequential(\n",
        "            nn.Conv2d(in_channels=3, out_channels=32, kernel_size=5, stride=1, padding=2),\n",
        "            nn.ReLU(inplace=True)))\n",
        "        self.size = 32\n",
        "        self.conv.append(EncoderBlock(channel_in=self.size, channel_out=128))\n",
        "        self.size = 128\n",
        "        self.conv.append(EncoderBlock(channel_in=self.size, channel_out=256))\n",
        "        self.size = 256\n",
        "        self.conv.append(EncoderBlock(channel_in=self.size, channel_out=256))\n",
        "        # final fc to get the score (real or fake)\n",
        "        self.fc = nn.Sequential(\n",
        "            nn.Linear(in_features=8 * 8 * self.size, out_features=512, bias=False),\n",
        "            nn.BatchNorm1d(num_features=512,momentum=0.9),\n",
        "            nn.ReLU(inplace=True),\n",
        "            nn.Linear(in_features=512, out_features=1),\n",
        "\n",
        "        )\n",
        "\n",
        "    def forward(self, ten,other_ten,mode='REC'):\n",
        "        if mode == \"REC\":\n",
        "            ten = torch.cat((ten, other_ten), 0)\n",
        "            for i, lay in enumerate(self.conv):\n",
        "                # we take the 9th layer as one of the outputs\n",
        "                if i == self.recon_levl:\n",
        "                    ten, layer_ten = lay(ten, True)\n",
        "                    # we need the layer representations just for the original and reconstructed,\n",
        "                    # flatten, because it's a convolutional shape\n",
        "                    layer_ten = layer_ten.view(len(layer_ten), -1)\n",
        "                    return layer_ten\n",
        "                else:\n",
        "                    ten = lay(ten)\n",
        "        else:\n",
        "            ten = torch.cat((ten, other_ten), 0)\n",
        "            for i, lay in enumerate(self.conv):\n",
        "                    ten = lay(ten)\n",
        "\n",
        "            ten = ten.view(len(ten), -1)\n",
        "            ten = self.fc(ten)\n",
        "            return F.sigmoid(ten)\n",
        "\n",
        "\n",
        "    def __call__(self, *args, **kwargs):\n",
        "        return super(Discriminator, self).__call__(*args, **kwargs)\n",
        "\n",
        "\n",
        "class VaeGan(nn.Module):\n",
        "    def __init__(self,z_size=128,recon_level=3):\n",
        "        super(VaeGan, self).__init__()\n",
        "        # latent space size\n",
        "        self.z_size = z_size\n",
        "        self.encoder = Encoder(z_size=self.z_size)\n",
        "        self.decoder = Decoder(z_size=self.z_size, size=self.encoder.size)\n",
        "        self.discriminator = Discriminator(channel_in=3,recon_level=recon_level)\n",
        "        # self-defined function to init the parameters\n",
        "        self.init_parameters()\n",
        "\n",
        "    def init_parameters(self):\n",
        "        # just explore the network, find every weight and bias matrix and fill it\n",
        "        for m in self.modules():\n",
        "            if isinstance(m, (nn.Conv2d, nn.ConvTranspose2d, nn.Linear)):\n",
        "                if hasattr(m, \"weight\") and m.weight is not None and m.weight.requires_grad:\n",
        "                    #init as original implementation\n",
        "                    scale = 1.0/numpy.sqrt(numpy.prod(m.weight.shape[1:]))\n",
        "                    scale /=numpy.sqrt(3)\n",
        "                    #nn.init.xavier_normal(m.weight,1)\n",
        "                    #nn.init.constant(m.weight,0.005)\n",
        "                    nn.init.uniform(m.weight,-scale,scale)\n",
        "                if hasattr(m, \"bias\") and m.bias is not None and m.bias.requires_grad:\n",
        "                    nn.init.constant(m.bias, 0.0)\n",
        "\n",
        "    def forward(self, ten, gen_size=10):\n",
        "        if self.training:\n",
        "            # save the original images\n",
        "            ten_original = ten\n",
        "            # encode\n",
        "            mus, log_variances = self.encoder(ten)\n",
        "            # we need the true variances, not the log one\n",
        "            variances = torch.exp(log_variances * 0.5)\n",
        "            # sample from a gaussian\n",
        "\n",
        "            ten_from_normal = Variable(torch.randn(len(ten), self.z_size).cuda(), requires_grad=True)\n",
        "            # shift and scale using the means and variances\n",
        "\n",
        "            ten = ten_from_normal * variances + mus\n",
        "            # decode the tensor\n",
        "            ten = self.decoder(ten)\n",
        "            # discriminator for reconstruction\n",
        "            ten_layer = self.discriminator(ten, ten_original, \"REC\")\n",
        "            # decoder for samples\n",
        "\n",
        "            ten_from_normal = Variable(torch.randn(len(ten), self.z_size).cuda(), requires_grad=True)\n",
        "\n",
        "            ten = self.decoder(ten_from_normal)\n",
        "            ten_class = self.discriminator(ten_original, ten, \"GAN\")\n",
        "            return ten, ten_class, ten_layer, mus, log_variances\n",
        "        else:\n",
        "            if ten is None:\n",
        "                # just sample and decode\n",
        "\n",
        "                ten = Variable(torch.randn(gen_size, self.z_size).cuda(), requires_grad=False)\n",
        "                ten = self.decoder(ten)\n",
        "            else:\n",
        "                mus, log_variances = self.encoder(ten)\n",
        "                # we need the true variances, not the log one\n",
        "                variances = torch.exp(log_variances * 0.5)\n",
        "                # sample from a gaussian\n",
        "\n",
        "                ten_from_normal = Variable(torch.randn(len(ten), self.z_size).cuda(), requires_grad=False)\n",
        "                # shift and scale using the means and variances\n",
        "                ten = ten_from_normal * variances + mus\n",
        "                # decode the tensor\n",
        "                ten = self.decoder(ten)\n",
        "            return ten\n",
        "\n",
        "\n",
        "\n",
        "    def __call__(self, *args, **kwargs):\n",
        "        return super(VaeGan, self).__call__(*args, **kwargs)\n",
        "\n",
        "    @staticmethod\n",
        "    def loss(ten_original, ten_predict, layer_original, layer_predicted, labels_original,\n",
        "             labels_sampled, mus, variances):\n",
        "        \"\"\"\n",
        "        :param ten_original: original images\n",
        "        :param ten_predict:  predicted images (output of the decoder)\n",
        "        :param layer_original:  intermediate layer for original (intermediate output of the discriminator)\n",
        "        :param layer_predicted: intermediate layer for reconstructed (intermediate output of the discriminator)\n",
        "        :param labels_original: labels for original (output of the discriminator)\n",
        "        :param labels_predicted: labels for reconstructed (output of the discriminator)\n",
        "        :param labels_sampled: labels for sampled from gaussian (0,1) (output of the discriminator)\n",
        "        :param mus: tensor of means\n",
        "        :param variances: tensor of diagonals of log_variances\n",
        "        :return:\n",
        "        \"\"\"\n",
        "\n",
        "        # reconstruction error, not used for the loss but useful to evaluate quality\n",
        "        nle = 0.5*(ten_original.view(len(ten_original), -1) - ten_predict.view(len(ten_predict), -1)) ** 2\n",
        "        # kl-divergence\n",
        "        kl = -0.5 * torch.sum(-variances.exp() - torch.pow(mus,2) + variances + 1, 1)\n",
        "        # mse between intermediate layers\n",
        "        mse = torch.sum(0.5*(layer_original - layer_predicted) ** 2, 1)\n",
        "        # bce for decoder and discriminator for original,sampled and reconstructed\n",
        "        # the only excluded is the bce_gen_original\n",
        "\n",
        "        bce_dis_original = -torch.log(labels_original + 1e-3)\n",
        "        bce_dis_sampled = -torch.log(1 - labels_sampled + 1e-3)\n",
        "\n",
        "        bce_gen_original = -torch.log(1-labels_original + 1e-3)\n",
        "        bce_gen_sampled = -torch.log(labels_sampled + 1e-3)\n",
        "        '''\n",
        "        \n",
        "        bce_gen_predicted = nn.BCEWithLogitsLoss(size_average=False)(labels_predicted,\n",
        "                                         Variable(torch.ones_like(labels_predicted.data).cuda(), requires_grad=False))\n",
        "        bce_gen_sampled = nn.BCEWithLogitsLoss(size_average=False)(labels_sampled,\n",
        "                                       Variable(torch.ones_like(labels_sampled.data).cuda(), requires_grad=False))\n",
        "        bce_dis_original = nn.BCEWithLogitsLoss(size_average=False)(labels_original,\n",
        "                                        Variable(torch.ones_like(labels_original.data).cuda(), requires_grad=False))\n",
        "        bce_dis_predicted = nn.BCEWithLogitsLoss(size_average=False)(labels_predicted,\n",
        "                                         Variable(torch.zeros_like(labels_predicted.data).cuda(), requires_grad=False))\n",
        "        bce_dis_sampled = nn.BCEWithLogitsLoss(size_average=False)(labels_sampled,\n",
        "                                       Variable(torch.zeros_like(labels_sampled.data).cuda(), requires_grad=False))\n",
        "        '''\n",
        "        return nle, kl, mse, bce_dis_original, bce_dis_sampled,bce_gen_original,bce_gen_sampled"
      ],
      "execution_count": 0,
      "outputs": []
    },
    {
      "cell_type": "code",
      "metadata": {
        "id": "W6UNJjPZo9Te",
        "colab_type": "code",
        "colab": {}
      },
      "source": [
        "# just a class to store a rolling average\n",
        "# useful to log to TB\n",
        "class RollingMeasure(object):\n",
        "    def __init__(self):\n",
        "        self.measure = 0.0\n",
        "        self.iter = 0\n",
        "\n",
        "    def __call__(self, measure):\n",
        "        # passo nuovo valore e ottengo average\n",
        "        # se first call inizializzo\n",
        "        if self.iter == 0:\n",
        "            self.measure = measure\n",
        "        else:\n",
        "            self.measure = (1.0 / self.iter * measure) + (1 - 1.0 / self.iter) * self.measure\n",
        "        self.iter += 1\n",
        "        return self.measure"
      ],
      "execution_count": 0,
      "outputs": []
    },
    {
      "cell_type": "code",
      "metadata": {
        "id": "IXQxhqV_pK8W",
        "colab_type": "code",
        "outputId": "c564d49b-2a0b-4c44-c4b4-d6de60739961",
        "colab": {
          "base_uri": "https://localhost:8080/"
        }
      },
      "source": [
        "!pip install tensorboardX"
      ],
      "execution_count": 0,
      "outputs": [
        {
          "output_type": "stream",
          "text": [
            "Requirement already satisfied: tensorboardX in /usr/local/lib/python3.6/dist-packages (1.9)\n",
            "Requirement already satisfied: protobuf>=3.8.0 in /usr/local/lib/python3.6/dist-packages (from tensorboardX) (3.10.0)\n",
            "Requirement already satisfied: six in /usr/local/lib/python3.6/dist-packages (from tensorboardX) (1.12.0)\n",
            "Requirement already satisfied: numpy in /usr/local/lib/python3.6/dist-packages (from tensorboardX) (1.17.4)\n",
            "Requirement already satisfied: setuptools in /usr/local/lib/python3.6/dist-packages (from protobuf>=3.8.0->tensorboardX) (42.0.1)\n"
          ],
          "name": "stdout"
        }
      ]
    },
    {
      "cell_type": "code",
      "metadata": {
        "id": "f3G91unznmx7",
        "colab_type": "code",
        "outputId": "ea203840-f3d3-400f-efcd-5a5281a28313",
        "colab": {
          "base_uri": "https://localhost:8080/"
        }
      },
      "source": [
        "import torch\n",
        "import numpy\n",
        "numpy.random.seed(8)\n",
        "torch.manual_seed(8)\n",
        "torch.cuda.manual_seed(8)\n",
        "from torch.autograd import Variable\n",
        "from torch.utils.data import Dataset\n",
        "from tensorboardX import SummaryWriter\n",
        "from torch.optim import RMSprop,Adam,SGD\n",
        "from torch.optim.lr_scheduler import ExponentialLR,MultiStepLR\n",
        "import progressbar\n",
        "from torchvision.utils import make_grid\n",
        "\n",
        "\n",
        "if __name__ == \"__main__\":\n",
        "\n",
        "    train_folder = '{}/data/training_data_0.pt'.format(base_url)\n",
        "    test_folder = '{}/data/training_data_1.pt'.format(base_url)\n",
        "    z_size = 128#args.z_size\n",
        "    recon_level = 3#args.recon_level\n",
        "    decay_mse = 1#args.decay_mse\n",
        "    decay_margin = 1#args.decay_margin\n",
        "    n_epochs = 12#args.n_epochs\n",
        "    lambda_mse = 1e-6#args.lambda_mse\n",
        "    lr = 3e-4#args.lr\n",
        "    decay_lr = 0.75#args.decay_lr\n",
        "    decay_equilibrium = 1#args.decay_equilibrium\n",
        "    slurm = False #args.slurm\n",
        "\n",
        "    writer = SummaryWriter(comment=\"_CELEBA_NEW_DATA_STOCK_GAN\")\n",
        "    net = VaeGan(z_size=z_size,recon_level=recon_level).cuda()\n",
        "\n",
        "    # train = torch.load(train_folder)\n",
        "\n",
        "    # DATASET\n",
        "    train = torch.load(train_folder)[:100]\n",
        "    test = torch.load(test_folder)[:10]\n",
        "    dataloader = torch.utils.data.DataLoader(train, batch_size=64,\n",
        "                                                shuffle=True, num_workers=4)\n",
        "    # DATASET for test\n",
        "    # if you want to split train from test just move some files in another dir\n",
        "    dataloader_test = torch.utils.data.DataLoader(test, batch_size=100,\n",
        "                                                      shuffle=False, num_workers=1)\n",
        "\n",
        "    #margin and equilibirum\n",
        "    margin = 0.35\n",
        "    equilibrium = 0.68\n",
        "    #mse_lambda = 1.0\n",
        "    # OPTIM-LOSS\n",
        "    # an optimizer for each of the sub-networks, so we can selectively backprop\n",
        "    #optimizer_encoder = Adam(params=net.encoder.parameters(),lr = lr,betas=(0.9,0.999))\n",
        "    optimizer_encoder = RMSprop(params=net.encoder.parameters(),lr=lr,alpha=0.9,eps=1e-8,weight_decay=0,momentum=0,centered=False)\n",
        "    #lr_encoder = MultiStepLR(optimizer_encoder,milestones=[2],gamma=1)\n",
        "    lr_encoder = ExponentialLR(optimizer_encoder, gamma=decay_lr)\n",
        "    #optimizer_decoder = Adam(params=net.decoder.parameters(),lr = lr,betas=(0.9,0.999))\n",
        "    optimizer_decoder = RMSprop(params=net.decoder.parameters(),lr=lr,alpha=0.9,eps=1e-8,weight_decay=0,momentum=0,centered=False)\n",
        "    lr_decoder = ExponentialLR(optimizer_decoder, gamma=decay_lr)\n",
        "    #lr_decoder = MultiStepLR(optimizer_decoder,milestones=[2],gamma=1)\n",
        "    #optimizer_discriminator = Adam(params=net.discriminator.parameters(),lr = lr,betas=(0.9,0.999))\n",
        "    optimizer_discriminator = RMSprop(params=net.discriminator.parameters(),lr=lr,alpha=0.9,eps=1e-8,weight_decay=0,momentum=0,centered=False)\n",
        "    lr_discriminator = ExponentialLR(optimizer_discriminator, gamma=decay_lr)\n",
        "    #lr_discriminator = MultiStepLR(optimizer_discriminator,milestones=[2],gamma=1)\n",
        "\n",
        "    batch_number = len(dataloader)\n",
        "    step_index = 0\n",
        "    widgets = [\n",
        "\n",
        "        'Batch: ', progressbar.Counter(),\n",
        "        '/', progressbar.FormatCustomText('%(total)s', {\"total\": batch_number}),\n",
        "        ' ', progressbar.Bar(marker=\"-\", left='[', right=']'),\n",
        "        ' ', progressbar.ETA(),\n",
        "        ' ',\n",
        "        progressbar.DynamicMessage('loss_nle'),\n",
        "        ' ',\n",
        "        progressbar.DynamicMessage('loss_encoder'),\n",
        "        ' ',\n",
        "        progressbar.DynamicMessage('loss_decoder'),\n",
        "        ' ',\n",
        "        progressbar.DynamicMessage('loss_discriminator'),\n",
        "        ' ',\n",
        "        progressbar.DynamicMessage('loss_mse_layer'),\n",
        "        ' ',\n",
        "        progressbar.DynamicMessage('loss_kld'),\n",
        "        ' ',\n",
        "        progressbar.DynamicMessage(\"epoch\")\n",
        "    ]\n",
        "    # for each epoch\n",
        "    if slurm:\n",
        "        print(args)\n",
        "    for i in range(n_epochs):\n",
        "        print(i)\n",
        "\n",
        "        progress = progressbar.ProgressBar(min_value=0, max_value=batch_number, initial_value=0,\n",
        "                                           widgets=widgets).start()\n",
        "        # reset rolling average\n",
        "        loss_nle_mean = RollingMeasure()\n",
        "        loss_encoder_mean = RollingMeasure()\n",
        "        loss_decoder_mean = RollingMeasure()\n",
        "        loss_discriminator_mean = RollingMeasure()\n",
        "        loss_reconstruction_layer_mean = RollingMeasure()\n",
        "        loss_kld_mean = RollingMeasure()\n",
        "        gan_gen_eq_mean = RollingMeasure()\n",
        "        gan_dis_eq_mean = RollingMeasure()\n",
        "        print(\"LR:{}\".format(lr_encoder.get_lr()))\n",
        "\n",
        "        # for each batch\n",
        "        for j, data_batch in enumerate(dataloader):\n",
        "            data_batch = data_batch / 255\n",
        "            target_batch = data_batch\n",
        "            \n",
        "            # set to train mode\n",
        "            net.train()\n",
        "            # target and input are the same images\n",
        "\n",
        "            data_target = Variable(target_batch, requires_grad=False).float().cuda()\n",
        "            data_in = Variable(data_batch, requires_grad=False).float().cuda()\n",
        "\n",
        "\n",
        "            # get output\n",
        "            out, out_labels, out_layer, mus, variances = net(data_in)\n",
        "            # split so we can get the different parts\n",
        "            out_layer_predicted = out_layer[:len(out_layer) // 2]\n",
        "            out_layer_original = out_layer[len(out_layer) // 2:]\n",
        "            # TODO set a batch_len variable to get a clean code here\n",
        "            out_labels_original = out_labels[:len(out_labels) // 2]\n",
        "            out_labels_sampled = out_labels[-len(out_labels) // 2:]\n",
        "            # loss, nothing special here\n",
        "            nle_value, kl_value, mse_value, bce_dis_original_value, bce_dis_sampled_value,\\\n",
        "                bce_gen_original_value,bce_gen_sampled_value= VaeGan.loss(data_target, out, out_layer_original,\n",
        "                                                                         out_layer_predicted, out_labels_original,\n",
        "                                                                          out_labels_sampled, mus,\n",
        "                                                                         variances)\n",
        "            # THIS IS THE MOST IMPORTANT PART OF THE CODE\n",
        "            loss_encoder = torch.sum(kl_value)+torch.sum(mse_value)\n",
        "            loss_discriminator = torch.sum(bce_dis_original_value) + torch.sum(bce_dis_sampled_value)\n",
        "            loss_decoder = torch.sum(lambda_mse * mse_value) - (1.0 - lambda_mse) * loss_discriminator\n",
        "            # register mean values of the losses for logging\n",
        "            loss_nle_mean(torch.mean(nle_value).data.cpu().numpy())\n",
        "            loss_discriminator_mean((torch.mean(bce_dis_original_value) + torch.mean(bce_dis_sampled_value)).data.cpu().numpy())\n",
        "            loss_decoder_mean((torch.mean(lambda_mse * mse_value) - (1 - lambda_mse) * (torch.mean(bce_dis_original_value) + torch.mean(bce_dis_sampled_value))).data.cpu().numpy())\n",
        "\n",
        "            loss_encoder_mean((torch.mean(kl_value) + torch.mean(mse_value)).data.cpu().numpy())\n",
        "            loss_reconstruction_layer_mean(torch.mean(mse_value).data.cpu().numpy())\n",
        "            loss_kld_mean(torch.mean(kl_value).data.cpu().numpy())\n",
        "            # selectively disable the decoder of the discriminator if they are unbalanced\n",
        "            train_dis = True\n",
        "            train_dec = True\n",
        "            if torch.mean(bce_dis_original_value).item() < equilibrium-margin or torch.mean(bce_dis_sampled_value).item() < equilibrium-margin:\n",
        "                train_dis = False\n",
        "            if torch.mean(bce_dis_original_value).item() > equilibrium+margin or torch.mean(bce_dis_sampled_value).item() > equilibrium+margin:\n",
        "                train_dec = False\n",
        "            if train_dec is False and train_dis is False:\n",
        "                train_dis = True\n",
        "                train_dec = True\n",
        "\n",
        "            #aggiungo log\n",
        "            if train_dis:\n",
        "                gan_dis_eq_mean(1.0)\n",
        "            else:\n",
        "                gan_dis_eq_mean(0.0)\n",
        "\n",
        "            if train_dec:\n",
        "                gan_gen_eq_mean(1.0)\n",
        "            else:\n",
        "                gan_gen_eq_mean(0.0)\n",
        "\n",
        "            # BACKPROP\n",
        "            # clean grads\n",
        "            net.zero_grad()\n",
        "            # encoder\n",
        "            loss_encoder.backward(retain_graph=True)\n",
        "            # someone likes to clamp the grad here\n",
        "            #[p.grad.data.clamp_(-1,1) for p in net.encoder.parameters()]\n",
        "            # update parameters\n",
        "            optimizer_encoder.step()\n",
        "            # clean others, so they are not afflicted by encoder loss\n",
        "            net.zero_grad()\n",
        "            #decoder\n",
        "            if train_dec:\n",
        "                loss_decoder.backward(retain_graph=True)\n",
        "                #[p.grad.data.clamp_(-1,1) for p in net.decoder.parameters()]\n",
        "                optimizer_decoder.step()\n",
        "                #clean the discriminator\n",
        "                net.discriminator.zero_grad()\n",
        "            #discriminator\n",
        "            if train_dis:\n",
        "                loss_discriminator.backward()\n",
        "                #[p.grad.data.clamp_(-1,1) for p in net.discriminator.parameters()]\n",
        "                optimizer_discriminator.step()\n",
        "\n",
        "            # LOGGING\n",
        "            # if  slurm:\n",
        "            # progress.update(progress.value + 1, loss_nle=loss_nle_mean.measure,\n",
        "            #                 loss_encoder=loss_encoder_mean.measure,\n",
        "            #                 loss_decoder=loss_decoder_mean.measure,\n",
        "            #                 loss_discriminator=loss_discriminator_mean.measure,\n",
        "            #                 loss_mse_layer=loss_reconstruction_layer_mean.measure,\n",
        "            #                 loss_kld=loss_kld_mean.measure,\n",
        "            #                 epoch=i + 1)\n",
        "\n",
        "        # EPOCH END\n",
        "        progress.update(progress.value + 1, loss_nle=loss_nle_mean.measure,\n",
        "                        loss_encoder=loss_encoder_mean.measure,\n",
        "                        loss_decoder=loss_decoder_mean.measure,\n",
        "                        loss_discriminator=loss_discriminator_mean.measure,\n",
        "                        loss_mse_layer=loss_reconstruction_layer_mean.measure,\n",
        "                        loss_kld=loss_kld_mean.measure,\n",
        "                        epoch=i + 1)\n",
        "        lr_encoder.step()\n",
        "        lr_decoder.step()\n",
        "        lr_discriminator.step()\n",
        "        margin *=decay_margin\n",
        "        equilibrium *=decay_equilibrium\n",
        "        #margin non puo essere piu alto di equilibrium\n",
        "        if margin > equilibrium:\n",
        "            equilibrium = margin\n",
        "        lambda_mse *=decay_mse\n",
        "        if lambda_mse > 1:\n",
        "            lambda_mse=1\n",
        "        progress.finish()\n",
        "\n",
        "        writer.add_scalar('loss_encoder', loss_encoder_mean.measure, step_index)\n",
        "        writer.add_scalar('loss_decoder', loss_decoder_mean.measure, step_index)\n",
        "        writer.add_scalar('loss_discriminator', loss_discriminator_mean.measure, step_index)\n",
        "        writer.add_scalar('loss_reconstruction', loss_nle_mean.measure, step_index)\n",
        "        writer.add_scalar('loss_kld',loss_kld_mean.measure,step_index)\n",
        "        writer.add_scalar('gan_gen',gan_gen_eq_mean.measure,step_index)\n",
        "        writer.add_scalar('gan_dis',gan_dis_eq_mean.measure,step_index)\n",
        "\n",
        "    for j, data_batch in enumerate(dataloader_test):\n",
        "        data_batch = data_batch / 255\n",
        "        target_batch = data_batch\n",
        "        net.eval()\n",
        "\n",
        "        data_in = Variable(data_batch, requires_grad=False).float().cuda()\n",
        "        data_target = Variable(target_batch, requires_grad=False).float().cuda()\n",
        "        out = net(data_in)\n",
        "        out = out.data.cpu()\n",
        "        out = (out + 1) / 2\n",
        "        out = make_grid(out, nrow=8)\n",
        "        save_image(out.data.cpu(), '{}/neurosmash/images_gan/sample_image_epoch_{}_rec.png'.format(base_url, j))\n",
        "\n",
        "        img = mpimg.imread('{}/neurosmash/images_gan/sample_image_epoch_{}_rec.png'.format(base_url, j))\n",
        "        imgplot = plt.imshow(img)\n",
        "        plt.show()\n",
        "        # out = net(None, 100)\n",
        "        # out = out.data.cpu()\n",
        "        # out = (out + 1) / 2\n",
        "        # out = make_grid(out, nrow=8)\n",
        "        # writer.add_image(\"generated\", out, step_index)\n",
        "\n",
        "        out = data_target.data.cpu()\n",
        "        out = (out + 1) / 2\n",
        "        out = make_grid(out, nrow=8)\n",
        "        save_image(out.data.cpu(), '{}/neurosmash/images_gan/sample_image_epoch_{}_orig.png'.format(base_url, j))\n",
        "        break\n",
        "\n",
        "        step_index += 1"
      ],
      "execution_count": 0,
      "outputs": [
        {
          "output_type": "stream",
          "text": [
            "/usr/local/lib/python3.6/dist-packages/ipykernel_launcher.py:204: UserWarning: nn.init.uniform is now deprecated in favor of nn.init.uniform_.\n",
            "/usr/local/lib/python3.6/dist-packages/ipykernel_launcher.py:206: UserWarning: nn.init.constant is now deprecated in favor of nn.init.constant_.\n",
            "Batch: 0/2 [] ETA:  --:--:-- loss_nle: ------ loss_encoder: ------ loss_decoder: ------ loss_discriminator: ------ loss_mse_layer: ------ loss_kld: ------ epoch: ------"
          ],
          "name": "stderr"
        },
        {
          "output_type": "stream",
          "text": [
            "0\n",
            "LR:[0.0003]\n"
          ],
          "name": "stdout"
        },
        {
          "output_type": "stream",
          "text": [
            "/usr/local/lib/python3.6/dist-packages/torch/nn/functional.py:1351: UserWarning: nn.functional.sigmoid is deprecated. Use torch.sigmoid instead.\n",
            "  warnings.warn(\"nn.functional.sigmoid is deprecated. Use torch.sigmoid instead.\")\n",
            "Batch: 2/2 [] Time:  0:00:01 loss_nle:  0.154 loss_encoder: 2.63e+03 loss_decoder: -0.0816 loss_discriminator: 0.0842 loss_mse_layer: 2.62e+03 loss_kld:   7.96 epoch:      1\n",
            "Batch: 0/2 [] ETA:  --:--:-- loss_nle: ------ loss_encoder: ------ loss_decoder: ------ loss_discriminator: ------ loss_mse_layer: ------ loss_kld: ------ epoch: ------"
          ],
          "name": "stderr"
        },
        {
          "output_type": "stream",
          "text": [
            "1\n",
            "LR:[0.000225]\n"
          ],
          "name": "stdout"
        },
        {
          "output_type": "stream",
          "text": [
            "Batch: 2/2 [] Time:  0:00:01 loss_nle:  0.143 loss_encoder: 2.66e+03 loss_decoder: -0.224 loss_discriminator:  0.227 loss_mse_layer: 2.65e+03 loss_kld:   9.25 epoch:      2\n",
            "Batch: 0/2 [] ETA:  --:--:-- loss_nle: ------ loss_encoder: ------ loss_decoder: ------ loss_discriminator: ------ loss_mse_layer: ------ loss_kld: ------ epoch: ------"
          ],
          "name": "stderr"
        },
        {
          "output_type": "stream",
          "text": [
            "2\n",
            "LR:[0.00016874999999999998]\n"
          ],
          "name": "stdout"
        },
        {
          "output_type": "stream",
          "text": [
            "Batch: 2/2 [] Time:  0:00:01 loss_nle:  0.116 loss_encoder: 2.49e+03 loss_decoder: -0.912 loss_discriminator:  0.915 loss_mse_layer: 2.48e+03 loss_kld:   11.9 epoch:      3\n",
            "Batch: 0/2 [] ETA:  --:--:-- loss_nle: ------ loss_encoder: ------ loss_decoder: ------ loss_discriminator: ------ loss_mse_layer: ------ loss_kld: ------ epoch: ------"
          ],
          "name": "stderr"
        },
        {
          "output_type": "stream",
          "text": [
            "3\n",
            "LR:[0.0001265625]\n"
          ],
          "name": "stdout"
        },
        {
          "output_type": "stream",
          "text": [
            "Batch: 2/2 [] Time:  0:00:00 loss_nle:  0.102 loss_encoder: 1.72e+04 loss_decoder: -0.0812 loss_discriminator: 0.0983 loss_mse_layer: 1.72e+04 loss_kld:   11.8 epoch:      4\n",
            "Batch: 0/2 [] ETA:  --:--:-- loss_nle: ------ loss_encoder: ------ loss_decoder: ------ loss_discriminator: ------ loss_mse_layer: ------ loss_kld: ------ epoch: ------"
          ],
          "name": "stderr"
        },
        {
          "output_type": "stream",
          "text": [
            "4\n",
            "LR:[9.4921875e-05]\n"
          ],
          "name": "stdout"
        },
        {
          "output_type": "stream",
          "text": [
            "Batch: 2/2 [] Time:  0:00:01 loss_nle:  0.101 loss_encoder: 1.62e+04 loss_decoder: -0.106 loss_discriminator:  0.122 loss_mse_layer: 1.62e+04 loss_kld:   16.9 epoch:      5\n",
            "Batch: 0/2 [] ETA:  --:--:-- loss_nle: ------ loss_encoder: ------ loss_decoder: ------ loss_discriminator: ------ loss_mse_layer: ------ loss_kld: ------ epoch: ------"
          ],
          "name": "stderr"
        },
        {
          "output_type": "stream",
          "text": [
            "5\n",
            "LR:[7.119140624999999e-05]\n"
          ],
          "name": "stdout"
        },
        {
          "output_type": "stream",
          "text": [
            "Batch: 2/2 [] Time:  0:00:01 loss_nle: 0.0991 loss_encoder: 1.51e+04 loss_decoder: -0.141 loss_discriminator:  0.157 loss_mse_layer: 1.51e+04 loss_kld:   26.7 epoch:      6\n",
            "Batch: 0/2 [] ETA:  --:--:-- loss_nle: ------ loss_encoder: ------ loss_decoder: ------ loss_discriminator: ------ loss_mse_layer: ------ loss_kld: ------ epoch: ------"
          ],
          "name": "stderr"
        },
        {
          "output_type": "stream",
          "text": [
            "6\n",
            "LR:[5.3393554687499995e-05]\n"
          ],
          "name": "stdout"
        },
        {
          "output_type": "stream",
          "text": [
            "Batch: 2/2 [] Time:  0:00:01 loss_nle: 0.0971 loss_encoder: 1.47e+04 loss_decoder: -0.195 loss_discriminator:  0.209 loss_mse_layer: 1.46e+04 loss_kld:   26.6 epoch:      7\n",
            "Batch: 0/2 [] ETA:  --:--:-- loss_nle: ------ loss_encoder: ------ loss_decoder: ------ loss_discriminator: ------ loss_mse_layer: ------ loss_kld: ------ epoch: ------"
          ],
          "name": "stderr"
        },
        {
          "output_type": "stream",
          "text": [
            "7\n",
            "LR:[4.0045166015624994e-05]\n"
          ],
          "name": "stdout"
        },
        {
          "output_type": "stream",
          "text": [
            "Batch: 2/2 [] Time:  0:00:01 loss_nle: 0.0943 loss_encoder: 1.43e+04 loss_decoder:  -0.25 loss_discriminator:  0.264 loss_mse_layer: 1.42e+04 loss_kld:   28.2 epoch:      8\n",
            "Batch: 0/2 [] ETA:  --:--:-- loss_nle: ------ loss_encoder: ------ loss_decoder: ------ loss_discriminator: ------ loss_mse_layer: ------ loss_kld: ------ epoch: ------"
          ],
          "name": "stderr"
        },
        {
          "output_type": "stream",
          "text": [
            "8\n",
            "LR:[3.003387451171875e-05]\n"
          ],
          "name": "stdout"
        },
        {
          "output_type": "stream",
          "text": [
            "Batch: 2/2 [] Time:  0:00:01 loss_nle:  0.091 loss_encoder: 1.35e+04 loss_decoder: -0.298 loss_discriminator:  0.311 loss_mse_layer: 1.34e+04 loss_kld:   22.6 epoch:      9\n",
            "Batch: 0/2 [] ETA:  --:--:-- loss_nle: ------ loss_encoder: ------ loss_decoder: ------ loss_discriminator: ------ loss_mse_layer: ------ loss_kld: ------ epoch: ------"
          ],
          "name": "stderr"
        },
        {
          "output_type": "stream",
          "text": [
            "9\n",
            "LR:[2.252540588378906e-05]\n"
          ],
          "name": "stdout"
        },
        {
          "output_type": "stream",
          "text": [
            "Batch: 2/2 [] Time:  0:00:01 loss_nle:  0.089 loss_encoder: 1.31e+04 loss_decoder: -0.365 loss_discriminator:  0.379 loss_mse_layer: 1.31e+04 loss_kld:   20.4 epoch:     10\n",
            "Batch: 0/2 [] ETA:  --:--:-- loss_nle: ------ loss_encoder: ------ loss_decoder: ------ loss_discriminator: ------ loss_mse_layer: ------ loss_kld: ------ epoch: ------"
          ],
          "name": "stderr"
        },
        {
          "output_type": "stream",
          "text": [
            "10\n",
            "LR:[1.6894054412841794e-05]\n"
          ],
          "name": "stdout"
        },
        {
          "output_type": "stream",
          "text": [
            "Batch: 2/2 [] Time:  0:00:01 loss_nle: 0.0877 loss_encoder: 1.27e+04 loss_decoder: -0.369 loss_discriminator:  0.381 loss_mse_layer: 1.27e+04 loss_kld:   20.1 epoch:     11\n",
            "Batch: 0/2 [] ETA:  --:--:-- loss_nle: ------ loss_encoder: ------ loss_decoder: ------ loss_discriminator: ------ loss_mse_layer: ------ loss_kld: ------ epoch: ------"
          ],
          "name": "stderr"
        },
        {
          "output_type": "stream",
          "text": [
            "11\n",
            "LR:[1.2670540809631346e-05]\n"
          ],
          "name": "stdout"
        },
        {
          "output_type": "stream",
          "text": [
            "Batch: 2/2 [] Time:  0:00:01 loss_nle: 0.0864 loss_encoder: 1.22e+04 loss_decoder: -0.422 loss_discriminator:  0.435 loss_mse_layer: 1.22e+04 loss_kld:   17.3 epoch:     12\n",
            "Batch: 0/2 [] ETA:  --:--:-- loss_nle: ------ loss_encoder: ------ loss_decoder: ------ loss_discriminator: ------ loss_mse_layer: ------ loss_kld: ------ epoch: ------"
          ],
          "name": "stderr"
        },
        {
          "output_type": "stream",
          "text": [
            "12\n",
            "LR:[9.50290560722351e-06]\n"
          ],
          "name": "stdout"
        },
        {
          "output_type": "stream",
          "text": [
            "Batch: 2/2 [] Time:  0:00:01 loss_nle: 0.0854 loss_encoder: 1.18e+04 loss_decoder: -0.424 loss_discriminator:  0.435 loss_mse_layer: 1.18e+04 loss_kld:     20 epoch:     13\n",
            "Batch: 0/2 [] ETA:  --:--:-- loss_nle: ------ loss_encoder: ------ loss_decoder: ------ loss_discriminator: ------ loss_mse_layer: ------ loss_kld: ------ epoch: ------"
          ],
          "name": "stderr"
        },
        {
          "output_type": "stream",
          "text": [
            "13\n",
            "LR:[7.127179205417632e-06]\n"
          ],
          "name": "stdout"
        },
        {
          "output_type": "stream",
          "text": [
            "Batch: 2/2 [] Time:  0:00:01 loss_nle: 0.0845 loss_encoder: 1.19e+04 loss_decoder: -0.474 loss_discriminator:  0.486 loss_mse_layer: 1.18e+04 loss_kld:   17.7 epoch:     14\n",
            "Batch: 0/2 [] ETA:  --:--:-- loss_nle: ------ loss_encoder: ------ loss_decoder: ------ loss_discriminator: ------ loss_mse_layer: ------ loss_kld: ------ epoch: ------"
          ],
          "name": "stderr"
        },
        {
          "output_type": "stream",
          "text": [
            "14\n",
            "LR:[5.3453844040632245e-06]\n"
          ],
          "name": "stdout"
        },
        {
          "output_type": "stream",
          "text": [
            "Batch: 2/2 [] Time:  0:00:01 loss_nle: 0.0848 loss_encoder: 1.17e+04 loss_decoder: -0.571 loss_discriminator:  0.583 loss_mse_layer: 1.17e+04 loss_kld:   18.3 epoch:     15\n",
            "Batch: 0/2 [] ETA:  --:--:-- loss_nle: ------ loss_encoder: ------ loss_decoder: ------ loss_discriminator: ------ loss_mse_layer: ------ loss_kld: ------ epoch: ------"
          ],
          "name": "stderr"
        },
        {
          "output_type": "stream",
          "text": [
            "15\n",
            "LR:[4.009038303047418e-06]\n"
          ],
          "name": "stdout"
        },
        {
          "output_type": "stream",
          "text": [
            "Batch: 2/2 [] Time:  0:00:01 loss_nle: 0.0845 loss_encoder: 1.18e+04 loss_decoder: -0.608 loss_discriminator:  0.619 loss_mse_layer: 1.18e+04 loss_kld:   17.9 epoch:     16\n",
            "Batch: 0/2 [] ETA:  --:--:-- loss_nle: ------ loss_encoder: ------ loss_decoder: ------ loss_discriminator: ------ loss_mse_layer: ------ loss_kld: ------ epoch: ------"
          ],
          "name": "stderr"
        },
        {
          "output_type": "stream",
          "text": [
            "16\n",
            "LR:[3.0067787272855638e-06]\n"
          ],
          "name": "stdout"
        },
        {
          "output_type": "stream",
          "text": [
            "Batch: 2/2 [] Time:  0:00:01 loss_nle: 0.0843 loss_encoder: 1.12e+04 loss_decoder: -0.589 loss_discriminator:    0.6 loss_mse_layer: 1.12e+04 loss_kld:   13.2 epoch:     17\n",
            "Batch: 0/2 [] ETA:  --:--:-- loss_nle: ------ loss_encoder: ------ loss_decoder: ------ loss_discriminator: ------ loss_mse_layer: ------ loss_kld: ------ epoch: ------"
          ],
          "name": "stderr"
        },
        {
          "output_type": "stream",
          "text": [
            "17\n",
            "LR:[2.2550840454641726e-06]\n"
          ],
          "name": "stdout"
        },
        {
          "output_type": "stream",
          "text": [
            "Batch: 2/2 [] Time:  0:00:01 loss_nle:  0.084 loss_encoder: 1.13e+04 loss_decoder: -0.604 loss_discriminator:  0.616 loss_mse_layer: 1.13e+04 loss_kld:   18.4 epoch:     18\n",
            "Batch: 0/2 [] ETA:  --:--:-- loss_nle: ------ loss_encoder: ------ loss_decoder: ------ loss_discriminator: ------ loss_mse_layer: ------ loss_kld: ------ epoch: ------"
          ],
          "name": "stderr"
        },
        {
          "output_type": "stream",
          "text": [
            "18\n",
            "LR:[1.6913130340981295e-06]\n"
          ],
          "name": "stdout"
        },
        {
          "output_type": "stream",
          "text": [
            "Batch: 2/2 [] Time:  0:00:01 loss_nle: 0.0836 loss_encoder: 1.13e+04 loss_decoder: -0.557 loss_discriminator:  0.568 loss_mse_layer: 1.13e+04 loss_kld:   17.5 epoch:     19\n",
            "Batch: 0/2 [] ETA:  --:--:-- loss_nle: ------ loss_encoder: ------ loss_decoder: ------ loss_discriminator: ------ loss_mse_layer: ------ loss_kld: ------ epoch: ------"
          ],
          "name": "stderr"
        },
        {
          "output_type": "stream",
          "text": [
            "19\n",
            "LR:[1.268484775573597e-06]\n"
          ],
          "name": "stdout"
        },
        {
          "output_type": "stream",
          "text": [
            "Batch: 2/2 [] Time:  0:00:01 loss_nle: 0.0837 loss_encoder: 1.14e+04 loss_decoder: -0.603 loss_discriminator:  0.614 loss_mse_layer: 1.14e+04 loss_kld:   18.6 epoch:     20\n",
            "Batch: 0/2 [] ETA:  --:--:-- loss_nle: ------ loss_encoder: ------ loss_decoder: ------ loss_discriminator: ------ loss_mse_layer: ------ loss_kld: ------ epoch: ------"
          ],
          "name": "stderr"
        },
        {
          "output_type": "stream",
          "text": [
            "20\n",
            "LR:[9.513635816801979e-07]\n"
          ],
          "name": "stdout"
        },
        {
          "output_type": "stream",
          "text": [
            "Batch: 2/2 [] Time:  0:00:01 loss_nle: 0.0839 loss_encoder: 1.14e+04 loss_decoder: -0.597 loss_discriminator:  0.609 loss_mse_layer: 1.14e+04 loss_kld:   17.3 epoch:     21\n",
            "Batch: 0/2 [] ETA:  --:--:-- loss_nle: ------ loss_encoder: ------ loss_decoder: ------ loss_discriminator: ------ loss_mse_layer: ------ loss_kld: ------ epoch: ------"
          ],
          "name": "stderr"
        },
        {
          "output_type": "stream",
          "text": [
            "21\n",
            "LR:[7.135226862601484e-07]\n"
          ],
          "name": "stdout"
        },
        {
          "output_type": "stream",
          "text": [
            "Batch: 2/2 [] Time:  0:00:01 loss_nle: 0.0839 loss_encoder: 1.13e+04 loss_decoder: -0.602 loss_discriminator:  0.613 loss_mse_layer: 1.13e+04 loss_kld:   17.3 epoch:     22\n",
            "Batch: 0/2 [] ETA:  --:--:-- loss_nle: ------ loss_encoder: ------ loss_decoder: ------ loss_discriminator: ------ loss_mse_layer: ------ loss_kld: ------ epoch: ------"
          ],
          "name": "stderr"
        },
        {
          "output_type": "stream",
          "text": [
            "22\n",
            "LR:[5.351420146951114e-07]\n"
          ],
          "name": "stdout"
        },
        {
          "output_type": "stream",
          "text": [
            "Batch: 2/2 [] Time:  0:00:01 loss_nle: 0.0833 loss_encoder: 1.14e+04 loss_decoder: -0.581 loss_discriminator:  0.593 loss_mse_layer: 1.14e+04 loss_kld:   18.7 epoch:     23\n",
            "Batch: 0/2 [] ETA:  --:--:-- loss_nle: ------ loss_encoder: ------ loss_decoder: ------ loss_discriminator: ------ loss_mse_layer: ------ loss_kld: ------ epoch: ------"
          ],
          "name": "stderr"
        },
        {
          "output_type": "stream",
          "text": [
            "23\n",
            "LR:[4.0135651102133346e-07]\n"
          ],
          "name": "stdout"
        },
        {
          "output_type": "stream",
          "text": [
            "Batch: 2/2 [] Time:  0:00:01 loss_nle: 0.0842 loss_encoder: 1.16e+04 loss_decoder: -0.669 loss_discriminator:  0.681 loss_mse_layer: 1.16e+04 loss_kld:   16.8 epoch:     24\n",
            "Batch: 0/2 [] ETA:  --:--:-- loss_nle: ------ loss_encoder: ------ loss_decoder: ------ loss_discriminator: ------ loss_mse_layer: ------ loss_kld: ------ epoch: ------"
          ],
          "name": "stderr"
        },
        {
          "output_type": "stream",
          "text": [
            "24\n",
            "LR:[3.010173832660001e-07]\n"
          ],
          "name": "stdout"
        },
        {
          "output_type": "stream",
          "text": [
            "Batch: 2/2 [] Time:  0:00:01 loss_nle: 0.0833 loss_encoder: 1.14e+04 loss_decoder:  -0.59 loss_discriminator:  0.602 loss_mse_layer: 1.13e+04 loss_kld:   17.9 epoch:     25\n",
            "Batch: 0/2 [] ETA:  --:--:-- loss_nle: ------ loss_encoder: ------ loss_decoder: ------ loss_discriminator: ------ loss_mse_layer: ------ loss_kld: ------ epoch: ------"
          ],
          "name": "stderr"
        },
        {
          "output_type": "stream",
          "text": [
            "25\n",
            "LR:[2.257630374495001e-07]\n"
          ],
          "name": "stdout"
        },
        {
          "output_type": "stream",
          "text": [
            "Batch: 2/2 [] Time:  0:00:01 loss_nle: 0.0834 loss_encoder: 1.17e+04 loss_decoder: -0.595 loss_discriminator:  0.606 loss_mse_layer: 1.17e+04 loss_kld:   17.5 epoch:     26\n",
            "Batch: 0/2 [] ETA:  --:--:-- loss_nle: ------ loss_encoder: ------ loss_decoder: ------ loss_discriminator: ------ loss_mse_layer: ------ loss_kld: ------ epoch: ------"
          ],
          "name": "stderr"
        },
        {
          "output_type": "stream",
          "text": [
            "26\n",
            "LR:[1.6932227808712506e-07]\n"
          ],
          "name": "stdout"
        },
        {
          "output_type": "stream",
          "text": [
            "Batch: 2/2 [] Time:  0:00:01 loss_nle: 0.0842 loss_encoder: 1.16e+04 loss_decoder: -0.666 loss_discriminator:  0.677 loss_mse_layer: 1.15e+04 loss_kld:   17.8 epoch:     27\n",
            "Batch: 0/2 [] ETA:  --:--:-- loss_nle: ------ loss_encoder: ------ loss_decoder: ------ loss_discriminator: ------ loss_mse_layer: ------ loss_kld: ------ epoch: ------"
          ],
          "name": "stderr"
        },
        {
          "output_type": "stream",
          "text": [
            "27\n",
            "LR:[1.269917085653438e-07]\n"
          ],
          "name": "stdout"
        },
        {
          "output_type": "stream",
          "text": [
            "Batch: 2/2 [] Time:  0:00:01 loss_nle: 0.0841 loss_encoder: 1.14e+04 loss_decoder: -0.632 loss_discriminator:  0.643 loss_mse_layer: 1.14e+04 loss_kld:   17.9 epoch:     28\n",
            "Batch: 0/2 [] ETA:  --:--:-- loss_nle: ------ loss_encoder: ------ loss_decoder: ------ loss_discriminator: ------ loss_mse_layer: ------ loss_kld: ------ epoch: ------"
          ],
          "name": "stderr"
        },
        {
          "output_type": "stream",
          "text": [
            "28\n",
            "LR:[9.524378142400785e-08]\n"
          ],
          "name": "stdout"
        },
        {
          "output_type": "stream",
          "text": [
            "Batch: 2/2 [] Time:  0:00:01 loss_nle:  0.084 loss_encoder: 1.12e+04 loss_decoder:  -0.64 loss_discriminator:  0.651 loss_mse_layer: 1.12e+04 loss_kld:   15.7 epoch:     29\n",
            "Batch: 0/2 [] ETA:  --:--:-- loss_nle: ------ loss_encoder: ------ loss_decoder: ------ loss_discriminator: ------ loss_mse_layer: ------ loss_kld: ------ epoch: ------"
          ],
          "name": "stderr"
        },
        {
          "output_type": "stream",
          "text": [
            "29\n",
            "LR:[7.143283606800588e-08]\n"
          ],
          "name": "stdout"
        },
        {
          "output_type": "stream",
          "text": [
            "Batch: 2/2 [] Time:  0:00:01 loss_nle: 0.0837 loss_encoder: 1.17e+04 loss_decoder: -0.563 loss_discriminator:  0.574 loss_mse_layer: 1.17e+04 loss_kld:     18 epoch:     30\n",
            "Batch: 0/2 [] ETA:  --:--:-- loss_nle: ------ loss_encoder: ------ loss_decoder: ------ loss_discriminator: ------ loss_mse_layer: ------ loss_kld: ------ epoch: ------"
          ],
          "name": "stderr"
        },
        {
          "output_type": "stream",
          "text": [
            "30\n",
            "LR:[5.357462705100441e-08]\n"
          ],
          "name": "stdout"
        },
        {
          "output_type": "stream",
          "text": [
            "Batch: 2/2 [] Time:  0:00:01 loss_nle: 0.0839 loss_encoder: 1.16e+04 loss_decoder: -0.655 loss_discriminator:  0.667 loss_mse_layer: 1.16e+04 loss_kld:   17.9 epoch:     31\n",
            "Batch: 0/2 [] ETA:  --:--:-- loss_nle: ------ loss_encoder: ------ loss_decoder: ------ loss_discriminator: ------ loss_mse_layer: ------ loss_kld: ------ epoch: ------"
          ],
          "name": "stderr"
        },
        {
          "output_type": "stream",
          "text": [
            "31\n",
            "LR:[4.018097028825331e-08]\n"
          ],
          "name": "stdout"
        },
        {
          "output_type": "stream",
          "text": [
            "Batch: 2/2 [] Time:  0:00:01 loss_nle: 0.0839 loss_encoder: 1.14e+04 loss_decoder: -0.662 loss_discriminator:  0.674 loss_mse_layer: 1.14e+04 loss_kld:   18.5 epoch:     32\n",
            "Batch: 0/2 [] ETA:  --:--:-- loss_nle: ------ loss_encoder: ------ loss_decoder: ------ loss_discriminator: ------ loss_mse_layer: ------ loss_kld: ------ epoch: ------"
          ],
          "name": "stderr"
        },
        {
          "output_type": "stream",
          "text": [
            "32\n",
            "LR:[3.013572771618998e-08]\n"
          ],
          "name": "stdout"
        },
        {
          "output_type": "stream",
          "text": [
            "Batch: 2/2 [] Time:  0:00:01 loss_nle: 0.0835 loss_encoder: 1.13e+04 loss_decoder: -0.622 loss_discriminator:  0.633 loss_mse_layer: 1.13e+04 loss_kld:   18.1 epoch:     33\n",
            "Batch: 0/2 [] ETA:  --:--:-- loss_nle: ------ loss_encoder: ------ loss_decoder: ------ loss_discriminator: ------ loss_mse_layer: ------ loss_kld: ------ epoch: ------"
          ],
          "name": "stderr"
        },
        {
          "output_type": "stream",
          "text": [
            "33\n",
            "LR:[2.2601795787142487e-08]\n"
          ],
          "name": "stdout"
        },
        {
          "output_type": "stream",
          "text": [
            "Batch: 2/2 [] Time:  0:00:01 loss_nle: 0.0844 loss_encoder: 1.13e+04 loss_decoder: -0.708 loss_discriminator:  0.719 loss_mse_layer: 1.13e+04 loss_kld:   17.1 epoch:     34\n",
            "Batch: 0/2 [] ETA:  --:--:-- loss_nle: ------ loss_encoder: ------ loss_decoder: ------ loss_discriminator: ------ loss_mse_layer: ------ loss_kld: ------ epoch: ------"
          ],
          "name": "stderr"
        },
        {
          "output_type": "stream",
          "text": [
            "34\n",
            "LR:[1.6951346840356864e-08]\n"
          ],
          "name": "stdout"
        },
        {
          "output_type": "stream",
          "text": [
            "Batch: 2/2 [] Time:  0:00:01 loss_nle: 0.0839 loss_encoder: 1.15e+04 loss_decoder: -0.661 loss_discriminator:  0.672 loss_mse_layer: 1.15e+04 loss_kld:     18 epoch:     35\n",
            "Batch: 0/2 [] ETA:  --:--:-- loss_nle: ------ loss_encoder: ------ loss_decoder: ------ loss_discriminator: ------ loss_mse_layer: ------ loss_kld: ------ epoch: ------"
          ],
          "name": "stderr"
        },
        {
          "output_type": "stream",
          "text": [
            "35\n",
            "LR:[1.2713510130267649e-08]\n"
          ],
          "name": "stdout"
        },
        {
          "output_type": "stream",
          "text": [
            "Batch: 2/2 [] Time:  0:00:01 loss_nle: 0.0835 loss_encoder: 1.17e+04 loss_decoder: -0.563 loss_discriminator:  0.574 loss_mse_layer: 1.17e+04 loss_kld:   17.9 epoch:     36\n",
            "Batch: 0/2 [] ETA:  --:--:-- loss_nle: ------ loss_encoder: ------ loss_decoder: ------ loss_discriminator: ------ loss_mse_layer: ------ loss_kld: ------ epoch: ------"
          ],
          "name": "stderr"
        },
        {
          "output_type": "stream",
          "text": [
            "36\n",
            "LR:[9.535132597700737e-09]\n"
          ],
          "name": "stdout"
        },
        {
          "output_type": "stream",
          "text": [
            "Batch: 2/2 [] Time:  0:00:01 loss_nle:  0.084 loss_encoder: 1.14e+04 loss_decoder: -0.668 loss_discriminator:   0.68 loss_mse_layer: 1.14e+04 loss_kld:   17.7 epoch:     37\n",
            "Batch: 0/2 [] ETA:  --:--:-- loss_nle: ------ loss_encoder: ------ loss_decoder: ------ loss_discriminator: ------ loss_mse_layer: ------ loss_kld: ------ epoch: ------"
          ],
          "name": "stderr"
        },
        {
          "output_type": "stream",
          "text": [
            "37\n",
            "LR:[7.151349448275553e-09]\n"
          ],
          "name": "stdout"
        },
        {
          "output_type": "stream",
          "text": [
            "Batch: 2/2 [] Time:  0:00:01 loss_nle: 0.0833 loss_encoder: 1.15e+04 loss_decoder: -0.607 loss_discriminator:  0.619 loss_mse_layer: 1.15e+04 loss_kld:   17.8 epoch:     38\n",
            "Batch: 0/2 [] ETA:  --:--:-- loss_nle: ------ loss_encoder: ------ loss_decoder: ------ loss_discriminator: ------ loss_mse_layer: ------ loss_kld: ------ epoch: ------"
          ],
          "name": "stderr"
        },
        {
          "output_type": "stream",
          "text": [
            "38\n",
            "LR:[5.363512086206664e-09]\n"
          ],
          "name": "stdout"
        },
        {
          "output_type": "stream",
          "text": [
            "Batch: 2/2 [] Time:  0:00:01 loss_nle: 0.0842 loss_encoder: 1.14e+04 loss_decoder: -0.661 loss_discriminator:  0.673 loss_mse_layer: 1.14e+04 loss_kld:   17.1 epoch:     39\n",
            "Batch: 0/2 [] ETA:  --:--:-- loss_nle: ------ loss_encoder: ------ loss_decoder: ------ loss_discriminator: ------ loss_mse_layer: ------ loss_kld: ------ epoch: ------"
          ],
          "name": "stderr"
        },
        {
          "output_type": "stream",
          "text": [
            "39\n",
            "LR:[4.022634064654998e-09]\n"
          ],
          "name": "stdout"
        },
        {
          "output_type": "stream",
          "text": [
            "Batch: 2/2 [] Time:  0:00:01 loss_nle: 0.0835 loss_encoder: 1.15e+04 loss_decoder:  -0.64 loss_discriminator:  0.651 loss_mse_layer: 1.15e+04 loss_kld:   17.4 epoch:     40\n",
            "Batch: 0/2 [] ETA:  --:--:-- loss_nle: ------ loss_encoder: ------ loss_decoder: ------ loss_discriminator: ------ loss_mse_layer: ------ loss_kld: ------ epoch: ------"
          ],
          "name": "stderr"
        },
        {
          "output_type": "stream",
          "text": [
            "40\n",
            "LR:[3.016975548491249e-09]\n"
          ],
          "name": "stdout"
        },
        {
          "output_type": "stream",
          "text": [
            "Batch: 2/2 [] Time:  0:00:01 loss_nle: 0.0836 loss_encoder: 1.17e+04 loss_decoder: -0.627 loss_discriminator:  0.638 loss_mse_layer: 1.17e+04 loss_kld:   17.4 epoch:     41\n",
            "Batch: 0/2 [] ETA:  --:--:-- loss_nle: ------ loss_encoder: ------ loss_decoder: ------ loss_discriminator: ------ loss_mse_layer: ------ loss_kld: ------ epoch: ------"
          ],
          "name": "stderr"
        },
        {
          "output_type": "stream",
          "text": [
            "41\n",
            "LR:[2.2627316613684368e-09]\n"
          ],
          "name": "stdout"
        },
        {
          "output_type": "stream",
          "text": [
            "Batch: 2/2 [] Time:  0:00:01 loss_nle: 0.0833 loss_encoder: 1.13e+04 loss_decoder: -0.592 loss_discriminator:  0.603 loss_mse_layer: 1.13e+04 loss_kld:   17.4 epoch:     42\n",
            "Batch: 0/2 [] ETA:  --:--:-- loss_nle: ------ loss_encoder: ------ loss_decoder: ------ loss_discriminator: ------ loss_mse_layer: ------ loss_kld: ------ epoch: ------"
          ],
          "name": "stderr"
        },
        {
          "output_type": "stream",
          "text": [
            "42\n",
            "LR:[1.6970487460263276e-09]\n"
          ],
          "name": "stdout"
        },
        {
          "output_type": "stream",
          "text": [
            "Batch: 2/2 [] Time:  0:00:01 loss_nle: 0.0837 loss_encoder: 1.09e+04 loss_decoder: -0.646 loss_discriminator:  0.657 loss_mse_layer: 1.09e+04 loss_kld:   17.9 epoch:     43\n",
            "Batch: 0/2 [] ETA:  --:--:-- loss_nle: ------ loss_encoder: ------ loss_decoder: ------ loss_discriminator: ------ loss_mse_layer: ------ loss_kld: ------ epoch: ------"
          ],
          "name": "stderr"
        },
        {
          "output_type": "stream",
          "text": [
            "43\n",
            "LR:[1.2727865595197454e-09]\n"
          ],
          "name": "stdout"
        },
        {
          "output_type": "stream",
          "text": [
            "Batch: 2/2 [] Time:  0:00:01 loss_nle: 0.0837 loss_encoder: 1.15e+04 loss_decoder: -0.614 loss_discriminator:  0.625 loss_mse_layer: 1.15e+04 loss_kld:     17 epoch:     44\n",
            "Batch: 0/2 [] ETA:  --:--:-- loss_nle: ------ loss_encoder: ------ loss_decoder: ------ loss_discriminator: ------ loss_mse_layer: ------ loss_kld: ------ epoch: ------"
          ],
          "name": "stderr"
        },
        {
          "output_type": "stream",
          "text": [
            "44\n",
            "LR:[9.545899196398091e-10]\n"
          ],
          "name": "stdout"
        },
        {
          "output_type": "stream",
          "text": [
            "Batch: 2/2 [] Time:  0:00:01 loss_nle: 0.0836 loss_encoder: 1.13e+04 loss_decoder: -0.582 loss_discriminator:  0.594 loss_mse_layer: 1.13e+04 loss_kld:   18.6 epoch:     45\n",
            "Batch: 0/2 [] ETA:  --:--:-- loss_nle: ------ loss_encoder: ------ loss_decoder: ------ loss_discriminator: ------ loss_mse_layer: ------ loss_kld: ------ epoch: ------"
          ],
          "name": "stderr"
        },
        {
          "output_type": "stream",
          "text": [
            "45\n",
            "LR:[7.159424397298569e-10]\n"
          ],
          "name": "stdout"
        },
        {
          "output_type": "stream",
          "text": [
            "Batch: 2/2 [] Time:  0:00:01 loss_nle: 0.0838 loss_encoder: 1.14e+04 loss_decoder: -0.645 loss_discriminator:  0.656 loss_mse_layer: 1.13e+04 loss_kld:   17.4 epoch:     46\n",
            "Batch: 0/2 [] ETA:  --:--:-- loss_nle: ------ loss_encoder: ------ loss_decoder: ------ loss_discriminator: ------ loss_mse_layer: ------ loss_kld: ------ epoch: ------"
          ],
          "name": "stderr"
        },
        {
          "output_type": "stream",
          "text": [
            "46\n",
            "LR:[5.369568297973927e-10]\n"
          ],
          "name": "stdout"
        },
        {
          "output_type": "stream",
          "text": [
            "Batch: 2/2 [] Time:  0:00:01 loss_nle: 0.0834 loss_encoder: 1.15e+04 loss_decoder:  -0.59 loss_discriminator:  0.601 loss_mse_layer: 1.15e+04 loss_kld:   17.3 epoch:     47\n",
            "Batch: 0/2 [] ETA:  --:--:-- loss_nle: ------ loss_encoder: ------ loss_decoder: ------ loss_discriminator: ------ loss_mse_layer: ------ loss_kld: ------ epoch: ------"
          ],
          "name": "stderr"
        },
        {
          "output_type": "stream",
          "text": [
            "47\n",
            "LR:[4.027176223480445e-10]\n"
          ],
          "name": "stdout"
        },
        {
          "output_type": "stream",
          "text": [
            "Batch: 2/2 [] Time:  0:00:01 loss_nle: 0.0838 loss_encoder: 1.09e+04 loss_decoder: -0.655 loss_discriminator:  0.666 loss_mse_layer: 1.09e+04 loss_kld:   19.7 epoch:     48\n",
            "Batch: 0/2 [] ETA:  --:--:-- loss_nle: ------ loss_encoder: ------ loss_decoder: ------ loss_discriminator: ------ loss_mse_layer: ------ loss_kld: ------ epoch: ------"
          ],
          "name": "stderr"
        },
        {
          "output_type": "stream",
          "text": [
            "48\n",
            "LR:[3.020382167610334e-10]\n"
          ],
          "name": "stdout"
        },
        {
          "output_type": "stream",
          "text": [
            "Batch: 2/2 [] Time:  0:00:01 loss_nle: 0.0836 loss_encoder: 1.15e+04 loss_decoder: -0.638 loss_discriminator:   0.65 loss_mse_layer: 1.15e+04 loss_kld:   18.6 epoch:     49\n",
            "Batch: 0/2 [] ETA:  --:--:-- loss_nle: ------ loss_encoder: ------ loss_decoder: ------ loss_discriminator: ------ loss_mse_layer: ------ loss_kld: ------ epoch: ------"
          ],
          "name": "stderr"
        },
        {
          "output_type": "stream",
          "text": [
            "49\n",
            "LR:[2.2652866257077503e-10]\n"
          ],
          "name": "stdout"
        },
        {
          "output_type": "stream",
          "text": [
            "Batch: 2/2 [] Time:  0:00:01 loss_nle: 0.0833 loss_encoder: 1.16e+04 loss_decoder: -0.613 loss_discriminator:  0.625 loss_mse_layer: 1.15e+04 loss_kld:   18.5 epoch:     50\n",
            "Batch: 0/2 [] ETA:  --:--:-- loss_nle: ------ loss_encoder: ------ loss_decoder: ------ loss_discriminator: ------ loss_mse_layer: ------ loss_kld: ------ epoch: ------"
          ],
          "name": "stderr"
        },
        {
          "output_type": "stream",
          "text": [
            "50\n",
            "LR:[1.6989649692808126e-10]\n"
          ],
          "name": "stdout"
        },
        {
          "output_type": "stream",
          "text": [
            "Batch: 2/2 [] Time:  0:00:01 loss_nle: 0.0836 loss_encoder: 1.15e+04 loss_decoder: -0.652 loss_discriminator:  0.664 loss_mse_layer: 1.14e+04 loss_kld:     18 epoch:     51\n",
            "Batch: 0/2 [] ETA:  --:--:-- loss_nle: ------ loss_encoder: ------ loss_decoder: ------ loss_discriminator: ------ loss_mse_layer: ------ loss_kld: ------ epoch: ------"
          ],
          "name": "stderr"
        },
        {
          "output_type": "stream",
          "text": [
            "51\n",
            "LR:[1.2742237269606094e-10]\n"
          ],
          "name": "stdout"
        },
        {
          "output_type": "stream",
          "text": [
            "Batch: 2/2 [] Time:  0:00:01 loss_nle: 0.0838 loss_encoder: 1.16e+04 loss_decoder: -0.606 loss_discriminator:  0.618 loss_mse_layer: 1.16e+04 loss_kld:   18.2 epoch:     52\n",
            "Batch: 0/2 [] ETA:  --:--:-- loss_nle: ------ loss_encoder: ------ loss_decoder: ------ loss_discriminator: ------ loss_mse_layer: ------ loss_kld: ------ epoch: ------"
          ],
          "name": "stderr"
        },
        {
          "output_type": "stream",
          "text": [
            "52\n",
            "LR:[9.556677952204571e-11]\n"
          ],
          "name": "stdout"
        },
        {
          "output_type": "stream",
          "text": [
            "Batch: 2/2 [] Time:  0:00:01 loss_nle: 0.0831 loss_encoder: 1.15e+04 loss_decoder: -0.542 loss_discriminator:  0.553 loss_mse_layer: 1.15e+04 loss_kld:   17.8 epoch:     53\n",
            "Batch: 0/2 [] ETA:  --:--:-- loss_nle: ------ loss_encoder: ------ loss_decoder: ------ loss_discriminator: ------ loss_mse_layer: ------ loss_kld: ------ epoch: ------"
          ],
          "name": "stderr"
        },
        {
          "output_type": "stream",
          "text": [
            "53\n",
            "LR:[7.167508464153428e-11]\n"
          ],
          "name": "stdout"
        },
        {
          "output_type": "stream",
          "text": [
            "Batch: 2/2 [] Time:  0:00:01 loss_nle: 0.0836 loss_encoder: 1.14e+04 loss_decoder: -0.603 loss_discriminator:  0.615 loss_mse_layer: 1.14e+04 loss_kld:   17.7 epoch:     54\n",
            "Batch: 0/2 [] ETA:  --:--:-- loss_nle: ------ loss_encoder: ------ loss_decoder: ------ loss_discriminator: ------ loss_mse_layer: ------ loss_kld: ------ epoch: ------"
          ],
          "name": "stderr"
        },
        {
          "output_type": "stream",
          "text": [
            "54\n",
            "LR:[5.375631348115072e-11]\n"
          ],
          "name": "stdout"
        },
        {
          "output_type": "stream",
          "text": [
            "Batch: 2/2 [] Time:  0:00:01 loss_nle: 0.0836 loss_encoder: 1.16e+04 loss_decoder: -0.623 loss_discriminator:  0.634 loss_mse_layer: 1.15e+04 loss_kld:   17.5 epoch:     55\n",
            "Batch: 0/2 [] ETA:  --:--:-- loss_nle: ------ loss_encoder: ------ loss_decoder: ------ loss_discriminator: ------ loss_mse_layer: ------ loss_kld: ------ epoch: ------"
          ],
          "name": "stderr"
        },
        {
          "output_type": "stream",
          "text": [
            "55\n",
            "LR:[4.031723511086303e-11]\n"
          ],
          "name": "stdout"
        },
        {
          "output_type": "stream",
          "text": [
            "Batch: 2/2 [] Time:  0:00:01 loss_nle: 0.0837 loss_encoder: 1.14e+04 loss_decoder: -0.662 loss_discriminator:  0.673 loss_mse_layer: 1.14e+04 loss_kld:   18.2 epoch:     56\n",
            "Batch: 0/2 [] ETA:  --:--:-- loss_nle: ------ loss_encoder: ------ loss_decoder: ------ loss_discriminator: ------ loss_mse_layer: ------ loss_kld: ------ epoch: ------"
          ],
          "name": "stderr"
        },
        {
          "output_type": "stream",
          "text": [
            "56\n",
            "LR:[3.023792633314728e-11]\n"
          ],
          "name": "stdout"
        },
        {
          "output_type": "stream",
          "text": [
            "Batch: 2/2 [] Time:  0:00:01 loss_nle: 0.0841 loss_encoder: 1.14e+04 loss_decoder: -0.632 loss_discriminator:  0.643 loss_mse_layer: 1.14e+04 loss_kld:   17.7 epoch:     57\n",
            "Batch: 0/2 [] ETA:  --:--:-- loss_nle: ------ loss_encoder: ------ loss_decoder: ------ loss_discriminator: ------ loss_mse_layer: ------ loss_kld: ------ epoch: ------"
          ],
          "name": "stderr"
        },
        {
          "output_type": "stream",
          "text": [
            "57\n",
            "LR:[2.2678444749860457e-11]\n"
          ],
          "name": "stdout"
        },
        {
          "output_type": "stream",
          "text": [
            "Batch: 2/2 [] Time:  0:00:01 loss_nle: 0.0837 loss_encoder: 1.13e+04 loss_decoder: -0.617 loss_discriminator:  0.628 loss_mse_layer: 1.13e+04 loss_kld:   16.8 epoch:     58\n",
            "Batch: 0/2 [] ETA:  --:--:-- loss_nle: ------ loss_encoder: ------ loss_decoder: ------ loss_discriminator: ------ loss_mse_layer: ------ loss_kld: ------ epoch: ------"
          ],
          "name": "stderr"
        },
        {
          "output_type": "stream",
          "text": [
            "58\n",
            "LR:[1.7008833562395345e-11]\n"
          ],
          "name": "stdout"
        },
        {
          "output_type": "stream",
          "text": [
            "Batch: 2/2 [] Time:  0:00:01 loss_nle: 0.0833 loss_encoder: 1.13e+04 loss_decoder: -0.605 loss_discriminator:  0.616 loss_mse_layer: 1.13e+04 loss_kld:   17.3 epoch:     59\n",
            "Batch: 0/2 [] ETA:  --:--:-- loss_nle: ------ loss_encoder: ------ loss_decoder: ------ loss_discriminator: ------ loss_mse_layer: ------ loss_kld: ------ epoch: ------"
          ],
          "name": "stderr"
        },
        {
          "output_type": "stream",
          "text": [
            "59\n",
            "LR:[1.2756625171796508e-11]\n"
          ],
          "name": "stdout"
        },
        {
          "output_type": "stream",
          "text": [
            "Batch: 2/2 [] Time:  0:00:01 loss_nle: 0.0833 loss_encoder: 1.15e+04 loss_decoder: -0.602 loss_discriminator:  0.614 loss_mse_layer: 1.15e+04 loss_kld:   18.3 epoch:     60\n",
            "Batch: 0/2 [] ETA:  --:--:-- loss_nle: ------ loss_encoder: ------ loss_decoder: ------ loss_discriminator: ------ loss_mse_layer: ------ loss_kld: ------ epoch: ------"
          ],
          "name": "stderr"
        },
        {
          "output_type": "stream",
          "text": [
            "60\n",
            "LR:[9.567468878847381e-12]\n"
          ],
          "name": "stdout"
        },
        {
          "output_type": "stream",
          "text": [
            "Batch: 2/2 [] Time:  0:00:01 loss_nle: 0.0838 loss_encoder: 1.13e+04 loss_decoder: -0.646 loss_discriminator:  0.657 loss_mse_layer: 1.13e+04 loss_kld:   18.4 epoch:     61\n",
            "Batch: 0/2 [] ETA:  --:--:-- loss_nle: ------ loss_encoder: ------ loss_decoder: ------ loss_discriminator: ------ loss_mse_layer: ------ loss_kld: ------ epoch: ------"
          ],
          "name": "stderr"
        },
        {
          "output_type": "stream",
          "text": [
            "61\n",
            "LR:[7.175601659135535e-12]\n"
          ],
          "name": "stdout"
        },
        {
          "output_type": "stream",
          "text": [
            "Batch: 2/2 [] Time:  0:00:01 loss_nle: 0.0839 loss_encoder: 1.13e+04 loss_decoder: -0.643 loss_discriminator:  0.654 loss_mse_layer: 1.13e+04 loss_kld:   19.4 epoch:     62\n",
            "Batch: 0/2 [] ETA:  --:--:-- loss_nle: ------ loss_encoder: ------ loss_decoder: ------ loss_discriminator: ------ loss_mse_layer: ------ loss_kld: ------ epoch: ------"
          ],
          "name": "stderr"
        },
        {
          "output_type": "stream",
          "text": [
            "62\n",
            "LR:[5.381701244351652e-12]\n"
          ],
          "name": "stdout"
        },
        {
          "output_type": "stream",
          "text": [
            "Batch: 2/2 [] Time:  0:00:01 loss_nle: 0.0831 loss_encoder: 1.12e+04 loss_decoder: -0.565 loss_discriminator:  0.576 loss_mse_layer: 1.11e+04 loss_kld:   18.9 epoch:     63\n",
            "Batch: 0/2 [] ETA:  --:--:-- loss_nle: ------ loss_encoder: ------ loss_decoder: ------ loss_discriminator: ------ loss_mse_layer: ------ loss_kld: ------ epoch: ------"
          ],
          "name": "stderr"
        },
        {
          "output_type": "stream",
          "text": [
            "63\n",
            "LR:[4.036275933263738e-12]\n"
          ],
          "name": "stdout"
        },
        {
          "output_type": "stream",
          "text": [
            "Batch: 2/2 [] Time:  0:00:01 loss_nle: 0.0841 loss_encoder: 1.16e+04 loss_decoder: -0.674 loss_discriminator:  0.685 loss_mse_layer: 1.16e+04 loss_kld:   17.8 epoch:     64\n",
            "Batch: 0/2 [] ETA:  --:--:-- loss_nle: ------ loss_encoder: ------ loss_decoder: ------ loss_discriminator: ------ loss_mse_layer: ------ loss_kld: ------ epoch: ------"
          ],
          "name": "stderr"
        },
        {
          "output_type": "stream",
          "text": [
            "64\n",
            "LR:[3.027206949947804e-12]\n"
          ],
          "name": "stdout"
        },
        {
          "output_type": "stream",
          "text": [
            "Batch: 2/2 [] Time:  0:00:01 loss_nle: 0.0831 loss_encoder: 1.09e+04 loss_decoder: -0.559 loss_discriminator:   0.57 loss_mse_layer: 1.08e+04 loss_kld:   17.4 epoch:     65\n",
            "Batch: 0/2 [] ETA:  --:--:-- loss_nle: ------ loss_encoder: ------ loss_decoder: ------ loss_discriminator: ------ loss_mse_layer: ------ loss_kld: ------ epoch: ------"
          ],
          "name": "stderr"
        },
        {
          "output_type": "stream",
          "text": [
            "65\n",
            "LR:[2.270405212460853e-12]\n"
          ],
          "name": "stdout"
        },
        {
          "output_type": "stream",
          "text": [
            "Batch: 2/2 [] Time:  0:00:01 loss_nle: 0.0839 loss_encoder: 1.11e+04 loss_decoder: -0.666 loss_discriminator:  0.677 loss_mse_layer: 1.11e+04 loss_kld:   18.1 epoch:     66\n",
            "Batch: 0/2 [] ETA:  --:--:-- loss_nle: ------ loss_encoder: ------ loss_decoder: ------ loss_discriminator: ------ loss_mse_layer: ------ loss_kld: ------ epoch: ------"
          ],
          "name": "stderr"
        },
        {
          "output_type": "stream",
          "text": [
            "66\n",
            "LR:[1.7028039093456396e-12]\n"
          ],
          "name": "stdout"
        },
        {
          "output_type": "stream",
          "text": [
            "Batch: 2/2 [] Time:  0:00:01 loss_nle: 0.0836 loss_encoder: 1.09e+04 loss_decoder: -0.601 loss_discriminator:  0.612 loss_mse_layer: 1.09e+04 loss_kld:   17.4 epoch:     67\n",
            "Batch: 0/2 [] ETA:  --:--:-- loss_nle: ------ loss_encoder: ------ loss_decoder: ------ loss_discriminator: ------ loss_mse_layer: ------ loss_kld: ------ epoch: ------"
          ],
          "name": "stderr"
        },
        {
          "output_type": "stream",
          "text": [
            "67\n",
            "LR:[1.2771029320092298e-12]\n"
          ],
          "name": "stdout"
        },
        {
          "output_type": "stream",
          "text": [
            "Batch: 2/2 [] Time:  0:00:01 loss_nle: 0.0846 loss_encoder: 1.16e+04 loss_decoder: -0.718 loss_discriminator:   0.73 loss_mse_layer: 1.15e+04 loss_kld:   17.6 epoch:     68\n",
            "Batch: 0/2 [] ETA:  --:--:-- loss_nle: ------ loss_encoder: ------ loss_decoder: ------ loss_discriminator: ------ loss_mse_layer: ------ loss_kld: ------ epoch: ------"
          ],
          "name": "stderr"
        },
        {
          "output_type": "stream",
          "text": [
            "68\n",
            "LR:[9.578271990069224e-13]\n"
          ],
          "name": "stdout"
        },
        {
          "output_type": "stream",
          "text": [
            "Batch: 2/2 [] Time:  0:00:01 loss_nle: 0.0836 loss_encoder: 1.12e+04 loss_decoder: -0.619 loss_discriminator:   0.63 loss_mse_layer: 1.12e+04 loss_kld:   18.3 epoch:     69\n",
            "Batch: 0/2 [] ETA:  --:--:-- loss_nle: ------ loss_encoder: ------ loss_decoder: ------ loss_discriminator: ------ loss_mse_layer: ------ loss_kld: ------ epoch: ------"
          ],
          "name": "stderr"
        },
        {
          "output_type": "stream",
          "text": [
            "69\n",
            "LR:[7.183703992551917e-13]\n"
          ],
          "name": "stdout"
        },
        {
          "output_type": "stream",
          "text": [
            "Batch: 2/2 [] Time:  0:00:01 loss_nle: 0.0832 loss_encoder: 1.12e+04 loss_decoder: -0.573 loss_discriminator:  0.584 loss_mse_layer: 1.12e+04 loss_kld:   16.6 epoch:     70\n",
            "Batch: 0/2 [] ETA:  --:--:-- loss_nle: ------ loss_encoder: ------ loss_decoder: ------ loss_discriminator: ------ loss_mse_layer: ------ loss_kld: ------ epoch: ------"
          ],
          "name": "stderr"
        },
        {
          "output_type": "stream",
          "text": [
            "70\n",
            "LR:[5.387777994413939e-13]\n"
          ],
          "name": "stdout"
        },
        {
          "output_type": "stream",
          "text": [
            "Batch: 2/2 [] Time:  0:00:01 loss_nle: 0.0838 loss_encoder: 1.13e+04 loss_decoder: -0.627 loss_discriminator:  0.639 loss_mse_layer: 1.13e+04 loss_kld:   17.1 epoch:     71\n",
            "Batch: 0/2 [] ETA:  --:--:-- loss_nle: ------ loss_encoder: ------ loss_decoder: ------ loss_discriminator: ------ loss_mse_layer: ------ loss_kld: ------ epoch: ------"
          ],
          "name": "stderr"
        },
        {
          "output_type": "stream",
          "text": [
            "71\n",
            "LR:[4.040833495810454e-13]\n"
          ],
          "name": "stdout"
        },
        {
          "output_type": "stream",
          "text": [
            "Batch: 2/2 [] Time:  0:00:01 loss_nle: 0.0837 loss_encoder: 1.17e+04 loss_decoder:  -0.67 loss_discriminator:  0.682 loss_mse_layer: 1.16e+04 loss_kld:   17.7 epoch:     72\n",
            "Batch: 0/2 [] ETA:  --:--:-- loss_nle: ------ loss_encoder: ------ loss_decoder: ------ loss_discriminator: ------ loss_mse_layer: ------ loss_kld: ------ epoch: ------"
          ],
          "name": "stderr"
        },
        {
          "output_type": "stream",
          "text": [
            "72\n",
            "LR:[3.03062512185784e-13]\n"
          ],
          "name": "stdout"
        },
        {
          "output_type": "stream",
          "text": [
            "Batch: 2/2 [] Time:  0:00:01 loss_nle: 0.0841 loss_encoder: 1.14e+04 loss_decoder: -0.674 loss_discriminator:  0.686 loss_mse_layer: 1.14e+04 loss_kld:   16.7 epoch:     73\n",
            "Batch: 0/2 [] ETA:  --:--:-- loss_nle: ------ loss_encoder: ------ loss_decoder: ------ loss_discriminator: ------ loss_mse_layer: ------ loss_kld: ------ epoch: ------"
          ],
          "name": "stderr"
        },
        {
          "output_type": "stream",
          "text": [
            "73\n",
            "LR:[2.2729688413933804e-13]\n"
          ],
          "name": "stdout"
        },
        {
          "output_type": "stream",
          "text": [
            "Batch: 2/2 [] Time:  0:00:01 loss_nle: 0.0836 loss_encoder: 1.13e+04 loss_decoder:  -0.65 loss_discriminator:  0.662 loss_mse_layer: 1.13e+04 loss_kld:   17.3 epoch:     74\n",
            "Batch: 0/2 [] ETA:  --:--:-- loss_nle: ------ loss_encoder: ------ loss_decoder: ------ loss_discriminator: ------ loss_mse_layer: ------ loss_kld: ------ epoch: ------"
          ],
          "name": "stderr"
        },
        {
          "output_type": "stream",
          "text": [
            "74\n",
            "LR:[1.704726631045035e-13]\n"
          ],
          "name": "stdout"
        },
        {
          "output_type": "stream",
          "text": [
            "Batch: 2/2 [] Time:  0:00:01 loss_nle: 0.0838 loss_encoder: 1.15e+04 loss_decoder:  -0.64 loss_discriminator:  0.651 loss_mse_layer: 1.15e+04 loss_kld:   18.8 epoch:     75\n",
            "Batch: 0/2 [] ETA:  --:--:-- loss_nle: ------ loss_encoder: ------ loss_decoder: ------ loss_discriminator: ------ loss_mse_layer: ------ loss_kld: ------ epoch: ------"
          ],
          "name": "stderr"
        },
        {
          "output_type": "stream",
          "text": [
            "75\n",
            "LR:[1.2785449732837765e-13]\n"
          ],
          "name": "stdout"
        },
        {
          "output_type": "stream",
          "text": [
            "Batch: 2/2 [] Time:  0:00:01 loss_nle: 0.0831 loss_encoder: 1.14e+04 loss_decoder: -0.544 loss_discriminator:  0.555 loss_mse_layer: 1.13e+04 loss_kld:   17.7 epoch:     76\n",
            "Batch: 0/2 [] ETA:  --:--:-- loss_nle: ------ loss_encoder: ------ loss_decoder: ------ loss_discriminator: ------ loss_mse_layer: ------ loss_kld: ------ epoch: ------"
          ],
          "name": "stderr"
        },
        {
          "output_type": "stream",
          "text": [
            "76\n",
            "LR:[9.589087299628324e-14]\n"
          ],
          "name": "stdout"
        },
        {
          "output_type": "stream",
          "text": [
            "Batch: 2/2 [] Time:  0:00:01 loss_nle: 0.0835 loss_encoder: 1.1e+04 loss_decoder:  -0.63 loss_discriminator:  0.641 loss_mse_layer: 1.09e+04 loss_kld:   15.4 epoch:     77\n",
            "Batch: 0/2 [] ETA:  --:--:-- loss_nle: ------ loss_encoder: ------ loss_decoder: ------ loss_discriminator: ------ loss_mse_layer: ------ loss_kld: ------ epoch: ------"
          ],
          "name": "stderr"
        },
        {
          "output_type": "stream",
          "text": [
            "77\n",
            "LR:[7.191815474721242e-14]\n"
          ],
          "name": "stdout"
        },
        {
          "output_type": "stream",
          "text": [
            "Batch: 2/2 [] Time:  0:00:01 loss_nle: 0.0838 loss_encoder: 1.14e+04 loss_decoder: -0.681 loss_discriminator:  0.692 loss_mse_layer: 1.14e+04 loss_kld:   17.8 epoch:     78\n",
            "Batch: 0/2 [] ETA:  --:--:-- loss_nle: ------ loss_encoder: ------ loss_decoder: ------ loss_discriminator: ------ loss_mse_layer: ------ loss_kld: ------ epoch: ------"
          ],
          "name": "stderr"
        },
        {
          "output_type": "stream",
          "text": [
            "78\n",
            "LR:[5.393861606040931e-14]\n"
          ],
          "name": "stdout"
        },
        {
          "output_type": "stream",
          "text": [
            "Batch: 2/2 [] Time:  0:00:01 loss_nle:  0.084 loss_encoder: 1.18e+04 loss_decoder: -0.666 loss_discriminator:  0.677 loss_mse_layer: 1.18e+04 loss_kld:   17.7 epoch:     79\n",
            "Batch: 0/2 [] ETA:  --:--:-- loss_nle: ------ loss_encoder: ------ loss_decoder: ------ loss_discriminator: ------ loss_mse_layer: ------ loss_kld: ------ epoch: ------"
          ],
          "name": "stderr"
        },
        {
          "output_type": "stream",
          "text": [
            "79\n",
            "LR:[4.0453962045306983e-14]\n"
          ],
          "name": "stdout"
        },
        {
          "output_type": "stream",
          "text": [
            "Batch: 2/2 [] Time:  0:00:01 loss_nle: 0.0837 loss_encoder: 1.15e+04 loss_decoder: -0.638 loss_discriminator:  0.649 loss_mse_layer: 1.15e+04 loss_kld:   18.6 epoch:     80\n",
            "Batch: 0/2 [] ETA:  --:--:-- loss_nle: ------ loss_encoder: ------ loss_decoder: ------ loss_discriminator: ------ loss_mse_layer: ------ loss_kld: ------ epoch: ------"
          ],
          "name": "stderr"
        },
        {
          "output_type": "stream",
          "text": [
            "80\n",
            "LR:[3.034047153398024e-14]\n"
          ],
          "name": "stdout"
        },
        {
          "output_type": "stream",
          "text": [
            "Batch: 2/2 [] Time:  0:00:01 loss_nle: 0.0831 loss_encoder: 1.1e+04 loss_decoder: -0.553 loss_discriminator:  0.564 loss_mse_layer: 1.09e+04 loss_kld:   16.6 epoch:     81\n",
            "Batch: 0/2 [] ETA:  --:--:-- loss_nle: ------ loss_encoder: ------ loss_decoder: ------ loss_discriminator: ------ loss_mse_layer: ------ loss_kld: ------ epoch: ------"
          ],
          "name": "stderr"
        },
        {
          "output_type": "stream",
          "text": [
            "81\n",
            "LR:[2.2755353650485182e-14]\n"
          ],
          "name": "stdout"
        },
        {
          "output_type": "stream",
          "text": [
            "Batch: 2/2 [] Time:  0:00:01 loss_nle: 0.0838 loss_encoder: 1.15e+04 loss_decoder: -0.675 loss_discriminator:  0.687 loss_mse_layer: 1.14e+04 loss_kld:   17.8 epoch:     82\n",
            "Batch: 0/2 [] ETA:  --:--:-- loss_nle: ------ loss_encoder: ------ loss_decoder: ------ loss_discriminator: ------ loss_mse_layer: ------ loss_kld: ------ epoch: ------"
          ],
          "name": "stderr"
        },
        {
          "output_type": "stream",
          "text": [
            "82\n",
            "LR:[1.7066515237863884e-14]\n"
          ],
          "name": "stdout"
        },
        {
          "output_type": "stream",
          "text": [
            "Batch: 2/2 [] Time:  0:00:01 loss_nle: 0.0836 loss_encoder: 1.14e+04 loss_decoder: -0.601 loss_discriminator:  0.612 loss_mse_layer: 1.13e+04 loss_kld:   18.5 epoch:     83\n",
            "Batch: 0/2 [] ETA:  --:--:-- loss_nle: ------ loss_encoder: ------ loss_decoder: ------ loss_discriminator: ------ loss_mse_layer: ------ loss_kld: ------ epoch: ------"
          ],
          "name": "stderr"
        },
        {
          "output_type": "stream",
          "text": [
            "83\n",
            "LR:[1.2799886428397913e-14]\n"
          ],
          "name": "stdout"
        },
        {
          "output_type": "stream",
          "text": [
            "Batch: 2/2 [] Time:  0:00:01 loss_nle: 0.0837 loss_encoder: 1.14e+04 loss_decoder: -0.627 loss_discriminator:  0.639 loss_mse_layer: 1.14e+04 loss_kld:   17.6 epoch:     84\n",
            "Batch: 0/2 [] ETA:  --:--:-- loss_nle: ------ loss_encoder: ------ loss_decoder: ------ loss_discriminator: ------ loss_mse_layer: ------ loss_kld: ------ epoch: ------"
          ],
          "name": "stderr"
        },
        {
          "output_type": "stream",
          "text": [
            "84\n",
            "LR:[9.599914821298436e-15]\n"
          ],
          "name": "stdout"
        },
        {
          "output_type": "stream",
          "text": [
            "Batch: 2/2 [] Time:  0:00:01 loss_nle:  0.084 loss_encoder: 1.1e+04 loss_decoder: -0.654 loss_discriminator:  0.665 loss_mse_layer: 1.1e+04 loss_kld:   17.9 epoch:     85\n",
            "Batch: 0/2 [] ETA:  --:--:-- loss_nle: ------ loss_encoder: ------ loss_decoder: ------ loss_discriminator: ------ loss_mse_layer: ------ loss_kld: ------ epoch: ------"
          ],
          "name": "stderr"
        },
        {
          "output_type": "stream",
          "text": [
            "85\n",
            "LR:[7.199936115973827e-15]\n"
          ],
          "name": "stdout"
        },
        {
          "output_type": "stream",
          "text": [
            "Batch: 2/2 [] Time:  0:00:01 loss_nle: 0.0839 loss_encoder: 1.16e+04 loss_decoder: -0.626 loss_discriminator:  0.638 loss_mse_layer: 1.16e+04 loss_kld:   17.4 epoch:     86\n",
            "Batch: 0/2 [] ETA:  --:--:-- loss_nle: ------ loss_encoder: ------ loss_decoder: ------ loss_discriminator: ------ loss_mse_layer: ------ loss_kld: ------ epoch: ------"
          ],
          "name": "stderr"
        },
        {
          "output_type": "stream",
          "text": [
            "86\n",
            "LR:[5.399952086980369e-15]\n"
          ],
          "name": "stdout"
        },
        {
          "output_type": "stream",
          "text": [
            "Batch: 2/2 [] Time:  0:00:01 loss_nle: 0.0833 loss_encoder: 1.12e+04 loss_decoder:  -0.53 loss_discriminator:  0.542 loss_mse_layer: 1.12e+04 loss_kld:   15.9 epoch:     87\n",
            "Batch: 0/2 [] ETA:  --:--:-- loss_nle: ------ loss_encoder: ------ loss_decoder: ------ loss_discriminator: ------ loss_mse_layer: ------ loss_kld: ------ epoch: ------"
          ],
          "name": "stderr"
        },
        {
          "output_type": "stream",
          "text": [
            "87\n",
            "LR:[4.049964065235278e-15]\n"
          ],
          "name": "stdout"
        },
        {
          "output_type": "stream",
          "text": [
            "Batch: 2/2 [] Time:  0:00:01 loss_nle: 0.0835 loss_encoder: 1.13e+04 loss_decoder: -0.637 loss_discriminator:  0.648 loss_mse_layer: 1.13e+04 loss_kld:   18.5 epoch:     88\n",
            "Batch: 0/2 [] ETA:  --:--:-- loss_nle: ------ loss_encoder: ------ loss_decoder: ------ loss_discriminator: ------ loss_mse_layer: ------ loss_kld: ------ epoch: ------"
          ],
          "name": "stderr"
        },
        {
          "output_type": "stream",
          "text": [
            "88\n",
            "LR:[3.0374730489264584e-15]\n"
          ],
          "name": "stdout"
        },
        {
          "output_type": "stream",
          "text": [
            "Batch: 2/2 [] Time:  0:00:01 loss_nle: 0.0834 loss_encoder: 1.15e+04 loss_decoder: -0.606 loss_discriminator:  0.617 loss_mse_layer: 1.15e+04 loss_kld:   18.2 epoch:     89\n",
            "Batch: 0/2 [] ETA:  --:--:-- loss_nle: ------ loss_encoder: ------ loss_decoder: ------ loss_discriminator: ------ loss_mse_layer: ------ loss_kld: ------ epoch: ------"
          ],
          "name": "stderr"
        },
        {
          "output_type": "stream",
          "text": [
            "89\n",
            "LR:[2.2781047866948436e-15]\n"
          ],
          "name": "stdout"
        },
        {
          "output_type": "stream",
          "text": [
            "Batch: 2/2 [] Time:  0:00:01 loss_nle: 0.0832 loss_encoder: 1.14e+04 loss_decoder: -0.552 loss_discriminator:  0.564 loss_mse_layer: 1.14e+04 loss_kld:   17.7 epoch:     90\n",
            "Batch: 0/2 [] ETA:  --:--:-- loss_nle: ------ loss_encoder: ------ loss_decoder: ------ loss_discriminator: ------ loss_mse_layer: ------ loss_kld: ------ epoch: ------"
          ],
          "name": "stderr"
        },
        {
          "output_type": "stream",
          "text": [
            "90\n",
            "LR:[1.7085785900211325e-15]\n"
          ],
          "name": "stdout"
        },
        {
          "output_type": "stream",
          "text": [
            "Batch: 2/2 [] Time:  0:00:01 loss_nle: 0.0834 loss_encoder: 1.15e+04 loss_decoder: -0.572 loss_discriminator:  0.584 loss_mse_layer: 1.15e+04 loss_kld:   17.7 epoch:     91\n",
            "Batch: 0/2 [] ETA:  --:--:-- loss_nle: ------ loss_encoder: ------ loss_decoder: ------ loss_discriminator: ------ loss_mse_layer: ------ loss_kld: ------ epoch: ------"
          ],
          "name": "stderr"
        },
        {
          "output_type": "stream",
          "text": [
            "91\n",
            "LR:[1.2814339425158495e-15]\n"
          ],
          "name": "stdout"
        },
        {
          "output_type": "stream",
          "text": [
            "Batch: 2/2 [] Time:  0:00:01 loss_nle: 0.0831 loss_encoder: 1.16e+04 loss_decoder: -0.574 loss_discriminator:  0.585 loss_mse_layer: 1.15e+04 loss_kld:   18.1 epoch:     92\n",
            "Batch: 0/2 [] ETA:  --:--:-- loss_nle: ------ loss_encoder: ------ loss_decoder: ------ loss_discriminator: ------ loss_mse_layer: ------ loss_kld: ------ epoch: ------"
          ],
          "name": "stderr"
        },
        {
          "output_type": "stream",
          "text": [
            "92\n",
            "LR:[9.610754568868871e-16]\n"
          ],
          "name": "stdout"
        },
        {
          "output_type": "stream",
          "text": [
            "Batch: 2/2 [] Time:  0:00:01 loss_nle:  0.083 loss_encoder: 1.14e+04 loss_decoder: -0.528 loss_discriminator:  0.539 loss_mse_layer: 1.14e+04 loss_kld:   17.5 epoch:     93\n",
            "Batch: 0/2 [] ETA:  --:--:-- loss_nle: ------ loss_encoder: ------ loss_decoder: ------ loss_discriminator: ------ loss_mse_layer: ------ loss_kld: ------ epoch: ------"
          ],
          "name": "stderr"
        },
        {
          "output_type": "stream",
          "text": [
            "93\n",
            "LR:[7.208065926651654e-16]\n"
          ],
          "name": "stdout"
        },
        {
          "output_type": "stream",
          "text": [
            "Batch: 2/2 [] Time:  0:00:01 loss_nle:  0.084 loss_encoder: 1.16e+04 loss_decoder: -0.684 loss_discriminator:  0.695 loss_mse_layer: 1.16e+04 loss_kld:   17.8 epoch:     94\n",
            "Batch: 0/2 [] ETA:  --:--:-- loss_nle: ------ loss_encoder: ------ loss_decoder: ------ loss_discriminator: ------ loss_mse_layer: ------ loss_kld: ------ epoch: ------"
          ],
          "name": "stderr"
        },
        {
          "output_type": "stream",
          "text": [
            "94\n",
            "LR:[5.40604944498874e-16]\n"
          ],
          "name": "stdout"
        },
        {
          "output_type": "stream",
          "text": [
            "Batch: 2/2 [] Time:  0:00:01 loss_nle: 0.0837 loss_encoder: 1.12e+04 loss_decoder: -0.629 loss_discriminator:   0.64 loss_mse_layer: 1.12e+04 loss_kld:   17.7 epoch:     95\n",
            "Batch: 0/2 [] ETA:  --:--:-- loss_nle: ------ loss_encoder: ------ loss_decoder: ------ loss_discriminator: ------ loss_mse_layer: ------ loss_kld: ------ epoch: ------"
          ],
          "name": "stderr"
        },
        {
          "output_type": "stream",
          "text": [
            "95\n",
            "LR:[4.0545370837415554e-16]\n"
          ],
          "name": "stdout"
        },
        {
          "output_type": "stream",
          "text": [
            "Batch: 2/2 [] Time:  0:00:01 loss_nle: 0.0836 loss_encoder: 1.15e+04 loss_decoder: -0.627 loss_discriminator:  0.638 loss_mse_layer: 1.14e+04 loss_kld:   18.3 epoch:     96\n",
            "Batch: 0/2 [] ETA:  --:--:-- loss_nle: ------ loss_encoder: ------ loss_decoder: ------ loss_discriminator: ------ loss_mse_layer: ------ loss_kld: ------ epoch: ------"
          ],
          "name": "stderr"
        },
        {
          "output_type": "stream",
          "text": [
            "96\n",
            "LR:[3.040902812806166e-16]\n"
          ],
          "name": "stdout"
        },
        {
          "output_type": "stream",
          "text": [
            "Batch: 2/2 [] Time:  0:00:01 loss_nle: 0.0835 loss_encoder: 1.15e+04 loss_decoder: -0.616 loss_discriminator:  0.628 loss_mse_layer: 1.14e+04 loss_kld:   17.4 epoch:     97\n",
            "Batch: 0/2 [] ETA:  --:--:-- loss_nle: ------ loss_encoder: ------ loss_decoder: ------ loss_discriminator: ------ loss_mse_layer: ------ loss_kld: ------ epoch: ------"
          ],
          "name": "stderr"
        },
        {
          "output_type": "stream",
          "text": [
            "97\n",
            "LR:[2.2806771096046245e-16]\n"
          ],
          "name": "stdout"
        },
        {
          "output_type": "stream",
          "text": [
            "Batch: 2/2 [] Time:  0:00:01 loss_nle: 0.0835 loss_encoder: 1.16e+04 loss_decoder:  -0.65 loss_discriminator:  0.662 loss_mse_layer: 1.15e+04 loss_kld:   17.3 epoch:     98\n",
            "Batch: 0/2 [] ETA:  --:--:-- loss_nle: ------ loss_encoder: ------ loss_decoder: ------ loss_discriminator: ------ loss_mse_layer: ------ loss_kld: ------ epoch: ------"
          ],
          "name": "stderr"
        },
        {
          "output_type": "stream",
          "text": [
            "98\n",
            "LR:[1.7105078322034685e-16]\n"
          ],
          "name": "stdout"
        },
        {
          "output_type": "stream",
          "text": [
            "Batch: 2/2 [] Time:  0:00:01 loss_nle: 0.0828 loss_encoder: 1.13e+04 loss_decoder: -0.538 loss_discriminator:  0.549 loss_mse_layer: 1.13e+04 loss_kld:   18.4 epoch:     99\n",
            "Batch: 0/2 [] ETA:  --:--:-- loss_nle: ------ loss_encoder: ------ loss_decoder: ------ loss_discriminator: ------ loss_mse_layer: ------ loss_kld: ------ epoch: ------"
          ],
          "name": "stderr"
        },
        {
          "output_type": "stream",
          "text": [
            "99\n",
            "LR:[1.2828808741526015e-16]\n"
          ],
          "name": "stdout"
        },
        {
          "output_type": "stream",
          "text": [
            "Batch: 2/2 [] Time:  0:00:01 loss_nle:  0.084 loss_encoder: 1.16e+04 loss_decoder: -0.655 loss_discriminator:  0.666 loss_mse_layer: 1.16e+04 loss_kld:   11.4 epoch:    100\n",
            "Batch: 0/2 [] ETA:  --:--:-- loss_nle: ------ loss_encoder: ------ loss_decoder: ------ loss_discriminator: ------ loss_mse_layer: ------ loss_kld: ------ epoch: ------"
          ],
          "name": "stderr"
        },
        {
          "output_type": "stream",
          "text": [
            "100\n",
            "LR:[9.621606556144511e-17]\n"
          ],
          "name": "stdout"
        },
        {
          "output_type": "stream",
          "text": [
            "Batch: 2/2 [] Time:  0:00:01 loss_nle: 0.0838 loss_encoder: 1.13e+04 loss_decoder: -0.616 loss_discriminator:  0.627 loss_mse_layer: 1.13e+04 loss_kld:   17.7 epoch:    101\n",
            "Batch: 0/2 [] ETA:  --:--:-- loss_nle: ------ loss_encoder: ------ loss_decoder: ------ loss_discriminator: ------ loss_mse_layer: ------ loss_kld: ------ epoch: ------"
          ],
          "name": "stderr"
        },
        {
          "output_type": "stream",
          "text": [
            "101\n",
            "LR:[7.216204917108383e-17]\n"
          ],
          "name": "stdout"
        },
        {
          "output_type": "stream",
          "text": [
            "Batch: 2/2 [] Time:  0:00:01 loss_nle: 0.0842 loss_encoder: 1.13e+04 loss_decoder: -0.686 loss_discriminator:  0.697 loss_mse_layer: 1.13e+04 loss_kld:   18.7 epoch:    102\n",
            "Batch: 0/2 [] ETA:  --:--:-- loss_nle: ------ loss_encoder: ------ loss_decoder: ------ loss_discriminator: ------ loss_mse_layer: ------ loss_kld: ------ epoch: ------"
          ],
          "name": "stderr"
        },
        {
          "output_type": "stream",
          "text": [
            "102\n",
            "LR:[5.412153687831287e-17]\n"
          ],
          "name": "stdout"
        },
        {
          "output_type": "stream",
          "text": [
            "Batch: 2/2 [] Time:  0:00:01 loss_nle: 0.0833 loss_encoder: 1.13e+04 loss_decoder: -0.567 loss_discriminator:  0.578 loss_mse_layer: 1.12e+04 loss_kld:   17.6 epoch:    103\n",
            "Batch: 0/2 [] ETA:  --:--:-- loss_nle: ------ loss_encoder: ------ loss_decoder: ------ loss_discriminator: ------ loss_mse_layer: ------ loss_kld: ------ epoch: ------"
          ],
          "name": "stderr"
        },
        {
          "output_type": "stream",
          "text": [
            "103\n",
            "LR:[4.059115265873465e-17]\n"
          ],
          "name": "stdout"
        },
        {
          "output_type": "stream",
          "text": [
            "Batch: 2/2 [] Time:  0:00:01 loss_nle: 0.0838 loss_encoder: 1.17e+04 loss_decoder: -0.614 loss_discriminator:  0.625 loss_mse_layer: 1.17e+04 loss_kld:   18.6 epoch:    104\n",
            "Batch: 0/2 [] ETA:  --:--:-- loss_nle: ------ loss_encoder: ------ loss_decoder: ------ loss_discriminator: ------ loss_mse_layer: ------ loss_kld: ------ epoch: ------"
          ],
          "name": "stderr"
        },
        {
          "output_type": "stream",
          "text": [
            "104\n",
            "LR:[3.044336449405099e-17]\n"
          ],
          "name": "stdout"
        },
        {
          "output_type": "stream",
          "text": [
            "Batch: 2/2 [] Time:  0:00:01 loss_nle: 0.0836 loss_encoder: 1.13e+04 loss_decoder: -0.623 loss_discriminator:  0.634 loss_mse_layer: 1.13e+04 loss_kld:   12.6 epoch:    105\n",
            "Batch: 0/2 [] ETA:  --:--:-- loss_nle: ------ loss_encoder: ------ loss_decoder: ------ loss_discriminator: ------ loss_mse_layer: ------ loss_kld: ------ epoch: ------"
          ],
          "name": "stderr"
        },
        {
          "output_type": "stream",
          "text": [
            "105\n",
            "LR:[2.2832523370538243e-17]\n"
          ],
          "name": "stdout"
        },
        {
          "output_type": "stream",
          "text": [
            "Batch: 2/2 [] Time:  0:00:01 loss_nle: 0.0829 loss_encoder: 1.16e+04 loss_decoder: -0.565 loss_discriminator:  0.577 loss_mse_layer: 1.16e+04 loss_kld:   17.1 epoch:    106\n",
            "Batch: 0/2 [] ETA:  --:--:-- loss_nle: ------ loss_encoder: ------ loss_decoder: ------ loss_discriminator: ------ loss_mse_layer: ------ loss_kld: ------ epoch: ------"
          ],
          "name": "stderr"
        },
        {
          "output_type": "stream",
          "text": [
            "106\n",
            "LR:[1.7124392527903683e-17]\n"
          ],
          "name": "stdout"
        },
        {
          "output_type": "stream",
          "text": [
            "Batch: 2/2 [] Time:  0:00:01 loss_nle: 0.0838 loss_encoder: 1.13e+04 loss_decoder: -0.672 loss_discriminator:  0.684 loss_mse_layer: 1.12e+04 loss_kld:   19.1 epoch:    107\n",
            "Batch: 0/2 [] ETA:  --:--:-- loss_nle: ------ loss_encoder: ------ loss_decoder: ------ loss_discriminator: ------ loss_mse_layer: ------ loss_kld: ------ epoch: ------"
          ],
          "name": "stderr"
        },
        {
          "output_type": "stream",
          "text": [
            "107\n",
            "LR:[1.2843294395927761e-17]\n"
          ],
          "name": "stdout"
        },
        {
          "output_type": "stream",
          "text": [
            "Batch: 2/2 [] Time:  0:00:01 loss_nle: 0.0839 loss_encoder: 1.11e+04 loss_decoder: -0.656 loss_discriminator:  0.667 loss_mse_layer: 1.11e+04 loss_kld:   17.8 epoch:    108\n",
            "Batch: 0/2 [] ETA:  --:--:-- loss_nle: ------ loss_encoder: ------ loss_decoder: ------ loss_discriminator: ------ loss_mse_layer: ------ loss_kld: ------ epoch: ------"
          ],
          "name": "stderr"
        },
        {
          "output_type": "stream",
          "text": [
            "108\n",
            "LR:[9.632470796945821e-18]\n"
          ],
          "name": "stdout"
        },
        {
          "output_type": "stream",
          "text": [
            "Batch: 2/2 [] Time:  0:00:01 loss_nle: 0.0836 loss_encoder: 1.14e+04 loss_decoder: -0.649 loss_discriminator:   0.66 loss_mse_layer: 1.14e+04 loss_kld:   17.4 epoch:    109\n",
            "Batch: 0/2 [] ETA:  --:--:-- loss_nle: ------ loss_encoder: ------ loss_decoder: ------ loss_discriminator: ------ loss_mse_layer: ------ loss_kld: ------ epoch: ------"
          ],
          "name": "stderr"
        },
        {
          "output_type": "stream",
          "text": [
            "109\n",
            "LR:[7.224353097709365e-18]\n"
          ],
          "name": "stdout"
        },
        {
          "output_type": "stream",
          "text": [
            "Batch: 2/2 [] Time:  0:00:01 loss_nle: 0.0835 loss_encoder: 1.09e+04 loss_decoder: -0.603 loss_discriminator:  0.614 loss_mse_layer: 1.09e+04 loss_kld:   16.9 epoch:    110\n",
            "Batch: 0/2 [] ETA:  --:--:-- loss_nle: ------ loss_encoder: ------ loss_decoder: ------ loss_discriminator: ------ loss_mse_layer: ------ loss_kld: ------ epoch: ------"
          ],
          "name": "stderr"
        },
        {
          "output_type": "stream",
          "text": [
            "110\n",
            "LR:[5.418264823282025e-18]\n"
          ],
          "name": "stdout"
        },
        {
          "output_type": "stream",
          "text": [
            "Batch: 2/2 [] Time:  0:00:01 loss_nle: 0.0841 loss_encoder: 1.17e+04 loss_decoder: -0.668 loss_discriminator:   0.68 loss_mse_layer: 1.17e+04 loss_kld:   17.5 epoch:    111\n",
            "Batch: 0/2 [] ETA:  --:--:-- loss_nle: ------ loss_encoder: ------ loss_decoder: ------ loss_discriminator: ------ loss_mse_layer: ------ loss_kld: ------ epoch: ------"
          ],
          "name": "stderr"
        },
        {
          "output_type": "stream",
          "text": [
            "111\n",
            "LR:[4.063698617461518e-18]\n"
          ],
          "name": "stdout"
        },
        {
          "output_type": "stream",
          "text": [
            "Batch: 2/2 [] Time:  0:00:01 loss_nle: 0.0837 loss_encoder: 1.16e+04 loss_decoder: -0.606 loss_discriminator:  0.618 loss_mse_layer: 1.15e+04 loss_kld:     17 epoch:    112\n",
            "Batch: 0/2 [] ETA:  --:--:-- loss_nle: ------ loss_encoder: ------ loss_decoder: ------ loss_discriminator: ------ loss_mse_layer: ------ loss_kld: ------ epoch: ------"
          ],
          "name": "stderr"
        },
        {
          "output_type": "stream",
          "text": [
            "112\n",
            "LR:[3.0477739630961386e-18]\n"
          ],
          "name": "stdout"
        },
        {
          "output_type": "stream",
          "text": [
            "Batch: 2/2 [] Time:  0:00:01 loss_nle:  0.084 loss_encoder: 1.14e+04 loss_decoder:  -0.67 loss_discriminator:  0.682 loss_mse_layer: 1.14e+04 loss_kld:   18.1 epoch:    113\n",
            "Batch: 0/2 [] ETA:  --:--:-- loss_nle: ------ loss_encoder: ------ loss_decoder: ------ loss_discriminator: ------ loss_mse_layer: ------ loss_kld: ------ epoch: ------"
          ],
          "name": "stderr"
        },
        {
          "output_type": "stream",
          "text": [
            "113\n",
            "LR:[2.2858304723221044e-18]\n"
          ],
          "name": "stdout"
        },
        {
          "output_type": "stream",
          "text": [
            "Batch: 2/2 [] Time:  0:00:01 loss_nle: 0.0838 loss_encoder: 1.15e+04 loss_decoder: -0.636 loss_discriminator:  0.648 loss_mse_layer: 1.15e+04 loss_kld:   18.2 epoch:    114\n",
            "Batch: 0/2 [] ETA:  --:--:-- loss_nle: ------ loss_encoder: ------ loss_decoder: ------ loss_discriminator: ------ loss_mse_layer: ------ loss_kld: ------ epoch: ------"
          ],
          "name": "stderr"
        },
        {
          "output_type": "stream",
          "text": [
            "114\n",
            "LR:[1.714372854241578e-18]\n"
          ],
          "name": "stdout"
        },
        {
          "output_type": "stream",
          "text": [
            "Batch: 2/2 [] Time:  0:00:01 loss_nle: 0.0836 loss_encoder: 1.17e+04 loss_decoder: -0.579 loss_discriminator:  0.591 loss_mse_layer: 1.17e+04 loss_kld:   18.3 epoch:    115\n",
            "Batch: 0/2 [] ETA:  --:--:-- loss_nle: ------ loss_encoder: ------ loss_decoder: ------ loss_discriminator: ------ loss_mse_layer: ------ loss_kld: ------ epoch: ------"
          ],
          "name": "stderr"
        },
        {
          "output_type": "stream",
          "text": [
            "115\n",
            "LR:[1.2857796406811836e-18]\n"
          ],
          "name": "stdout"
        },
        {
          "output_type": "stream",
          "text": [
            "Batch: 2/2 [] Time:  0:00:01 loss_nle: 0.0839 loss_encoder: 1.11e+04 loss_decoder: -0.672 loss_discriminator:  0.683 loss_mse_layer: 1.11e+04 loss_kld:     17 epoch:    116\n",
            "Batch: 0/2 [] ETA:  --:--:-- loss_nle: ------ loss_encoder: ------ loss_decoder: ------ loss_discriminator: ------ loss_mse_layer: ------ loss_kld: ------ epoch: ------"
          ],
          "name": "stderr"
        },
        {
          "output_type": "stream",
          "text": [
            "116\n",
            "LR:[9.643347305108877e-19]\n"
          ],
          "name": "stdout"
        },
        {
          "output_type": "stream",
          "text": [
            "Batch: 2/2 [] Time:  0:00:01 loss_nle: 0.0838 loss_encoder: 1.14e+04 loss_decoder:  -0.64 loss_discriminator:  0.652 loss_mse_layer: 1.14e+04 loss_kld:   17.6 epoch:    117\n",
            "Batch: 0/2 [] ETA:  --:--:-- loss_nle: ------ loss_encoder: ------ loss_decoder: ------ loss_discriminator: ------ loss_mse_layer: ------ loss_kld: ------ epoch: ------"
          ],
          "name": "stderr"
        },
        {
          "output_type": "stream",
          "text": [
            "117\n",
            "LR:[7.232510478831657e-19]\n"
          ],
          "name": "stdout"
        },
        {
          "output_type": "stream",
          "text": [
            "Batch: 2/2 [] Time:  0:00:01 loss_nle: 0.0838 loss_encoder: 1.16e+04 loss_decoder: -0.627 loss_discriminator:  0.638 loss_mse_layer: 1.16e+04 loss_kld:   18.4 epoch:    118\n",
            "Batch: 0/2 [] ETA:  --:--:-- loss_nle: ------ loss_encoder: ------ loss_decoder: ------ loss_discriminator: ------ loss_mse_layer: ------ loss_kld: ------ epoch: ------"
          ],
          "name": "stderr"
        },
        {
          "output_type": "stream",
          "text": [
            "118\n",
            "LR:[5.424382859123743e-19]\n"
          ],
          "name": "stdout"
        },
        {
          "output_type": "stream",
          "text": [
            "Batch: 2/2 [] Time:  0:00:01 loss_nle: 0.0835 loss_encoder: 1.13e+04 loss_decoder: -0.586 loss_discriminator:  0.598 loss_mse_layer: 1.13e+04 loss_kld:   17.2 epoch:    119\n",
            "Batch: 0/2 [] ETA:  --:--:-- loss_nle: ------ loss_encoder: ------ loss_decoder: ------ loss_discriminator: ------ loss_mse_layer: ------ loss_kld: ------ epoch: ------"
          ],
          "name": "stderr"
        },
        {
          "output_type": "stream",
          "text": [
            "119\n",
            "LR:[4.0682871443428076e-19]\n"
          ],
          "name": "stdout"
        },
        {
          "output_type": "stream",
          "text": [
            "Batch: 2/2 [] Time:  0:00:01 loss_nle: 0.0837 loss_encoder: 1.15e+04 loss_decoder: -0.643 loss_discriminator:  0.654 loss_mse_layer: 1.15e+04 loss_kld:   17.5 epoch:    120\n",
            "Batch: 0/2 [] ETA:  --:--:-- loss_nle: ------ loss_encoder: ------ loss_decoder: ------ loss_discriminator: ------ loss_mse_layer: ------ loss_kld: ------ epoch: ------"
          ],
          "name": "stderr"
        },
        {
          "output_type": "stream",
          "text": [
            "120\n",
            "LR:[3.051215358257105e-19]\n"
          ],
          "name": "stdout"
        },
        {
          "output_type": "stream",
          "text": [
            "Batch: 2/2 [] Time:  0:00:01 loss_nle: 0.0834 loss_encoder: 1.11e+04 loss_decoder: -0.603 loss_discriminator:  0.614 loss_mse_layer: 1.11e+04 loss_kld:   18.1 epoch:    121\n",
            "Batch: 0/2 [] ETA:  --:--:-- loss_nle: ------ loss_encoder: ------ loss_decoder: ------ loss_discriminator: ------ loss_mse_layer: ------ loss_kld: ------ epoch: ------"
          ],
          "name": "stderr"
        },
        {
          "output_type": "stream",
          "text": [
            "121\n",
            "LR:[2.288411518692829e-19]\n"
          ],
          "name": "stdout"
        },
        {
          "output_type": "stream",
          "text": [
            "Batch: 2/2 [] Time:  0:00:01 loss_nle: 0.0834 loss_encoder: 1.13e+04 loss_decoder: -0.608 loss_discriminator:  0.619 loss_mse_layer: 1.13e+04 loss_kld:   17.1 epoch:    122\n",
            "Batch: 0/2 [] ETA:  --:--:-- loss_nle: ------ loss_encoder: ------ loss_decoder: ------ loss_discriminator: ------ loss_mse_layer: ------ loss_kld: ------ epoch: ------"
          ],
          "name": "stderr"
        },
        {
          "output_type": "stream",
          "text": [
            "122\n",
            "LR:[1.7163086390196218e-19]\n"
          ],
          "name": "stdout"
        },
        {
          "output_type": "stream",
          "text": [
            "Batch: 2/2 [] Time:  0:00:01 loss_nle:  0.084 loss_encoder: 1.16e+04 loss_decoder: -0.673 loss_discriminator:  0.684 loss_mse_layer: 1.16e+04 loss_kld:   17.8 epoch:    123\n",
            "Batch: 0/2 [] ETA:  --:--:-- loss_nle: ------ loss_encoder: ------ loss_decoder: ------ loss_discriminator: ------ loss_mse_layer: ------ loss_kld: ------ epoch: ------"
          ],
          "name": "stderr"
        },
        {
          "output_type": "stream",
          "text": [
            "123\n",
            "LR:[1.2872314792647164e-19]\n"
          ],
          "name": "stdout"
        },
        {
          "output_type": "error",
          "ename": "KeyboardInterrupt",
          "evalue": "ignored",
          "traceback": [
            "\u001b[0;31m---------------------------------------------------------------------------\u001b[0m",
            "\u001b[0;31mKeyboardInterrupt\u001b[0m                         Traceback (most recent call last)",
            "\u001b[0;32m<ipython-input-11-82ce89c43eb3>\u001b[0m in \u001b[0;36m<module>\u001b[0;34m()\u001b[0m\n\u001b[1;32m    135\u001b[0m             \u001b[0mloss_decoder\u001b[0m \u001b[0;34m=\u001b[0m \u001b[0mtorch\u001b[0m\u001b[0;34m.\u001b[0m\u001b[0msum\u001b[0m\u001b[0;34m(\u001b[0m\u001b[0mlambda_mse\u001b[0m \u001b[0;34m*\u001b[0m \u001b[0mmse_value\u001b[0m\u001b[0;34m)\u001b[0m \u001b[0;34m-\u001b[0m \u001b[0;34m(\u001b[0m\u001b[0;36m1.0\u001b[0m \u001b[0;34m-\u001b[0m \u001b[0mlambda_mse\u001b[0m\u001b[0;34m)\u001b[0m \u001b[0;34m*\u001b[0m \u001b[0mloss_discriminator\u001b[0m\u001b[0;34m\u001b[0m\u001b[0;34m\u001b[0m\u001b[0m\n\u001b[1;32m    136\u001b[0m             \u001b[0;31m# register mean values of the losses for logging\u001b[0m\u001b[0;34m\u001b[0m\u001b[0;34m\u001b[0m\u001b[0;34m\u001b[0m\u001b[0m\n\u001b[0;32m--> 137\u001b[0;31m             \u001b[0mloss_nle_mean\u001b[0m\u001b[0;34m(\u001b[0m\u001b[0mtorch\u001b[0m\u001b[0;34m.\u001b[0m\u001b[0mmean\u001b[0m\u001b[0;34m(\u001b[0m\u001b[0mnle_value\u001b[0m\u001b[0;34m)\u001b[0m\u001b[0;34m.\u001b[0m\u001b[0mdata\u001b[0m\u001b[0;34m.\u001b[0m\u001b[0mcpu\u001b[0m\u001b[0;34m(\u001b[0m\u001b[0;34m)\u001b[0m\u001b[0;34m.\u001b[0m\u001b[0mnumpy\u001b[0m\u001b[0;34m(\u001b[0m\u001b[0;34m)\u001b[0m\u001b[0;34m)\u001b[0m\u001b[0;34m\u001b[0m\u001b[0;34m\u001b[0m\u001b[0m\n\u001b[0m\u001b[1;32m    138\u001b[0m             \u001b[0mloss_discriminator_mean\u001b[0m\u001b[0;34m(\u001b[0m\u001b[0;34m(\u001b[0m\u001b[0mtorch\u001b[0m\u001b[0;34m.\u001b[0m\u001b[0mmean\u001b[0m\u001b[0;34m(\u001b[0m\u001b[0mbce_dis_original_value\u001b[0m\u001b[0;34m)\u001b[0m \u001b[0;34m+\u001b[0m \u001b[0mtorch\u001b[0m\u001b[0;34m.\u001b[0m\u001b[0mmean\u001b[0m\u001b[0;34m(\u001b[0m\u001b[0mbce_dis_sampled_value\u001b[0m\u001b[0;34m)\u001b[0m\u001b[0;34m)\u001b[0m\u001b[0;34m.\u001b[0m\u001b[0mdata\u001b[0m\u001b[0;34m.\u001b[0m\u001b[0mcpu\u001b[0m\u001b[0;34m(\u001b[0m\u001b[0;34m)\u001b[0m\u001b[0;34m.\u001b[0m\u001b[0mnumpy\u001b[0m\u001b[0;34m(\u001b[0m\u001b[0;34m)\u001b[0m\u001b[0;34m)\u001b[0m\u001b[0;34m\u001b[0m\u001b[0;34m\u001b[0m\u001b[0m\n\u001b[1;32m    139\u001b[0m             \u001b[0mloss_decoder_mean\u001b[0m\u001b[0;34m(\u001b[0m\u001b[0;34m(\u001b[0m\u001b[0mtorch\u001b[0m\u001b[0;34m.\u001b[0m\u001b[0mmean\u001b[0m\u001b[0;34m(\u001b[0m\u001b[0mlambda_mse\u001b[0m \u001b[0;34m*\u001b[0m \u001b[0mmse_value\u001b[0m\u001b[0;34m)\u001b[0m \u001b[0;34m-\u001b[0m \u001b[0;34m(\u001b[0m\u001b[0;36m1\u001b[0m \u001b[0;34m-\u001b[0m \u001b[0mlambda_mse\u001b[0m\u001b[0;34m)\u001b[0m \u001b[0;34m*\u001b[0m \u001b[0;34m(\u001b[0m\u001b[0mtorch\u001b[0m\u001b[0;34m.\u001b[0m\u001b[0mmean\u001b[0m\u001b[0;34m(\u001b[0m\u001b[0mbce_dis_original_value\u001b[0m\u001b[0;34m)\u001b[0m \u001b[0;34m+\u001b[0m \u001b[0mtorch\u001b[0m\u001b[0;34m.\u001b[0m\u001b[0mmean\u001b[0m\u001b[0;34m(\u001b[0m\u001b[0mbce_dis_sampled_value\u001b[0m\u001b[0;34m)\u001b[0m\u001b[0;34m)\u001b[0m\u001b[0;34m)\u001b[0m\u001b[0;34m.\u001b[0m\u001b[0mdata\u001b[0m\u001b[0;34m.\u001b[0m\u001b[0mcpu\u001b[0m\u001b[0;34m(\u001b[0m\u001b[0;34m)\u001b[0m\u001b[0;34m.\u001b[0m\u001b[0mnumpy\u001b[0m\u001b[0;34m(\u001b[0m\u001b[0;34m)\u001b[0m\u001b[0;34m)\u001b[0m\u001b[0;34m\u001b[0m\u001b[0;34m\u001b[0m\u001b[0m\n",
            "\u001b[0;31mKeyboardInterrupt\u001b[0m: "
          ]
        }
      ]
    },
    {
      "cell_type": "markdown",
      "metadata": {
        "id": "M0qklfnJ2uf6",
        "colab_type": "text"
      },
      "source": [
        "## PCA"
      ]
    },
    {
      "cell_type": "code",
      "metadata": {
        "id": "sKBeza_w2v8D",
        "colab_type": "code",
        "outputId": "2f8abf51-cb93-48dd-bab9-eddf57f0b84b",
        "colab": {
          "base_uri": "https://localhost:8080/",
          "height": 34
        }
      },
      "source": [
        "%matplotlib inline\n",
        "from sklearn.decomposition import PCA\n",
        "import numpy as np \n",
        "import torch \n",
        "import matplotlib.image as mpimg\n",
        "import matplotlib.pyplot as plt\n",
        "import pickle\n",
        "import time\n",
        "\n",
        "X = np.transpose(torch.load('{}/data/training_data_0.pt'.format(base_url)).data.numpy(), (0, 2, 3, 1))\n",
        "X = X[:,:,:, 0]\n",
        "X = X.reshape(X.shape[0], -1)\n",
        "# test = torch.load('{}/data/training_data_1.pt'.format(base_url)).data.numpy()\n",
        "start = time.time()\n",
        "pca = PCA(4, svd_solver='randomized').fit(X)\n",
        "print(time.time() - start)\n",
        "filename = '{}/PCA_model.pkl'.format(base_url)\n",
        "pickle.dump(pca, open(filename, 'wb'))\n",
        "\n",
        "# X_proj = pca.transform(X)"
      ],
      "execution_count": 0,
      "outputs": [
        {
          "output_type": "stream",
          "text": [
            "2.4885036945343018\n"
          ],
          "name": "stdout"
        }
      ]
    },
    {
      "cell_type": "code",
      "metadata": {
        "id": "5jO3XymZ-7CG",
        "colab_type": "code",
        "outputId": "7e287fd8-0d4b-4f0a-fa4a-591c25e3cd84",
        "colab": {
          "base_uri": "https://localhost:8080/",
          "height": 34
        }
      },
      "source": [
        "np.sum(pca.explained_variance_ratio_)"
      ],
      "execution_count": 0,
      "outputs": [
        {
          "output_type": "execute_result",
          "data": {
            "text/plain": [
              "0.1520653"
            ]
          },
          "metadata": {
            "tags": []
          },
          "execution_count": 6
        }
      ]
    },
    {
      "cell_type": "code",
      "metadata": {
        "id": "BxUn6LieEF9t",
        "colab_type": "code",
        "outputId": "eac98e75-0404-461e-8dcb-ad049e021e1d",
        "colab": {
          "base_uri": "https://localhost:8080/",
          "height": 34
        }
      },
      "source": [
        "X_proj.shape"
      ],
      "execution_count": 0,
      "outputs": [
        {
          "output_type": "execute_result",
          "data": {
            "text/plain": [
              "(14668, 64)"
            ]
          },
          "metadata": {
            "tags": []
          },
          "execution_count": 101
        }
      ]
    },
    {
      "cell_type": "code",
      "metadata": {
        "id": "f5uq34kEBBU4",
        "colab_type": "code",
        "outputId": "8cb32e68-71e0-4943-be75-14c074bcf36d",
        "colab": {
          "base_uri": "https://localhost:8080/",
          "height": 34
        }
      },
      "source": [
        "X_proj = pca.transform(X)\n",
        "temp = pca.inverse_transform(X_proj)\n",
        "temp = np.reshape(temp, (-1, 64, 64))\n",
        "temp.shape"
      ],
      "execution_count": 0,
      "outputs": [
        {
          "output_type": "execute_result",
          "data": {
            "text/plain": [
              "(14668, 64, 64)"
            ]
          },
          "metadata": {
            "tags": []
          },
          "execution_count": 8
        }
      ]
    },
    {
      "cell_type": "code",
      "metadata": {
        "id": "-pN3Isfw-rrf",
        "colab_type": "code",
        "outputId": "3d42cfb1-304b-41d8-b06b-386c1bc826c5",
        "colab": {
          "base_uri": "https://localhost:8080/",
          "height": 176
        }
      },
      "source": [
        "fig = plt.figure(figsize=(8,8)) \n",
        "fig.subplots_adjust(left=0, right=1, bottom=0, top=1, hspace=0.05, wspace=0.05)\n",
        "# plot the faces, each image is 64 by 64 pixels \n",
        "for i in range(10): \n",
        "    ax = fig.add_subplot(8, 8, i+1, xticks=[], yticks=[])\n",
        "    ax.imshow(temp[i], cmap=plt.cm.bone, interpolation='nearest')"
      ],
      "execution_count": 0,
      "outputs": [
        {
          "output_type": "display_data",
          "data": {
            "image/png": "[encoded data removed]",
            "text/plain": [
              "<Figure size 576x576 with 10 Axes>"
            ]
          },
          "metadata": {
            "tags": []
          }
        }
      ]
    },
    {
      "cell_type": "code",
      "metadata": {
        "id": "GweT7uek4Pa7",
        "colab_type": "code",
        "outputId": "9ec71daa-1b54-4a27-a3fb-eb96e4295130",
        "colab": {
          "base_uri": "https://localhost:8080/"
        }
      },
      "source": [
        "fig = plt.figure(figsize=(8,8)) \n",
        "fig.subplots_adjust(left=0, right=1, bottom=0, top=1, hspace=0.05, wspace=0.05)\n",
        "for i in range(10):\n",
        "    ax = fig.add_subplot(8, 8, i+1, xticks=[], yticks=[]) \n",
        "    ax.imshow(X[i].reshape(64, 64), cmap=plt.cm.bone, interpolation='nearest')"
      ],
      "execution_count": 0,
      "outputs": [
        {
          "output_type": "display_data",
          "data": {
            "image/png": "[encoded data removed]",
            "text/plain": [
              "<Figure size 576x576 with 10 Axes>"
            ]
          },
          "metadata": {
            "tags": []
          }
        }
      ]
    }
  ]
}